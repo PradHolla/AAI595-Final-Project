{
 "cells": [
  {
   "cell_type": "code",
   "execution_count": 34,
   "metadata": {},
   "outputs": [],
   "source": [
    "import torch\n",
    "import torchvision.models as models\n",
    "from torch.utils.data import DataLoader\n",
    "from torch.utils.data import random_split\n",
    "import torchvision\n",
    "import torchvision.transforms as transforms\n",
    "import torch.optim as optim\n",
    "from tqdm import tqdm"
   ]
  },
  {
   "cell_type": "code",
   "execution_count": 35,
   "metadata": {},
   "outputs": [],
   "source": [
    "# Data augmentation for training\n",
    "transform_train = transforms.Compose([\n",
    "    transforms.RandomCrop(32, padding=4),\n",
    "    transforms.RandomHorizontalFlip(),\n",
    "    transforms.ToTensor(),\n",
    "    transforms.Normalize((0.5071, 0.4867, 0.4408), (0.2675, 0.2565, 0.2761))\n",
    "])\n",
    "\n",
    "# For validation/testing\n",
    "transform_test = transforms.Compose([\n",
    "    transforms.ToTensor(),\n",
    "    transforms.Normalize((0.5071, 0.4867, 0.4408), (0.2675, 0.2565, 0.2761))\n",
    "])\n",
    "\n",
    "trainset = torchvision.datasets.CIFAR100(root='./data', train=True, download=True, transform=transform_train)\n",
    "testset = torchvision.datasets.CIFAR100(root='./data', train=False, download=True, transform=transform_test)"
   ]
  },
  {
   "cell_type": "code",
   "execution_count": 36,
   "metadata": {},
   "outputs": [],
   "source": [
    "train_loader = DataLoader(trainset, batch_size=128, shuffle=True, num_workers=4, pin_memory=True)\n",
    "test_loader = DataLoader(testset, batch_size=128, shuffle=False, num_workers=4, pin_memory=True)"
   ]
  },
  {
   "cell_type": "code",
   "execution_count": 37,
   "metadata": {},
   "outputs": [],
   "source": [
    "# Initialize ResNet18 model for CIFAR100 (100 classes)\n",
    "model = models.resnet18(weights=None)  # Start from scratch for a true baseline\n",
    "\n",
    "model.conv1 = torch.nn.Conv2d(3, 64, kernel_size=3, stride=1, padding=1, bias=False)\n",
    "\n",
    "# Adjust final fully connected layer for 100 classes\n",
    "model.fc = torch.nn.Linear(model.fc.in_features, 100)\n",
    "model = model.cuda()"
   ]
  },
  {
   "cell_type": "code",
   "execution_count": 38,
   "metadata": {},
   "outputs": [],
   "source": [
    "device = torch.device(\"cuda\" if torch.cuda.is_available() else \"cpu\")\n",
    "# model = model.to(device)"
   ]
  },
  {
   "cell_type": "code",
   "execution_count": 39,
   "metadata": {},
   "outputs": [],
   "source": [
    "criterion = torch.nn.CrossEntropyLoss()\n",
    "\n",
    "# Initialize the optimizer\n",
    "optimizer = optim.SGD(model.parameters(), lr=0.1, momentum=0.9, weight_decay=5e-4)\n",
    "\n",
    "# Initialize the scheduler\n",
    "scheduler = optim.lr_scheduler.CosineAnnealingLR(optimizer, T_max=200)"
   ]
  },
  {
   "cell_type": "code",
   "execution_count": 40,
   "metadata": {},
   "outputs": [
    {
     "name": "stderr",
     "output_type": "stream",
     "text": [
      "Epoch 1/100 [Train]:   0%|          | 0/391 [00:00<?, ?it/s]"
     ]
    },
    {
     "name": "stderr",
     "output_type": "stream",
     "text": [
      "Epoch 1/100 [Train]: 100%|██████████| 391/391 [00:13<00:00, 28.96it/s, loss=3.8290, acc=11.41%, lr=0.100000]\n",
      "Epoch 1/100 [Test]: 100%|██████████| 79/79 [00:01<00:00, 50.71it/s, loss=3.3807, acc=17.77%] \n"
     ]
    },
    {
     "name": "stdout",
     "output_type": "stream",
     "text": [
      "Checkpoint saved! New best accuracy: 17.77%\n",
      "Epoch: 1/100 | Train Loss: 3.8290 | Train Acc: 11.41% | Test Loss: 3.3807 | Test Acc: 17.77%\n"
     ]
    },
    {
     "name": "stderr",
     "output_type": "stream",
     "text": [
      "Epoch 2/100 [Train]: 100%|██████████| 391/391 [00:13<00:00, 28.34it/s, loss=3.1463, acc=21.85%, lr=0.099994]\n",
      "Epoch 2/100 [Test]: 100%|██████████| 79/79 [00:02<00:00, 37.94it/s, loss=2.9554, acc=25.49%]\n"
     ]
    },
    {
     "name": "stdout",
     "output_type": "stream",
     "text": [
      "Checkpoint saved! New best accuracy: 25.49%\n",
      "Epoch: 2/100 | Train Loss: 3.1463 | Train Acc: 21.85% | Test Loss: 2.9554 | Test Acc: 25.49%\n"
     ]
    },
    {
     "name": "stderr",
     "output_type": "stream",
     "text": [
      "Epoch 3/100 [Train]: 100%|██████████| 391/391 [00:13<00:00, 27.98it/s, loss=2.7514, acc=29.56%, lr=0.099975]\n",
      "Epoch 3/100 [Test]: 100%|██████████| 79/79 [00:02<00:00, 27.97it/s, loss=2.8434, acc=28.19%]\n"
     ]
    },
    {
     "name": "stdout",
     "output_type": "stream",
     "text": [
      "Checkpoint saved! New best accuracy: 28.19%\n",
      "Epoch: 3/100 | Train Loss: 2.7514 | Train Acc: 29.56% | Test Loss: 2.8434 | Test Acc: 28.19%\n"
     ]
    },
    {
     "name": "stderr",
     "output_type": "stream",
     "text": [
      "Epoch 4/100 [Train]: 100%|██████████| 391/391 [00:12<00:00, 30.84it/s, loss=2.4867, acc=34.54%, lr=0.099944]\n",
      "Epoch 4/100 [Test]: 100%|██████████| 79/79 [00:02<00:00, 37.33it/s, loss=2.4200, acc=36.10%]\n"
     ]
    },
    {
     "name": "stdout",
     "output_type": "stream",
     "text": [
      "Checkpoint saved! New best accuracy: 36.10%\n",
      "Epoch: 4/100 | Train Loss: 2.4867 | Train Acc: 34.54% | Test Loss: 2.4200 | Test Acc: 36.10%\n"
     ]
    },
    {
     "name": "stderr",
     "output_type": "stream",
     "text": [
      "Epoch 5/100 [Train]: 100%|██████████| 391/391 [00:14<00:00, 27.67it/s, loss=2.2939, acc=38.75%, lr=0.099901]\n",
      "Epoch 5/100 [Test]: 100%|██████████| 79/79 [00:02<00:00, 35.12it/s, loss=2.2515, acc=40.12%]\n"
     ]
    },
    {
     "name": "stdout",
     "output_type": "stream",
     "text": [
      "Checkpoint saved! New best accuracy: 40.12%\n",
      "Epoch: 5/100 | Train Loss: 2.2939 | Train Acc: 38.75% | Test Loss: 2.2515 | Test Acc: 40.12%\n"
     ]
    },
    {
     "name": "stderr",
     "output_type": "stream",
     "text": [
      "Epoch 6/100 [Train]: 100%|██████████| 391/391 [00:14<00:00, 27.65it/s, loss=2.1632, acc=41.54%, lr=0.099846]\n",
      "Epoch 6/100 [Test]: 100%|██████████| 79/79 [00:03<00:00, 26.08it/s, loss=2.2611, acc=40.81%]\n"
     ]
    },
    {
     "name": "stdout",
     "output_type": "stream",
     "text": [
      "Checkpoint saved! New best accuracy: 40.81%\n",
      "Epoch: 6/100 | Train Loss: 2.1632 | Train Acc: 41.54% | Test Loss: 2.2611 | Test Acc: 40.81%\n"
     ]
    },
    {
     "name": "stderr",
     "output_type": "stream",
     "text": [
      "Epoch 7/100 [Train]: 100%|██████████| 391/391 [00:13<00:00, 28.36it/s, loss=2.0545, acc=44.28%, lr=0.099778]\n",
      "Epoch 7/100 [Test]: 100%|██████████| 79/79 [00:02<00:00, 27.71it/s, loss=2.2165, acc=42.16%]\n"
     ]
    },
    {
     "name": "stdout",
     "output_type": "stream",
     "text": [
      "Checkpoint saved! New best accuracy: 42.16%\n",
      "Epoch: 7/100 | Train Loss: 2.0545 | Train Acc: 44.28% | Test Loss: 2.2165 | Test Acc: 42.16%\n"
     ]
    },
    {
     "name": "stderr",
     "output_type": "stream",
     "text": [
      "Epoch 8/100 [Train]: 100%|██████████| 391/391 [00:14<00:00, 27.14it/s, loss=1.9585, acc=46.50%, lr=0.099698]\n",
      "Epoch 8/100 [Test]: 100%|██████████| 79/79 [00:02<00:00, 33.79it/s, loss=2.2171, acc=42.64%]\n"
     ]
    },
    {
     "name": "stdout",
     "output_type": "stream",
     "text": [
      "Checkpoint saved! New best accuracy: 42.64%\n",
      "Epoch: 8/100 | Train Loss: 1.9585 | Train Acc: 46.50% | Test Loss: 2.2171 | Test Acc: 42.64%\n"
     ]
    },
    {
     "name": "stderr",
     "output_type": "stream",
     "text": [
      "Epoch 9/100 [Train]: 100%|██████████| 391/391 [00:14<00:00, 27.05it/s, loss=1.8843, acc=48.20%, lr=0.099606]\n",
      "Epoch 9/100 [Test]: 100%|██████████| 79/79 [00:02<00:00, 29.56it/s, loss=2.1964, acc=44.01%]\n"
     ]
    },
    {
     "name": "stdout",
     "output_type": "stream",
     "text": [
      "Checkpoint saved! New best accuracy: 44.01%\n",
      "Epoch: 9/100 | Train Loss: 1.8843 | Train Acc: 48.20% | Test Loss: 2.1964 | Test Acc: 44.01%\n"
     ]
    },
    {
     "name": "stderr",
     "output_type": "stream",
     "text": [
      "Epoch 10/100 [Train]: 100%|██████████| 391/391 [00:13<00:00, 29.93it/s, loss=1.8196, acc=49.41%, lr=0.099501]\n",
      "Epoch 10/100 [Test]: 100%|██████████| 79/79 [00:03<00:00, 26.23it/s, loss=2.2540, acc=42.61%]\n"
     ]
    },
    {
     "name": "stdout",
     "output_type": "stream",
     "text": [
      "Epoch: 10/100 | Train Loss: 1.8196 | Train Acc: 49.41% | Test Loss: 2.2540 | Test Acc: 42.61%\n"
     ]
    },
    {
     "name": "stderr",
     "output_type": "stream",
     "text": [
      "Epoch 11/100 [Train]: 100%|██████████| 391/391 [00:14<00:00, 27.29it/s, loss=1.7601, acc=51.10%, lr=0.099384]\n",
      "Epoch 11/100 [Test]: 100%|██████████| 79/79 [00:02<00:00, 34.08it/s, loss=2.2079, acc=44.01%]\n"
     ]
    },
    {
     "name": "stdout",
     "output_type": "stream",
     "text": [
      "Epoch: 11/100 | Train Loss: 1.7601 | Train Acc: 51.10% | Test Loss: 2.2079 | Test Acc: 44.01%\n"
     ]
    },
    {
     "name": "stderr",
     "output_type": "stream",
     "text": [
      "Epoch 12/100 [Train]: 100%|██████████| 391/391 [00:13<00:00, 28.27it/s, loss=1.7210, acc=52.14%, lr=0.099255]\n",
      "Epoch 12/100 [Test]: 100%|██████████| 79/79 [00:02<00:00, 26.68it/s, loss=2.0475, acc=45.59%]\n"
     ]
    },
    {
     "name": "stdout",
     "output_type": "stream",
     "text": [
      "Checkpoint saved! New best accuracy: 45.59%\n",
      "Epoch: 12/100 | Train Loss: 1.7210 | Train Acc: 52.14% | Test Loss: 2.0475 | Test Acc: 45.59%\n"
     ]
    },
    {
     "name": "stderr",
     "output_type": "stream",
     "text": [
      "Epoch 13/100 [Train]: 100%|██████████| 391/391 [00:14<00:00, 27.39it/s, loss=1.6801, acc=53.01%, lr=0.099114]\n",
      "Epoch 13/100 [Test]: 100%|██████████| 79/79 [00:03<00:00, 26.14it/s, loss=1.8154, acc=50.98%]\n"
     ]
    },
    {
     "name": "stdout",
     "output_type": "stream",
     "text": [
      "Checkpoint saved! New best accuracy: 50.98%\n",
      "Epoch: 13/100 | Train Loss: 1.6801 | Train Acc: 53.01% | Test Loss: 1.8154 | Test Acc: 50.98%\n"
     ]
    },
    {
     "name": "stderr",
     "output_type": "stream",
     "text": [
      "Epoch 14/100 [Train]: 100%|██████████| 391/391 [00:14<00:00, 27.74it/s, loss=1.6394, acc=54.24%, lr=0.098961]\n",
      "Epoch 14/100 [Test]: 100%|██████████| 79/79 [00:02<00:00, 33.11it/s, loss=1.8816, acc=49.30%]\n"
     ]
    },
    {
     "name": "stdout",
     "output_type": "stream",
     "text": [
      "Epoch: 14/100 | Train Loss: 1.6394 | Train Acc: 54.24% | Test Loss: 1.8816 | Test Acc: 49.30%\n"
     ]
    },
    {
     "name": "stderr",
     "output_type": "stream",
     "text": [
      "Epoch 15/100 [Train]: 100%|██████████| 391/391 [00:13<00:00, 29.63it/s, loss=1.6121, acc=54.57%, lr=0.098796]\n",
      "Epoch 15/100 [Test]: 100%|██████████| 79/79 [00:01<00:00, 44.34it/s, loss=2.0229, acc=47.75%]\n"
     ]
    },
    {
     "name": "stdout",
     "output_type": "stream",
     "text": [
      "Epoch: 15/100 | Train Loss: 1.6121 | Train Acc: 54.57% | Test Loss: 2.0229 | Test Acc: 47.75%\n"
     ]
    },
    {
     "name": "stderr",
     "output_type": "stream",
     "text": [
      "Epoch 16/100 [Train]: 100%|██████████| 391/391 [00:14<00:00, 27.55it/s, loss=1.5820, acc=55.45%, lr=0.098618]\n",
      "Epoch 16/100 [Test]: 100%|██████████| 79/79 [00:02<00:00, 33.53it/s, loss=1.8599, acc=50.81%]\n"
     ]
    },
    {
     "name": "stdout",
     "output_type": "stream",
     "text": [
      "Epoch: 16/100 | Train Loss: 1.5820 | Train Acc: 55.45% | Test Loss: 1.8599 | Test Acc: 50.81%\n"
     ]
    },
    {
     "name": "stderr",
     "output_type": "stream",
     "text": [
      "Epoch 17/100 [Train]: 100%|██████████| 391/391 [00:15<00:00, 25.78it/s, loss=1.5552, acc=56.23%, lr=0.098429]\n",
      "Epoch 17/100 [Test]: 100%|██████████| 79/79 [00:02<00:00, 31.84it/s, loss=1.9168, acc=49.08%]\n"
     ]
    },
    {
     "name": "stdout",
     "output_type": "stream",
     "text": [
      "Epoch: 17/100 | Train Loss: 1.5552 | Train Acc: 56.23% | Test Loss: 1.9168 | Test Acc: 49.08%\n"
     ]
    },
    {
     "name": "stderr",
     "output_type": "stream",
     "text": [
      "Epoch 18/100 [Train]: 100%|██████████| 391/391 [00:13<00:00, 28.93it/s, loss=1.5439, acc=56.34%, lr=0.098228]\n",
      "Epoch 18/100 [Test]: 100%|██████████| 79/79 [00:02<00:00, 27.39it/s, loss=1.8353, acc=51.03%]\n"
     ]
    },
    {
     "name": "stdout",
     "output_type": "stream",
     "text": [
      "Checkpoint saved! New best accuracy: 51.03%\n",
      "Epoch: 18/100 | Train Loss: 1.5439 | Train Acc: 56.34% | Test Loss: 1.8353 | Test Acc: 51.03%\n"
     ]
    },
    {
     "name": "stderr",
     "output_type": "stream",
     "text": [
      "Epoch 19/100 [Train]: 100%|██████████| 391/391 [00:13<00:00, 28.88it/s, loss=1.5145, acc=57.26%, lr=0.098015]\n",
      "Epoch 19/100 [Test]: 100%|██████████| 79/79 [00:02<00:00, 36.17it/s, loss=1.8710, acc=50.31%]\n"
     ]
    },
    {
     "name": "stdout",
     "output_type": "stream",
     "text": [
      "Epoch: 19/100 | Train Loss: 1.5145 | Train Acc: 57.26% | Test Loss: 1.8710 | Test Acc: 50.31%\n"
     ]
    },
    {
     "name": "stderr",
     "output_type": "stream",
     "text": [
      "Epoch 20/100 [Train]: 100%|██████████| 391/391 [00:13<00:00, 28.30it/s, loss=1.4988, acc=57.62%, lr=0.097790]\n",
      "Epoch 20/100 [Test]: 100%|██████████| 79/79 [00:02<00:00, 28.94it/s, loss=1.7819, acc=52.37%]\n"
     ]
    },
    {
     "name": "stdout",
     "output_type": "stream",
     "text": [
      "Checkpoint saved! New best accuracy: 52.37%\n",
      "Epoch: 20/100 | Train Loss: 1.4988 | Train Acc: 57.62% | Test Loss: 1.7819 | Test Acc: 52.37%\n"
     ]
    },
    {
     "name": "stderr",
     "output_type": "stream",
     "text": [
      "Epoch 21/100 [Train]: 100%|██████████| 391/391 [00:14<00:00, 27.85it/s, loss=1.4864, acc=57.91%, lr=0.097553]\n",
      "Epoch 21/100 [Test]: 100%|██████████| 79/79 [00:02<00:00, 27.23it/s, loss=1.9197, acc=50.14%]\n"
     ]
    },
    {
     "name": "stdout",
     "output_type": "stream",
     "text": [
      "Epoch: 21/100 | Train Loss: 1.4864 | Train Acc: 57.91% | Test Loss: 1.9197 | Test Acc: 50.14%\n"
     ]
    },
    {
     "name": "stderr",
     "output_type": "stream",
     "text": [
      "Epoch 22/100 [Train]: 100%|██████████| 391/391 [00:14<00:00, 27.03it/s, loss=1.4675, acc=58.32%, lr=0.097304]\n",
      "Epoch 22/100 [Test]: 100%|██████████| 79/79 [00:02<00:00, 35.79it/s, loss=1.9570, acc=49.07%]\n"
     ]
    },
    {
     "name": "stdout",
     "output_type": "stream",
     "text": [
      "Epoch: 22/100 | Train Loss: 1.4675 | Train Acc: 58.32% | Test Loss: 1.9570 | Test Acc: 49.07%\n"
     ]
    },
    {
     "name": "stderr",
     "output_type": "stream",
     "text": [
      "Epoch 23/100 [Train]: 100%|██████████| 391/391 [00:13<00:00, 28.76it/s, loss=1.4482, acc=58.66%, lr=0.097044]\n",
      "Epoch 23/100 [Test]: 100%|██████████| 79/79 [00:02<00:00, 28.91it/s, loss=1.8172, acc=52.83%]\n"
     ]
    },
    {
     "name": "stdout",
     "output_type": "stream",
     "text": [
      "Checkpoint saved! New best accuracy: 52.83%\n",
      "Epoch: 23/100 | Train Loss: 1.4482 | Train Acc: 58.66% | Test Loss: 1.8172 | Test Acc: 52.83%\n"
     ]
    },
    {
     "name": "stderr",
     "output_type": "stream",
     "text": [
      "Epoch 24/100 [Train]: 100%|██████████| 391/391 [00:12<00:00, 30.71it/s, loss=1.4317, acc=59.13%, lr=0.096772]\n",
      "Epoch 24/100 [Test]: 100%|██████████| 79/79 [00:02<00:00, 29.14it/s, loss=1.9993, acc=48.13%]\n"
     ]
    },
    {
     "name": "stdout",
     "output_type": "stream",
     "text": [
      "Epoch: 24/100 | Train Loss: 1.4317 | Train Acc: 59.13% | Test Loss: 1.9993 | Test Acc: 48.13%\n"
     ]
    },
    {
     "name": "stderr",
     "output_type": "stream",
     "text": [
      "Epoch 25/100 [Train]: 100%|██████████| 391/391 [00:14<00:00, 26.45it/s, loss=1.4259, acc=59.46%, lr=0.096489]\n",
      "Epoch 25/100 [Test]: 100%|██████████| 79/79 [00:01<00:00, 49.07it/s, loss=1.9780, acc=49.07%]\n"
     ]
    },
    {
     "name": "stdout",
     "output_type": "stream",
     "text": [
      "Epoch: 25/100 | Train Loss: 1.4259 | Train Acc: 59.46% | Test Loss: 1.9780 | Test Acc: 49.07%\n"
     ]
    },
    {
     "name": "stderr",
     "output_type": "stream",
     "text": [
      "Epoch 26/100 [Train]: 100%|██████████| 391/391 [00:12<00:00, 30.15it/s, loss=1.4073, acc=59.93%, lr=0.096194]\n",
      "Epoch 26/100 [Test]: 100%|██████████| 79/79 [00:02<00:00, 33.07it/s, loss=1.8473, acc=51.01%]\n"
     ]
    },
    {
     "name": "stdout",
     "output_type": "stream",
     "text": [
      "Epoch: 26/100 | Train Loss: 1.4073 | Train Acc: 59.93% | Test Loss: 1.8473 | Test Acc: 51.01%\n"
     ]
    },
    {
     "name": "stderr",
     "output_type": "stream",
     "text": [
      "Epoch 27/100 [Train]: 100%|██████████| 391/391 [00:14<00:00, 27.40it/s, loss=1.3970, acc=60.18%, lr=0.095888]\n",
      "Epoch 27/100 [Test]: 100%|██████████| 79/79 [00:02<00:00, 31.24it/s, loss=1.9258, acc=50.35%]\n"
     ]
    },
    {
     "name": "stdout",
     "output_type": "stream",
     "text": [
      "Epoch: 27/100 | Train Loss: 1.3970 | Train Acc: 60.18% | Test Loss: 1.9258 | Test Acc: 50.35%\n"
     ]
    },
    {
     "name": "stderr",
     "output_type": "stream",
     "text": [
      "Epoch 28/100 [Train]: 100%|██████████| 391/391 [00:13<00:00, 28.47it/s, loss=1.3914, acc=60.08%, lr=0.095570]\n",
      "Epoch 28/100 [Test]: 100%|██████████| 79/79 [00:02<00:00, 27.86it/s, loss=2.1822, acc=45.13%]\n"
     ]
    },
    {
     "name": "stdout",
     "output_type": "stream",
     "text": [
      "Epoch: 28/100 | Train Loss: 1.3914 | Train Acc: 60.08% | Test Loss: 2.1822 | Test Acc: 45.13%\n"
     ]
    },
    {
     "name": "stderr",
     "output_type": "stream",
     "text": [
      "Epoch 29/100 [Train]: 100%|██████████| 391/391 [00:13<00:00, 29.59it/s, loss=1.3794, acc=60.76%, lr=0.095241]\n",
      "Epoch 29/100 [Test]: 100%|██████████| 79/79 [00:02<00:00, 27.72it/s, loss=1.6510, acc=55.05%]\n"
     ]
    },
    {
     "name": "stdout",
     "output_type": "stream",
     "text": [
      "Checkpoint saved! New best accuracy: 55.05%\n",
      "Epoch: 29/100 | Train Loss: 1.3794 | Train Acc: 60.76% | Test Loss: 1.6510 | Test Acc: 55.05%\n"
     ]
    },
    {
     "name": "stderr",
     "output_type": "stream",
     "text": [
      "Epoch 30/100 [Train]: 100%|██████████| 391/391 [00:14<00:00, 27.74it/s, loss=1.3664, acc=60.91%, lr=0.094901]\n",
      "Epoch 30/100 [Test]: 100%|██████████| 79/79 [00:02<00:00, 35.84it/s, loss=1.7051, acc=54.63%]\n"
     ]
    },
    {
     "name": "stdout",
     "output_type": "stream",
     "text": [
      "Epoch: 30/100 | Train Loss: 1.3664 | Train Acc: 60.91% | Test Loss: 1.7051 | Test Acc: 54.63%\n"
     ]
    },
    {
     "name": "stderr",
     "output_type": "stream",
     "text": [
      "Epoch 31/100 [Train]: 100%|██████████| 391/391 [00:13<00:00, 28.71it/s, loss=1.3584, acc=61.03%, lr=0.094550]\n",
      "Epoch 31/100 [Test]: 100%|██████████| 79/79 [00:02<00:00, 32.22it/s, loss=1.6408, acc=56.07%]\n"
     ]
    },
    {
     "name": "stdout",
     "output_type": "stream",
     "text": [
      "Checkpoint saved! New best accuracy: 56.07%\n",
      "Epoch: 31/100 | Train Loss: 1.3584 | Train Acc: 61.03% | Test Loss: 1.6408 | Test Acc: 56.07%\n"
     ]
    },
    {
     "name": "stderr",
     "output_type": "stream",
     "text": [
      "Epoch 32/100 [Train]: 100%|██████████| 391/391 [00:13<00:00, 28.34it/s, loss=1.3497, acc=61.26%, lr=0.094188]\n",
      "Epoch 32/100 [Test]: 100%|██████████| 79/79 [00:03<00:00, 25.47it/s, loss=1.7897, acc=52.75%]\n"
     ]
    },
    {
     "name": "stdout",
     "output_type": "stream",
     "text": [
      "Epoch: 32/100 | Train Loss: 1.3497 | Train Acc: 61.26% | Test Loss: 1.7897 | Test Acc: 52.75%\n"
     ]
    },
    {
     "name": "stderr",
     "output_type": "stream",
     "text": [
      "Epoch 33/100 [Train]: 100%|██████████| 391/391 [00:14<00:00, 26.21it/s, loss=1.3355, acc=61.72%, lr=0.093815]\n",
      "Epoch 33/100 [Test]: 100%|██████████| 79/79 [00:01<00:00, 58.97it/s, loss=1.8946, acc=50.70%]\n"
     ]
    },
    {
     "name": "stdout",
     "output_type": "stream",
     "text": [
      "Epoch: 33/100 | Train Loss: 1.3355 | Train Acc: 61.72% | Test Loss: 1.8946 | Test Acc: 50.70%\n"
     ]
    },
    {
     "name": "stderr",
     "output_type": "stream",
     "text": [
      "Epoch 34/100 [Train]: 100%|██████████| 391/391 [00:13<00:00, 29.64it/s, loss=1.3301, acc=61.88%, lr=0.093432]\n",
      "Epoch 34/100 [Test]: 100%|██████████| 79/79 [00:02<00:00, 35.57it/s, loss=1.6738, acc=55.13%]\n"
     ]
    },
    {
     "name": "stdout",
     "output_type": "stream",
     "text": [
      "Epoch: 34/100 | Train Loss: 1.3301 | Train Acc: 61.88% | Test Loss: 1.6738 | Test Acc: 55.13%\n"
     ]
    },
    {
     "name": "stderr",
     "output_type": "stream",
     "text": [
      "Epoch 35/100 [Train]: 100%|██████████| 391/391 [00:14<00:00, 27.88it/s, loss=1.3247, acc=62.12%, lr=0.093037]\n",
      "Epoch 35/100 [Test]: 100%|██████████| 79/79 [00:01<00:00, 41.12it/s, loss=1.8718, acc=51.30%]\n"
     ]
    },
    {
     "name": "stdout",
     "output_type": "stream",
     "text": [
      "Epoch: 35/100 | Train Loss: 1.3247 | Train Acc: 62.12% | Test Loss: 1.8718 | Test Acc: 51.30%\n"
     ]
    },
    {
     "name": "stderr",
     "output_type": "stream",
     "text": [
      "Epoch 36/100 [Train]: 100%|██████████| 391/391 [00:13<00:00, 28.65it/s, loss=1.3186, acc=62.25%, lr=0.092632]\n",
      "Epoch 36/100 [Test]: 100%|██████████| 79/79 [00:03<00:00, 26.24it/s, loss=1.7696, acc=52.92%]\n"
     ]
    },
    {
     "name": "stdout",
     "output_type": "stream",
     "text": [
      "Epoch: 36/100 | Train Loss: 1.3186 | Train Acc: 62.25% | Test Loss: 1.7696 | Test Acc: 52.92%\n"
     ]
    },
    {
     "name": "stderr",
     "output_type": "stream",
     "text": [
      "Epoch 37/100 [Train]: 100%|██████████| 391/391 [00:14<00:00, 27.29it/s, loss=1.3195, acc=62.10%, lr=0.092216]\n",
      "Epoch 37/100 [Test]: 100%|██████████| 79/79 [00:02<00:00, 29.97it/s, loss=1.6896, acc=55.20%]\n"
     ]
    },
    {
     "name": "stdout",
     "output_type": "stream",
     "text": [
      "Epoch: 37/100 | Train Loss: 1.3195 | Train Acc: 62.10% | Test Loss: 1.6896 | Test Acc: 55.20%\n"
     ]
    },
    {
     "name": "stderr",
     "output_type": "stream",
     "text": [
      "Epoch 38/100 [Train]: 100%|██████████| 391/391 [00:14<00:00, 27.76it/s, loss=1.3038, acc=62.27%, lr=0.091790]\n",
      "Epoch 38/100 [Test]: 100%|██████████| 79/79 [00:02<00:00, 32.52it/s, loss=1.7851, acc=53.17%]\n"
     ]
    },
    {
     "name": "stdout",
     "output_type": "stream",
     "text": [
      "Epoch: 38/100 | Train Loss: 1.3038 | Train Acc: 62.27% | Test Loss: 1.7851 | Test Acc: 53.17%\n"
     ]
    },
    {
     "name": "stderr",
     "output_type": "stream",
     "text": [
      "Epoch 39/100 [Train]: 100%|██████████| 391/391 [00:12<00:00, 30.25it/s, loss=1.2901, acc=62.91%, lr=0.091354]\n",
      "Epoch 39/100 [Test]: 100%|██████████| 79/79 [00:02<00:00, 31.61it/s, loss=1.6441, acc=55.39%]\n"
     ]
    },
    {
     "name": "stdout",
     "output_type": "stream",
     "text": [
      "Epoch: 39/100 | Train Loss: 1.2901 | Train Acc: 62.91% | Test Loss: 1.6441 | Test Acc: 55.39%\n"
     ]
    },
    {
     "name": "stderr",
     "output_type": "stream",
     "text": [
      "Epoch 40/100 [Train]: 100%|██████████| 391/391 [00:13<00:00, 28.63it/s, loss=1.2845, acc=63.24%, lr=0.090907]\n",
      "Epoch 40/100 [Test]: 100%|██████████| 79/79 [00:02<00:00, 27.23it/s, loss=1.7089, acc=54.78%]\n"
     ]
    },
    {
     "name": "stdout",
     "output_type": "stream",
     "text": [
      "Epoch: 40/100 | Train Loss: 1.2845 | Train Acc: 63.24% | Test Loss: 1.7089 | Test Acc: 54.78%\n"
     ]
    },
    {
     "name": "stderr",
     "output_type": "stream",
     "text": [
      "Epoch 41/100 [Train]: 100%|██████████| 391/391 [00:14<00:00, 26.49it/s, loss=1.2825, acc=63.15%, lr=0.090451]\n",
      "Epoch 41/100 [Test]: 100%|██████████| 79/79 [00:01<00:00, 45.22it/s, loss=1.7413, acc=53.59%]\n"
     ]
    },
    {
     "name": "stdout",
     "output_type": "stream",
     "text": [
      "Epoch: 41/100 | Train Loss: 1.2825 | Train Acc: 63.15% | Test Loss: 1.7413 | Test Acc: 53.59%\n"
     ]
    },
    {
     "name": "stderr",
     "output_type": "stream",
     "text": [
      "Epoch 42/100 [Train]: 100%|██████████| 391/391 [00:12<00:00, 31.53it/s, loss=1.2661, acc=63.41%, lr=0.089984]\n",
      "Epoch 42/100 [Test]: 100%|██████████| 79/79 [00:02<00:00, 32.95it/s, loss=1.6559, acc=56.15%]\n"
     ]
    },
    {
     "name": "stdout",
     "output_type": "stream",
     "text": [
      "Checkpoint saved! New best accuracy: 56.15%\n",
      "Epoch: 42/100 | Train Loss: 1.2661 | Train Acc: 63.41% | Test Loss: 1.6559 | Test Acc: 56.15%\n"
     ]
    },
    {
     "name": "stderr",
     "output_type": "stream",
     "text": [
      "Epoch 43/100 [Train]: 100%|██████████| 391/391 [00:14<00:00, 26.99it/s, loss=1.2653, acc=63.38%, lr=0.089508]\n",
      "Epoch 43/100 [Test]: 100%|██████████| 79/79 [00:02<00:00, 34.19it/s, loss=1.7407, acc=54.91%]\n"
     ]
    },
    {
     "name": "stdout",
     "output_type": "stream",
     "text": [
      "Epoch: 43/100 | Train Loss: 1.2653 | Train Acc: 63.38% | Test Loss: 1.7407 | Test Acc: 54.91%\n"
     ]
    },
    {
     "name": "stderr",
     "output_type": "stream",
     "text": [
      "Epoch 44/100 [Train]: 100%|██████████| 391/391 [00:13<00:00, 28.34it/s, loss=1.2640, acc=63.49%, lr=0.089022]\n",
      "Epoch 44/100 [Test]: 100%|██████████| 79/79 [00:02<00:00, 28.95it/s, loss=1.6585, acc=55.00%]\n"
     ]
    },
    {
     "name": "stdout",
     "output_type": "stream",
     "text": [
      "Epoch: 44/100 | Train Loss: 1.2640 | Train Acc: 63.49% | Test Loss: 1.6585 | Test Acc: 55.00%\n"
     ]
    },
    {
     "name": "stderr",
     "output_type": "stream",
     "text": [
      "Epoch 45/100 [Train]: 100%|██████████| 391/391 [00:12<00:00, 30.73it/s, loss=1.2460, acc=64.05%, lr=0.088526]\n",
      "Epoch 45/100 [Test]: 100%|██████████| 79/79 [00:02<00:00, 30.90it/s, loss=1.7386, acc=53.85%]\n"
     ]
    },
    {
     "name": "stdout",
     "output_type": "stream",
     "text": [
      "Epoch: 45/100 | Train Loss: 1.2460 | Train Acc: 64.05% | Test Loss: 1.7386 | Test Acc: 53.85%\n"
     ]
    },
    {
     "name": "stderr",
     "output_type": "stream",
     "text": [
      "Epoch 46/100 [Train]: 100%|██████████| 391/391 [00:14<00:00, 26.40it/s, loss=1.2402, acc=64.28%, lr=0.088020]\n",
      "Epoch 46/100 [Test]: 100%|██████████| 79/79 [00:01<00:00, 48.02it/s, loss=1.8824, acc=52.51%]\n"
     ]
    },
    {
     "name": "stdout",
     "output_type": "stream",
     "text": [
      "Epoch: 46/100 | Train Loss: 1.2402 | Train Acc: 64.28% | Test Loss: 1.8824 | Test Acc: 52.51%\n"
     ]
    },
    {
     "name": "stderr",
     "output_type": "stream",
     "text": [
      "Epoch 47/100 [Train]: 100%|██████████| 391/391 [00:12<00:00, 30.24it/s, loss=1.2324, acc=64.50%, lr=0.087506]\n",
      "Epoch 47/100 [Test]: 100%|██████████| 79/79 [00:02<00:00, 29.09it/s, loss=1.6770, acc=55.08%]\n"
     ]
    },
    {
     "name": "stdout",
     "output_type": "stream",
     "text": [
      "Epoch: 47/100 | Train Loss: 1.2324 | Train Acc: 64.50% | Test Loss: 1.6770 | Test Acc: 55.08%\n"
     ]
    },
    {
     "name": "stderr",
     "output_type": "stream",
     "text": [
      "Epoch 48/100 [Train]: 100%|██████████| 391/391 [00:13<00:00, 27.97it/s, loss=1.2337, acc=64.31%, lr=0.086982]\n",
      "Epoch 48/100 [Test]: 100%|██████████| 79/79 [00:02<00:00, 36.37it/s, loss=1.6658, acc=55.68%]\n"
     ]
    },
    {
     "name": "stdout",
     "output_type": "stream",
     "text": [
      "Epoch: 48/100 | Train Loss: 1.2337 | Train Acc: 64.31% | Test Loss: 1.6658 | Test Acc: 55.68%\n"
     ]
    },
    {
     "name": "stderr",
     "output_type": "stream",
     "text": [
      "Epoch 49/100 [Train]: 100%|██████████| 391/391 [00:14<00:00, 27.33it/s, loss=1.2225, acc=64.57%, lr=0.086448]\n",
      "Epoch 49/100 [Test]: 100%|██████████| 79/79 [00:02<00:00, 26.65it/s, loss=1.8345, acc=52.29%]\n"
     ]
    },
    {
     "name": "stdout",
     "output_type": "stream",
     "text": [
      "Epoch: 49/100 | Train Loss: 1.2225 | Train Acc: 64.57% | Test Loss: 1.8345 | Test Acc: 52.29%\n"
     ]
    },
    {
     "name": "stderr",
     "output_type": "stream",
     "text": [
      "Epoch 50/100 [Train]: 100%|██████████| 391/391 [00:13<00:00, 29.78it/s, loss=1.2180, acc=64.83%, lr=0.085906]\n",
      "Epoch 50/100 [Test]: 100%|██████████| 79/79 [00:02<00:00, 27.89it/s, loss=1.8119, acc=53.15%]\n"
     ]
    },
    {
     "name": "stdout",
     "output_type": "stream",
     "text": [
      "Epoch: 50/100 | Train Loss: 1.2180 | Train Acc: 64.83% | Test Loss: 1.8119 | Test Acc: 53.15%\n"
     ]
    },
    {
     "name": "stderr",
     "output_type": "stream",
     "text": [
      "Epoch 51/100 [Train]: 100%|██████████| 391/391 [00:14<00:00, 26.64it/s, loss=1.2066, acc=64.84%, lr=0.085355]\n",
      "Epoch 51/100 [Test]: 100%|██████████| 79/79 [00:02<00:00, 36.15it/s, loss=1.6464, acc=55.42%]\n"
     ]
    },
    {
     "name": "stdout",
     "output_type": "stream",
     "text": [
      "Epoch: 51/100 | Train Loss: 1.2066 | Train Acc: 64.84% | Test Loss: 1.6464 | Test Acc: 55.42%\n"
     ]
    },
    {
     "name": "stderr",
     "output_type": "stream",
     "text": [
      "Epoch 52/100 [Train]: 100%|██████████| 391/391 [00:13<00:00, 28.21it/s, loss=1.1944, acc=65.06%, lr=0.084796]\n",
      "Epoch 52/100 [Test]: 100%|██████████| 79/79 [00:01<00:00, 52.07it/s, loss=1.7115, acc=54.77%]\n"
     ]
    },
    {
     "name": "stdout",
     "output_type": "stream",
     "text": [
      "Epoch: 52/100 | Train Loss: 1.1944 | Train Acc: 65.06% | Test Loss: 1.7115 | Test Acc: 54.77%\n"
     ]
    },
    {
     "name": "stderr",
     "output_type": "stream",
     "text": [
      "Epoch 53/100 [Train]: 100%|██████████| 391/391 [00:13<00:00, 28.09it/s, loss=1.2045, acc=64.97%, lr=0.084227]\n",
      "Epoch 53/100 [Test]: 100%|██████████| 79/79 [00:02<00:00, 30.84it/s, loss=1.7731, acc=54.07%]\n"
     ]
    },
    {
     "name": "stdout",
     "output_type": "stream",
     "text": [
      "Epoch: 53/100 | Train Loss: 1.2045 | Train Acc: 64.97% | Test Loss: 1.7731 | Test Acc: 54.07%\n"
     ]
    },
    {
     "name": "stderr",
     "output_type": "stream",
     "text": [
      "Epoch 54/100 [Train]: 100%|██████████| 391/391 [00:14<00:00, 27.33it/s, loss=1.1890, acc=65.53%, lr=0.083651]\n",
      "Epoch 54/100 [Test]: 100%|██████████| 79/79 [00:03<00:00, 23.15it/s, loss=1.7145, acc=55.09%]\n"
     ]
    },
    {
     "name": "stdout",
     "output_type": "stream",
     "text": [
      "Epoch: 54/100 | Train Loss: 1.1890 | Train Acc: 65.53% | Test Loss: 1.7145 | Test Acc: 55.09%\n"
     ]
    },
    {
     "name": "stderr",
     "output_type": "stream",
     "text": [
      "Epoch 55/100 [Train]: 100%|██████████| 391/391 [00:12<00:00, 30.17it/s, loss=1.1828, acc=65.56%, lr=0.083066]\n",
      "Epoch 55/100 [Test]: 100%|██████████| 79/79 [00:02<00:00, 32.59it/s, loss=1.7738, acc=53.60%]\n"
     ]
    },
    {
     "name": "stdout",
     "output_type": "stream",
     "text": [
      "Epoch: 55/100 | Train Loss: 1.1828 | Train Acc: 65.56% | Test Loss: 1.7738 | Test Acc: 53.60%\n"
     ]
    },
    {
     "name": "stderr",
     "output_type": "stream",
     "text": [
      "Epoch 56/100 [Train]: 100%|██████████| 391/391 [00:13<00:00, 28.01it/s, loss=1.1746, acc=65.70%, lr=0.082472]\n",
      "Epoch 56/100 [Test]: 100%|██████████| 79/79 [00:02<00:00, 34.78it/s, loss=1.8082, acc=52.94%]\n"
     ]
    },
    {
     "name": "stdout",
     "output_type": "stream",
     "text": [
      "Epoch: 56/100 | Train Loss: 1.1746 | Train Acc: 65.70% | Test Loss: 1.8082 | Test Acc: 52.94%\n"
     ]
    },
    {
     "name": "stderr",
     "output_type": "stream",
     "text": [
      "Epoch 57/100 [Train]: 100%|██████████| 391/391 [00:13<00:00, 29.70it/s, loss=1.1623, acc=66.26%, lr=0.081871]\n",
      "Epoch 57/100 [Test]: 100%|██████████| 79/79 [00:03<00:00, 25.31it/s, loss=1.7346, acc=55.13%]\n"
     ]
    },
    {
     "name": "stdout",
     "output_type": "stream",
     "text": [
      "Epoch: 57/100 | Train Loss: 1.1623 | Train Acc: 66.26% | Test Loss: 1.7346 | Test Acc: 55.13%\n"
     ]
    },
    {
     "name": "stderr",
     "output_type": "stream",
     "text": [
      "Epoch 58/100 [Train]: 100%|██████████| 391/391 [00:13<00:00, 29.24it/s, loss=1.1618, acc=66.01%, lr=0.081262]\n",
      "Epoch 58/100 [Test]: 100%|██████████| 79/79 [00:02<00:00, 30.89it/s, loss=1.8154, acc=52.96%]\n"
     ]
    },
    {
     "name": "stdout",
     "output_type": "stream",
     "text": [
      "Epoch: 58/100 | Train Loss: 1.1618 | Train Acc: 66.01% | Test Loss: 1.8154 | Test Acc: 52.96%\n"
     ]
    },
    {
     "name": "stderr",
     "output_type": "stream",
     "text": [
      "Epoch 59/100 [Train]: 100%|██████████| 391/391 [00:15<00:00, 25.89it/s, loss=1.1487, acc=66.52%, lr=0.080645]\n",
      "Epoch 59/100 [Test]: 100%|██████████| 79/79 [00:01<00:00, 55.60it/s, loss=1.7710, acc=53.38%]\n"
     ]
    },
    {
     "name": "stdout",
     "output_type": "stream",
     "text": [
      "Epoch: 59/100 | Train Loss: 1.1487 | Train Acc: 66.52% | Test Loss: 1.7710 | Test Acc: 53.38%\n"
     ]
    },
    {
     "name": "stderr",
     "output_type": "stream",
     "text": [
      "Epoch 60/100 [Train]: 100%|██████████| 391/391 [00:13<00:00, 28.63it/s, loss=1.1464, acc=66.57%, lr=0.080021]\n",
      "Epoch 60/100 [Test]: 100%|██████████| 79/79 [00:02<00:00, 32.59it/s, loss=1.7790, acc=54.22%]\n"
     ]
    },
    {
     "name": "stdout",
     "output_type": "stream",
     "text": [
      "Epoch: 60/100 | Train Loss: 1.1464 | Train Acc: 66.57% | Test Loss: 1.7790 | Test Acc: 54.22%\n"
     ]
    },
    {
     "name": "stderr",
     "output_type": "stream",
     "text": [
      "Epoch 61/100 [Train]: 100%|██████████| 391/391 [00:14<00:00, 27.89it/s, loss=1.1496, acc=66.53%, lr=0.079389]\n",
      "Epoch 61/100 [Test]: 100%|██████████| 79/79 [00:02<00:00, 32.70it/s, loss=1.8271, acc=53.44%]\n"
     ]
    },
    {
     "name": "stdout",
     "output_type": "stream",
     "text": [
      "Epoch: 61/100 | Train Loss: 1.1496 | Train Acc: 66.53% | Test Loss: 1.8271 | Test Acc: 53.44%\n"
     ]
    },
    {
     "name": "stderr",
     "output_type": "stream",
     "text": [
      "Epoch 62/100 [Train]: 100%|██████████| 391/391 [00:14<00:00, 26.49it/s, loss=1.1440, acc=66.76%, lr=0.078750]\n",
      "Epoch 62/100 [Test]: 100%|██████████| 79/79 [00:03<00:00, 24.89it/s, loss=1.6156, acc=57.60%]\n"
     ]
    },
    {
     "name": "stdout",
     "output_type": "stream",
     "text": [
      "Checkpoint saved! New best accuracy: 57.60%\n",
      "Epoch: 62/100 | Train Loss: 1.1440 | Train Acc: 66.76% | Test Loss: 1.6156 | Test Acc: 57.60%\n"
     ]
    },
    {
     "name": "stderr",
     "output_type": "stream",
     "text": [
      "Epoch 63/100 [Train]: 100%|██████████| 391/391 [00:12<00:00, 31.32it/s, loss=1.1216, acc=66.95%, lr=0.078104]\n",
      "Epoch 63/100 [Test]: 100%|██████████| 79/79 [00:02<00:00, 35.73it/s, loss=1.6471, acc=56.67%]\n"
     ]
    },
    {
     "name": "stdout",
     "output_type": "stream",
     "text": [
      "Epoch: 63/100 | Train Loss: 1.1216 | Train Acc: 66.95% | Test Loss: 1.6471 | Test Acc: 56.67%\n"
     ]
    },
    {
     "name": "stderr",
     "output_type": "stream",
     "text": [
      "Epoch 64/100 [Train]: 100%|██████████| 391/391 [00:14<00:00, 26.69it/s, loss=1.1268, acc=66.89%, lr=0.077451]\n",
      "Epoch 64/100 [Test]: 100%|██████████| 79/79 [00:02<00:00, 34.91it/s, loss=1.5601, acc=58.56%]\n"
     ]
    },
    {
     "name": "stdout",
     "output_type": "stream",
     "text": [
      "Checkpoint saved! New best accuracy: 58.56%\n",
      "Epoch: 64/100 | Train Loss: 1.1268 | Train Acc: 66.89% | Test Loss: 1.5601 | Test Acc: 58.56%\n"
     ]
    },
    {
     "name": "stderr",
     "output_type": "stream",
     "text": [
      "Epoch 65/100 [Train]: 100%|██████████| 391/391 [00:13<00:00, 27.96it/s, loss=1.1172, acc=67.46%, lr=0.076791]\n",
      "Epoch 65/100 [Test]: 100%|██████████| 79/79 [00:03<00:00, 25.07it/s, loss=1.7253, acc=54.47%]\n"
     ]
    },
    {
     "name": "stdout",
     "output_type": "stream",
     "text": [
      "Epoch: 65/100 | Train Loss: 1.1172 | Train Acc: 67.46% | Test Loss: 1.7253 | Test Acc: 54.47%\n"
     ]
    },
    {
     "name": "stderr",
     "output_type": "stream",
     "text": [
      "Epoch 66/100 [Train]: 100%|██████████| 391/391 [00:13<00:00, 28.93it/s, loss=1.1036, acc=67.76%, lr=0.076125]\n",
      "Epoch 66/100 [Test]: 100%|██████████| 79/79 [00:02<00:00, 30.08it/s, loss=1.8409, acc=53.13%]\n"
     ]
    },
    {
     "name": "stdout",
     "output_type": "stream",
     "text": [
      "Epoch: 66/100 | Train Loss: 1.1036 | Train Acc: 67.76% | Test Loss: 1.8409 | Test Acc: 53.13%\n"
     ]
    },
    {
     "name": "stderr",
     "output_type": "stream",
     "text": [
      "Epoch 67/100 [Train]: 100%|██████████| 391/391 [00:14<00:00, 27.67it/s, loss=1.0970, acc=67.72%, lr=0.075452]\n",
      "Epoch 67/100 [Test]: 100%|██████████| 79/79 [00:02<00:00, 35.03it/s, loss=1.6622, acc=56.55%]\n"
     ]
    },
    {
     "name": "stdout",
     "output_type": "stream",
     "text": [
      "Epoch: 67/100 | Train Loss: 1.0970 | Train Acc: 67.72% | Test Loss: 1.6622 | Test Acc: 56.55%\n"
     ]
    },
    {
     "name": "stderr",
     "output_type": "stream",
     "text": [
      "Epoch 68/100 [Train]: 100%|██████████| 391/391 [00:13<00:00, 29.52it/s, loss=1.0874, acc=68.08%, lr=0.074773]\n",
      "Epoch 68/100 [Test]: 100%|██████████| 79/79 [00:01<00:00, 45.63it/s, loss=1.7286, acc=54.71%]\n"
     ]
    },
    {
     "name": "stdout",
     "output_type": "stream",
     "text": [
      "Epoch: 68/100 | Train Loss: 1.0874 | Train Acc: 68.08% | Test Loss: 1.7286 | Test Acc: 54.71%\n"
     ]
    },
    {
     "name": "stderr",
     "output_type": "stream",
     "text": [
      "Epoch 69/100 [Train]: 100%|██████████| 391/391 [00:14<00:00, 27.72it/s, loss=1.0803, acc=68.36%, lr=0.074088]\n",
      "Epoch 69/100 [Test]: 100%|██████████| 79/79 [00:02<00:00, 33.47it/s, loss=1.6215, acc=57.05%]\n"
     ]
    },
    {
     "name": "stdout",
     "output_type": "stream",
     "text": [
      "Epoch: 69/100 | Train Loss: 1.0803 | Train Acc: 68.36% | Test Loss: 1.6215 | Test Acc: 57.05%\n"
     ]
    },
    {
     "name": "stderr",
     "output_type": "stream",
     "text": [
      "Epoch 70/100 [Train]: 100%|██████████| 391/391 [00:15<00:00, 25.15it/s, loss=1.0767, acc=68.23%, lr=0.073396]\n",
      "Epoch 70/100 [Test]: 100%|██████████| 79/79 [00:01<00:00, 41.29it/s, loss=1.6551, acc=55.91%]\n"
     ]
    },
    {
     "name": "stdout",
     "output_type": "stream",
     "text": [
      "Epoch: 70/100 | Train Loss: 1.0767 | Train Acc: 68.23% | Test Loss: 1.6551 | Test Acc: 55.91%\n"
     ]
    },
    {
     "name": "stderr",
     "output_type": "stream",
     "text": [
      "Epoch 71/100 [Train]: 100%|██████████| 391/391 [00:12<00:00, 30.16it/s, loss=1.0677, acc=68.55%, lr=0.072700]\n",
      "Epoch 71/100 [Test]: 100%|██████████| 79/79 [00:02<00:00, 35.27it/s, loss=1.7068, acc=55.66%]\n"
     ]
    },
    {
     "name": "stdout",
     "output_type": "stream",
     "text": [
      "Epoch: 71/100 | Train Loss: 1.0677 | Train Acc: 68.55% | Test Loss: 1.7068 | Test Acc: 55.66%\n"
     ]
    },
    {
     "name": "stderr",
     "output_type": "stream",
     "text": [
      "Epoch 72/100 [Train]: 100%|██████████| 391/391 [00:14<00:00, 27.55it/s, loss=1.0701, acc=68.52%, lr=0.071997]\n",
      "Epoch 72/100 [Test]: 100%|██████████| 79/79 [00:02<00:00, 36.54it/s, loss=1.6037, acc=57.23%]\n"
     ]
    },
    {
     "name": "stdout",
     "output_type": "stream",
     "text": [
      "Epoch: 72/100 | Train Loss: 1.0701 | Train Acc: 68.52% | Test Loss: 1.6037 | Test Acc: 57.23%\n"
     ]
    },
    {
     "name": "stderr",
     "output_type": "stream",
     "text": [
      "Epoch 73/100 [Train]: 100%|██████████| 391/391 [00:13<00:00, 29.30it/s, loss=1.0544, acc=68.80%, lr=0.071289]\n",
      "Epoch 73/100 [Test]: 100%|██████████| 79/79 [00:03<00:00, 25.58it/s, loss=1.5801, acc=58.05%]\n"
     ]
    },
    {
     "name": "stdout",
     "output_type": "stream",
     "text": [
      "Epoch: 73/100 | Train Loss: 1.0544 | Train Acc: 68.80% | Test Loss: 1.5801 | Test Acc: 58.05%\n"
     ]
    },
    {
     "name": "stderr",
     "output_type": "stream",
     "text": [
      "Epoch 74/100 [Train]: 100%|██████████| 391/391 [00:13<00:00, 28.63it/s, loss=1.0479, acc=68.91%, lr=0.070576]\n",
      "Epoch 74/100 [Test]: 100%|██████████| 79/79 [00:02<00:00, 26.97it/s, loss=1.7825, acc=54.83%]\n"
     ]
    },
    {
     "name": "stdout",
     "output_type": "stream",
     "text": [
      "Epoch: 74/100 | Train Loss: 1.0479 | Train Acc: 68.91% | Test Loss: 1.7825 | Test Acc: 54.83%\n"
     ]
    },
    {
     "name": "stderr",
     "output_type": "stream",
     "text": [
      "Epoch 75/100 [Train]: 100%|██████████| 391/391 [00:14<00:00, 26.40it/s, loss=1.0316, acc=69.55%, lr=0.069857]\n",
      "Epoch 75/100 [Test]: 100%|██████████| 79/79 [00:01<00:00, 40.20it/s, loss=1.6732, acc=56.53%]\n"
     ]
    },
    {
     "name": "stdout",
     "output_type": "stream",
     "text": [
      "Epoch: 75/100 | Train Loss: 1.0316 | Train Acc: 69.55% | Test Loss: 1.6732 | Test Acc: 56.53%\n"
     ]
    },
    {
     "name": "stderr",
     "output_type": "stream",
     "text": [
      "Epoch 76/100 [Train]: 100%|██████████| 391/391 [00:13<00:00, 28.32it/s, loss=1.0415, acc=69.24%, lr=0.069134]\n",
      "Epoch 76/100 [Test]: 100%|██████████| 79/79 [00:01<00:00, 54.30it/s, loss=1.4593, acc=60.71%]\n"
     ]
    },
    {
     "name": "stdout",
     "output_type": "stream",
     "text": [
      "Checkpoint saved! New best accuracy: 60.71%\n",
      "Epoch: 76/100 | Train Loss: 1.0415 | Train Acc: 69.24% | Test Loss: 1.4593 | Test Acc: 60.71%\n"
     ]
    },
    {
     "name": "stderr",
     "output_type": "stream",
     "text": [
      "Epoch 77/100 [Train]: 100%|██████████| 391/391 [00:13<00:00, 28.57it/s, loss=1.0166, acc=69.77%, lr=0.068406]\n",
      "Epoch 77/100 [Test]: 100%|██████████| 79/79 [00:02<00:00, 32.13it/s, loss=1.6433, acc=58.30%]\n"
     ]
    },
    {
     "name": "stdout",
     "output_type": "stream",
     "text": [
      "Epoch: 77/100 | Train Loss: 1.0166 | Train Acc: 69.77% | Test Loss: 1.6433 | Test Acc: 58.30%\n"
     ]
    },
    {
     "name": "stderr",
     "output_type": "stream",
     "text": [
      "Epoch 78/100 [Train]: 100%|██████████| 391/391 [00:14<00:00, 26.65it/s, loss=1.0140, acc=70.13%, lr=0.067674]\n",
      "Epoch 78/100 [Test]: 100%|██████████| 79/79 [00:02<00:00, 26.89it/s, loss=1.6920, acc=56.70%]\n"
     ]
    },
    {
     "name": "stdout",
     "output_type": "stream",
     "text": [
      "Epoch: 78/100 | Train Loss: 1.0140 | Train Acc: 70.13% | Test Loss: 1.6920 | Test Acc: 56.70%\n"
     ]
    },
    {
     "name": "stderr",
     "output_type": "stream",
     "text": [
      "Epoch 79/100 [Train]: 100%|██████████| 391/391 [00:12<00:00, 30.66it/s, loss=0.9862, acc=70.99%, lr=0.066937]\n",
      "Epoch 79/100 [Test]: 100%|██████████| 79/79 [00:02<00:00, 33.03it/s, loss=1.6709, acc=57.00%]\n"
     ]
    },
    {
     "name": "stdout",
     "output_type": "stream",
     "text": [
      "Epoch: 79/100 | Train Loss: 0.9862 | Train Acc: 70.99% | Test Loss: 1.6709 | Test Acc: 57.00%\n"
     ]
    },
    {
     "name": "stderr",
     "output_type": "stream",
     "text": [
      "Epoch 80/100 [Train]: 100%|██████████| 391/391 [00:14<00:00, 27.41it/s, loss=0.9927, acc=70.46%, lr=0.066196]\n",
      "Epoch 80/100 [Test]: 100%|██████████| 79/79 [00:02<00:00, 34.93it/s, loss=1.6193, acc=58.04%]\n"
     ]
    },
    {
     "name": "stdout",
     "output_type": "stream",
     "text": [
      "Epoch: 80/100 | Train Loss: 0.9927 | Train Acc: 70.46% | Test Loss: 1.6193 | Test Acc: 58.04%\n"
     ]
    },
    {
     "name": "stderr",
     "output_type": "stream",
     "text": [
      "Epoch 81/100 [Train]: 100%|██████████| 391/391 [00:13<00:00, 29.39it/s, loss=0.9873, acc=70.74%, lr=0.065451]\n",
      "Epoch 81/100 [Test]: 100%|██████████| 79/79 [00:02<00:00, 27.09it/s, loss=1.7357, acc=55.14%]\n"
     ]
    },
    {
     "name": "stdout",
     "output_type": "stream",
     "text": [
      "Epoch: 81/100 | Train Loss: 0.9873 | Train Acc: 70.74% | Test Loss: 1.7357 | Test Acc: 55.14%\n"
     ]
    },
    {
     "name": "stderr",
     "output_type": "stream",
     "text": [
      "Epoch 82/100 [Train]: 100%|██████████| 391/391 [00:13<00:00, 28.37it/s, loss=0.9734, acc=71.00%, lr=0.064702]\n",
      "Epoch 82/100 [Test]: 100%|██████████| 79/79 [00:02<00:00, 32.41it/s, loss=1.5921, acc=58.67%]\n"
     ]
    },
    {
     "name": "stdout",
     "output_type": "stream",
     "text": [
      "Epoch: 82/100 | Train Loss: 0.9734 | Train Acc: 71.00% | Test Loss: 1.5921 | Test Acc: 58.67%\n"
     ]
    },
    {
     "name": "stderr",
     "output_type": "stream",
     "text": [
      "Epoch 83/100 [Train]: 100%|██████████| 391/391 [00:14<00:00, 26.15it/s, loss=0.9747, acc=70.99%, lr=0.063950]\n",
      "Epoch 83/100 [Test]: 100%|██████████| 79/79 [00:02<00:00, 35.53it/s, loss=1.5786, acc=58.87%]\n"
     ]
    },
    {
     "name": "stdout",
     "output_type": "stream",
     "text": [
      "Epoch: 83/100 | Train Loss: 0.9747 | Train Acc: 70.99% | Test Loss: 1.5786 | Test Acc: 58.87%\n"
     ]
    },
    {
     "name": "stderr",
     "output_type": "stream",
     "text": [
      "Epoch 84/100 [Train]: 100%|██████████| 391/391 [00:14<00:00, 26.99it/s, loss=0.9637, acc=71.29%, lr=0.063194]\n",
      "Epoch 84/100 [Test]: 100%|██████████| 79/79 [00:02<00:00, 27.09it/s, loss=1.6117, acc=58.09%]\n"
     ]
    },
    {
     "name": "stdout",
     "output_type": "stream",
     "text": [
      "Epoch: 84/100 | Train Loss: 0.9637 | Train Acc: 71.29% | Test Loss: 1.6117 | Test Acc: 58.09%\n"
     ]
    },
    {
     "name": "stderr",
     "output_type": "stream",
     "text": [
      "Epoch 85/100 [Train]: 100%|██████████| 391/391 [00:13<00:00, 28.84it/s, loss=0.9509, acc=71.76%, lr=0.062434]\n",
      "Epoch 85/100 [Test]: 100%|██████████| 79/79 [00:03<00:00, 25.54it/s, loss=1.5279, acc=59.93%]\n"
     ]
    },
    {
     "name": "stdout",
     "output_type": "stream",
     "text": [
      "Epoch: 85/100 | Train Loss: 0.9509 | Train Acc: 71.76% | Test Loss: 1.5279 | Test Acc: 59.93%\n"
     ]
    },
    {
     "name": "stderr",
     "output_type": "stream",
     "text": [
      "Epoch 86/100 [Train]: 100%|██████████| 391/391 [00:15<00:00, 25.93it/s, loss=0.9394, acc=71.81%, lr=0.061672]\n",
      "Epoch 86/100 [Test]: 100%|██████████| 79/79 [00:02<00:00, 33.86it/s, loss=1.5386, acc=60.26%]\n"
     ]
    },
    {
     "name": "stdout",
     "output_type": "stream",
     "text": [
      "Epoch: 86/100 | Train Loss: 0.9394 | Train Acc: 71.81% | Test Loss: 1.5386 | Test Acc: 60.26%\n"
     ]
    },
    {
     "name": "stderr",
     "output_type": "stream",
     "text": [
      "Epoch 87/100 [Train]: 100%|██████████| 391/391 [00:14<00:00, 27.61it/s, loss=0.9350, acc=72.13%, lr=0.060907]\n",
      "Epoch 87/100 [Test]: 100%|██████████| 79/79 [00:01<00:00, 46.11it/s, loss=1.5431, acc=59.56%]\n"
     ]
    },
    {
     "name": "stdout",
     "output_type": "stream",
     "text": [
      "Epoch: 87/100 | Train Loss: 0.9350 | Train Acc: 72.13% | Test Loss: 1.5431 | Test Acc: 59.56%\n"
     ]
    },
    {
     "name": "stderr",
     "output_type": "stream",
     "text": [
      "Epoch 88/100 [Train]: 100%|██████████| 391/391 [00:12<00:00, 30.20it/s, loss=0.9210, acc=72.44%, lr=0.060139]\n",
      "Epoch 88/100 [Test]: 100%|██████████| 79/79 [00:02<00:00, 34.36it/s, loss=1.6241, acc=57.81%]\n"
     ]
    },
    {
     "name": "stdout",
     "output_type": "stream",
     "text": [
      "Epoch: 88/100 | Train Loss: 0.9210 | Train Acc: 72.44% | Test Loss: 1.6241 | Test Acc: 57.81%\n"
     ]
    },
    {
     "name": "stderr",
     "output_type": "stream",
     "text": [
      "Epoch 89/100 [Train]: 100%|██████████| 391/391 [00:14<00:00, 26.78it/s, loss=0.9205, acc=72.34%, lr=0.059369]\n",
      "Epoch 89/100 [Test]: 100%|██████████| 79/79 [00:02<00:00, 32.92it/s, loss=1.7508, acc=56.30%]\n"
     ]
    },
    {
     "name": "stdout",
     "output_type": "stream",
     "text": [
      "Epoch: 89/100 | Train Loss: 0.9205 | Train Acc: 72.34% | Test Loss: 1.7508 | Test Acc: 56.30%\n"
     ]
    },
    {
     "name": "stderr",
     "output_type": "stream",
     "text": [
      "Epoch 90/100 [Train]: 100%|██████████| 391/391 [00:12<00:00, 32.19it/s, loss=0.9108, acc=72.57%, lr=0.058596]\n",
      "Epoch 90/100 [Test]: 100%|██████████| 79/79 [00:02<00:00, 30.34it/s, loss=1.5772, acc=59.68%]\n"
     ]
    },
    {
     "name": "stdout",
     "output_type": "stream",
     "text": [
      "Epoch: 90/100 | Train Loss: 0.9108 | Train Acc: 72.57% | Test Loss: 1.5772 | Test Acc: 59.68%\n"
     ]
    },
    {
     "name": "stderr",
     "output_type": "stream",
     "text": [
      "Epoch 91/100 [Train]: 100%|██████████| 391/391 [00:14<00:00, 26.61it/s, loss=0.8897, acc=73.16%, lr=0.057822]\n",
      "Epoch 91/100 [Test]: 100%|██████████| 79/79 [00:02<00:00, 31.94it/s, loss=1.7054, acc=56.63%]\n"
     ]
    },
    {
     "name": "stdout",
     "output_type": "stream",
     "text": [
      "Epoch: 91/100 | Train Loss: 0.8897 | Train Acc: 73.16% | Test Loss: 1.7054 | Test Acc: 56.63%\n"
     ]
    },
    {
     "name": "stderr",
     "output_type": "stream",
     "text": [
      "Epoch 92/100 [Train]: 100%|██████████| 391/391 [00:14<00:00, 27.21it/s, loss=0.8880, acc=73.37%, lr=0.057045]\n",
      "Epoch 92/100 [Test]: 100%|██████████| 79/79 [00:03<00:00, 25.33it/s, loss=1.5476, acc=59.62%]\n"
     ]
    },
    {
     "name": "stdout",
     "output_type": "stream",
     "text": [
      "Epoch: 92/100 | Train Loss: 0.8880 | Train Acc: 73.37% | Test Loss: 1.5476 | Test Acc: 59.62%\n"
     ]
    },
    {
     "name": "stderr",
     "output_type": "stream",
     "text": [
      "Epoch 93/100 [Train]: 100%|██████████| 391/391 [00:13<00:00, 29.14it/s, loss=0.8810, acc=73.49%, lr=0.056267]\n",
      "Epoch 93/100 [Test]: 100%|██████████| 79/79 [00:03<00:00, 25.19it/s, loss=1.5404, acc=60.56%]\n"
     ]
    },
    {
     "name": "stdout",
     "output_type": "stream",
     "text": [
      "Epoch: 93/100 | Train Loss: 0.8810 | Train Acc: 73.49% | Test Loss: 1.5404 | Test Acc: 60.56%\n"
     ]
    },
    {
     "name": "stderr",
     "output_type": "stream",
     "text": [
      "Epoch 94/100 [Train]: 100%|██████████| 391/391 [00:14<00:00, 27.35it/s, loss=0.8693, acc=73.59%, lr=0.055487]\n",
      "Epoch 94/100 [Test]: 100%|██████████| 79/79 [00:02<00:00, 34.69it/s, loss=1.6739, acc=57.56%]\n"
     ]
    },
    {
     "name": "stdout",
     "output_type": "stream",
     "text": [
      "Epoch: 94/100 | Train Loss: 0.8693 | Train Acc: 73.59% | Test Loss: 1.6739 | Test Acc: 57.56%\n"
     ]
    },
    {
     "name": "stderr",
     "output_type": "stream",
     "text": [
      "Epoch 95/100 [Train]: 100%|██████████| 391/391 [00:13<00:00, 28.35it/s, loss=0.8557, acc=74.13%, lr=0.054705]\n",
      "Epoch 95/100 [Test]: 100%|██████████| 79/79 [00:01<00:00, 47.77it/s, loss=1.5571, acc=59.69%]\n"
     ]
    },
    {
     "name": "stdout",
     "output_type": "stream",
     "text": [
      "Epoch: 95/100 | Train Loss: 0.8557 | Train Acc: 74.13% | Test Loss: 1.5571 | Test Acc: 59.69%\n"
     ]
    },
    {
     "name": "stderr",
     "output_type": "stream",
     "text": [
      "Epoch 96/100 [Train]: 100%|██████████| 391/391 [00:13<00:00, 28.19it/s, loss=0.8442, acc=74.41%, lr=0.053923]\n",
      "Epoch 96/100 [Test]: 100%|██████████| 79/79 [00:02<00:00, 37.03it/s, loss=1.6601, acc=57.64%]\n"
     ]
    },
    {
     "name": "stdout",
     "output_type": "stream",
     "text": [
      "Epoch: 96/100 | Train Loss: 0.8442 | Train Acc: 74.41% | Test Loss: 1.6601 | Test Acc: 57.64%\n"
     ]
    },
    {
     "name": "stderr",
     "output_type": "stream",
     "text": [
      "Epoch 97/100 [Train]: 100%|██████████| 391/391 [00:15<00:00, 26.04it/s, loss=0.8370, acc=74.64%, lr=0.053140]\n",
      "Epoch 97/100 [Test]: 100%|██████████| 79/79 [00:02<00:00, 27.27it/s, loss=1.5265, acc=60.35%]\n"
     ]
    },
    {
     "name": "stdout",
     "output_type": "stream",
     "text": [
      "Epoch: 97/100 | Train Loss: 0.8370 | Train Acc: 74.64% | Test Loss: 1.5265 | Test Acc: 60.35%\n"
     ]
    },
    {
     "name": "stderr",
     "output_type": "stream",
     "text": [
      "Epoch 98/100 [Train]: 100%|██████████| 391/391 [00:13<00:00, 29.24it/s, loss=0.8124, acc=75.51%, lr=0.052355]\n",
      "Epoch 98/100 [Test]: 100%|██████████| 79/79 [00:02<00:00, 37.79it/s, loss=1.6160, acc=59.31%]\n"
     ]
    },
    {
     "name": "stdout",
     "output_type": "stream",
     "text": [
      "Epoch: 98/100 | Train Loss: 0.8124 | Train Acc: 75.51% | Test Loss: 1.6160 | Test Acc: 59.31%\n"
     ]
    },
    {
     "name": "stderr",
     "output_type": "stream",
     "text": [
      "Epoch 99/100 [Train]: 100%|██████████| 391/391 [00:14<00:00, 27.25it/s, loss=0.8154, acc=75.19%, lr=0.051571]\n",
      "Epoch 99/100 [Test]: 100%|██████████| 79/79 [00:02<00:00, 38.96it/s, loss=1.5966, acc=59.62%]\n"
     ]
    },
    {
     "name": "stdout",
     "output_type": "stream",
     "text": [
      "Epoch: 99/100 | Train Loss: 0.8154 | Train Acc: 75.19% | Test Loss: 1.5966 | Test Acc: 59.62%\n"
     ]
    },
    {
     "name": "stderr",
     "output_type": "stream",
     "text": [
      "Epoch 100/100 [Train]: 100%|██████████| 391/391 [00:13<00:00, 29.24it/s, loss=0.8076, acc=75.65%, lr=0.050785]\n",
      "Epoch 100/100 [Test]: 100%|██████████| 79/79 [00:02<00:00, 26.56it/s, loss=1.5861, acc=59.51%]"
     ]
    },
    {
     "name": "stdout",
     "output_type": "stream",
     "text": [
      "Epoch: 100/100 | Train Loss: 0.8076 | Train Acc: 75.65% | Test Loss: 1.5861 | Test Acc: 59.51%\n",
      "Training completed! Best accuracy: 60.71%\n"
     ]
    },
    {
     "name": "stderr",
     "output_type": "stream",
     "text": [
      "\n"
     ]
    }
   ],
   "source": [
    "# Training loop with tqdm\n",
    "num_epochs = 100\n",
    "best_acc = 0\n",
    "\n",
    "for epoch in range(num_epochs):\n",
    "    # Training phase\n",
    "    model.train()\n",
    "    train_loss = 0.0\n",
    "    correct = 0\n",
    "    total = 0\n",
    "    \n",
    "    train_bar = tqdm(train_loader, desc=f'Epoch {epoch+1}/{num_epochs} [Train]')\n",
    "    for inputs, labels in train_bar:\n",
    "        inputs, labels = inputs.cuda(), labels.cuda()\n",
    "        \n",
    "        # Zero the parameter gradients\n",
    "        optimizer.zero_grad()\n",
    "        \n",
    "        # Forward + backward + optimize\n",
    "        outputs = model(inputs)\n",
    "        loss = criterion(outputs, labels)\n",
    "        loss.backward()\n",
    "        optimizer.step()\n",
    "        \n",
    "        # Statistics\n",
    "        train_loss += loss.item()\n",
    "        _, predicted = outputs.max(1)\n",
    "        total += labels.size(0)\n",
    "        correct += predicted.eq(labels).sum().item()\n",
    "        \n",
    "        # Update progress bar\n",
    "        train_bar.set_postfix({\n",
    "            'loss': f'{train_loss/len(train_bar):.4f}',\n",
    "            'acc': f'{100.*correct/total:.2f}%',\n",
    "            'lr': f'{scheduler.get_last_lr()[0]:.6f}'\n",
    "        })\n",
    "    \n",
    "    train_loss = train_loss / len(train_loader)\n",
    "    train_acc = 100. * correct / total\n",
    "    \n",
    "    # Validation phase\n",
    "    model.eval()\n",
    "    test_loss = 0\n",
    "    correct = 0\n",
    "    total = 0\n",
    "    \n",
    "    test_bar = tqdm(test_loader, desc=f'Epoch {epoch+1}/{num_epochs} [Test]')\n",
    "    with torch.no_grad():\n",
    "        for inputs, labels in test_bar:\n",
    "            inputs, labels = inputs.cuda(), labels.cuda()\n",
    "            outputs = model(inputs)\n",
    "            loss = criterion(outputs, labels)\n",
    "            \n",
    "            test_loss += loss.item()\n",
    "            _, predicted = outputs.max(1)\n",
    "            total += labels.size(0)\n",
    "            correct += predicted.eq(labels).sum().item()\n",
    "            \n",
    "            # Update progress bar\n",
    "            test_bar.set_postfix({\n",
    "                'loss': f'{test_loss/len(test_bar):.4f}',\n",
    "                'acc': f'{100.*correct/total:.2f}%'\n",
    "            })\n",
    "    \n",
    "    test_loss = test_loss / len(test_loader)\n",
    "    test_acc = 100. * correct / total\n",
    "    \n",
    "    # Update learning rate\n",
    "    scheduler.step()\n",
    "    \n",
    "    # Save checkpoint if it's the best model so far\n",
    "    if test_acc > best_acc:\n",
    "        best_acc = test_acc\n",
    "        torch.save({\n",
    "            'epoch': epoch,\n",
    "            'model_state_dict': model.state_dict(),\n",
    "            'optimizer_state_dict': optimizer.state_dict(),\n",
    "            'scheduler_state_dict': scheduler.state_dict(),\n",
    "            'best_acc': best_acc,\n",
    "        }, 'best_resnet18_cifar100.pth')\n",
    "        print(f'Checkpoint saved! New best accuracy: {best_acc:.2f}%')\n",
    "    \n",
    "    # Print epoch summary\n",
    "    print(f'Epoch: {epoch+1}/{num_epochs} | Train Loss: {train_loss:.4f} | Train Acc: {train_acc:.2f}% | Test Loss: {test_loss:.4f} | Test Acc: {test_acc:.2f}%')\n",
    "\n",
    "print(f\"Training completed! Best accuracy: {best_acc:.2f}%\")"
   ]
  },
  {
   "cell_type": "code",
   "execution_count": null,
   "metadata": {},
   "outputs": [],
   "source": []
  }
 ],
 "metadata": {
  "kernelspec": {
   "display_name": "base",
   "language": "python",
   "name": "python3"
  },
  "language_info": {
   "codemirror_mode": {
    "name": "ipython",
    "version": 3
   },
   "file_extension": ".py",
   "mimetype": "text/x-python",
   "name": "python",
   "nbconvert_exporter": "python",
   "pygments_lexer": "ipython3",
   "version": "3.12.8"
  }
 },
 "nbformat": 4,
 "nbformat_minor": 2
}
