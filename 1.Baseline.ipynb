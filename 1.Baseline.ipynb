{
 "cells": [
  {
   "cell_type": "code",
   "execution_count": 1,
   "metadata": {},
   "outputs": [],
   "source": [
    "import torch\n",
    "import torchvision.models as models\n",
    "from torch.utils.data import DataLoader\n",
    "from torch.utils.data import random_split\n",
    "import torchvision\n",
    "import torchvision.transforms as transforms\n",
    "import torch.optim as optim\n",
    "from tqdm import tqdm"
   ]
  },
  {
   "cell_type": "code",
   "execution_count": 2,
   "metadata": {},
   "outputs": [],
   "source": [
    "# Data augmentation for training\n",
    "transform_train = transforms.Compose([\n",
    "    transforms.RandomCrop(32, padding=4),\n",
    "    transforms.RandomHorizontalFlip(),\n",
    "    transforms.ToTensor(),\n",
    "    transforms.Normalize((0.5071, 0.4867, 0.4408), (0.2675, 0.2565, 0.2761))\n",
    "])\n",
    "\n",
    "# For validation/testing\n",
    "transform_test = transforms.Compose([\n",
    "    transforms.ToTensor(),\n",
    "    transforms.Normalize((0.5071, 0.4867, 0.4408), (0.2675, 0.2565, 0.2761))\n",
    "])\n",
    "\n",
    "trainset = torchvision.datasets.CIFAR100(root='./data', train=True, download=True, transform=transform_train)\n",
    "testset = torchvision.datasets.CIFAR100(root='./data', train=False, download=True, transform=transform_test)"
   ]
  },
  {
   "cell_type": "code",
   "execution_count": 3,
   "metadata": {},
   "outputs": [
    {
     "data": {
      "image/png": "[encoded data removed]",
      "text/plain": [
       "<Figure size 400x400 with 1 Axes>"
      ]
     },
     "metadata": {},
     "output_type": "display_data"
    },
    {
     "name": "stdout",
     "output_type": "stream",
     "text": [
      "Total training images: 50000\n",
      "Total test images: 10000\n",
      "Number of classes: 100\n",
      "Image shape: torch.Size([3, 32, 32])\n"
     ]
    }
   ],
   "source": [
    "import numpy as np\n",
    "\n",
    "import matplotlib.pyplot as plt\n",
    "\n",
    "# Function to denormalize images\n",
    "def denormalize(tensor, mean=(0.5071, 0.4867, 0.4408), std=(0.2675, 0.2565, 0.2761)):\n",
    "    tensor = tensor.clone()\n",
    "    for t, m, s in zip(tensor, mean, std):\n",
    "        t.mul_(s).add_(m)\n",
    "    return tensor\n",
    "\n",
    "# Get a sample image from the training set\n",
    "idx = 25  # Choose any index\n",
    "image, label = trainset[idx]\n",
    "\n",
    "# Convert from tensor and denormalize\n",
    "image_denorm = denormalize(image)\n",
    "image_np = image_denorm.permute(1, 2, 0).numpy()\n",
    "image_np = np.clip(image_np, 0, 1)\n",
    "\n",
    "# Get class name\n",
    "classes = trainset.classes\n",
    "class_name = classes[label]\n",
    "\n",
    "# Plot\n",
    "plt.figure(figsize=(4, 4))\n",
    "plt.imshow(image_np)\n",
    "plt.title(f\"Class: {class_name} (#{label})\")\n",
    "plt.axis('off')\n",
    "plt.show()\n",
    "\n",
    "# Print some information about the dataset\n",
    "print(f\"Total training images: {len(trainset)}\")\n",
    "print(f\"Total test images: {len(testset)}\")\n",
    "print(f\"Number of classes: {len(classes)}\")\n",
    "print(f\"Image shape: {image.shape}\")"
   ]
  },
  {
   "cell_type": "code",
   "execution_count": null,
   "metadata": {},
   "outputs": [],
   "source": [
    "train_loader = DataLoader(trainset, batch_size=128, shuffle=True, num_workers=4, pin_memory=True)\n",
    "test_loader = DataLoader(testset, batch_size=128, shuffle=False, num_workers=4, pin_memory=True)"
   ]
  },
  {
   "cell_type": "code",
   "execution_count": 4,
   "metadata": {},
   "outputs": [],
   "source": [
    "# Initialize ResNet18 model for CIFAR100 (100 classes)\n",
    "model = models.resnet18(weights=None)  # Start from scratch for a true baseline\n",
    "\n",
    "model.conv1 = torch.nn.Conv2d(3, 64, kernel_size=3, stride=1, padding=1, bias=False)\n",
    "\n",
    "# Adjust final fully connected layer for 100 classes\n",
    "model.fc = torch.nn.Linear(model.fc.in_features, 100)\n",
    "model = model.cuda()"
   ]
  },
  {
   "cell_type": "code",
   "execution_count": 5,
   "metadata": {},
   "outputs": [],
   "source": [
    "device = torch.device(\"cuda\" if torch.cuda.is_available() else \"cpu\")\n",
    "# model = model.to(device)"
   ]
  },
  {
   "cell_type": "code",
   "execution_count": 6,
   "metadata": {},
   "outputs": [],
   "source": [
    "criterion = torch.nn.CrossEntropyLoss()\n",
    "optimizer = optim.SGD(model.parameters(), lr=0.1, momentum=0.9, weight_decay=1e-4)\n",
    "\n",
    "# Step decay learning rate scheduler\n",
    "def lr_schedule(epoch):\n",
    "    if epoch < 80:\n",
    "        return 1\n",
    "    else:\n",
    "        return 0.1\n",
    "\n",
    "scheduler = optim.lr_scheduler.LambdaLR(optimizer, lr_lambda=lr_schedule)"
   ]
  },
  {
   "cell_type": "code",
   "execution_count": 7,
   "metadata": {},
   "outputs": [
    {
     "name": "stderr",
     "output_type": "stream",
     "text": [
      "Epoch 1/200 [Train]: 100%|██████████| 391/391 [00:11<00:00, 35.38it/s, loss=3.8906, acc=10.21%, lr=0.100000]\n",
      "Epoch 1/200 [Test]: 100%|██████████| 79/79 [00:01<00:00, 55.41it/s, loss=3.4276, acc=16.71%]\n"
     ]
    },
    {
     "name": "stdout",
     "output_type": "stream",
     "text": [
      "Checkpoint saved! New best accuracy: 16.71%\n",
      "Epoch: 1/200 | Train Loss: 3.8906 | Train Acc: 10.21% | Test Loss: 3.4276 | Test Acc: 16.71%\n"
     ]
    },
    {
     "name": "stderr",
     "output_type": "stream",
     "text": [
      "Epoch 2/200 [Train]: 100%|██████████| 391/391 [00:09<00:00, 39.78it/s, loss=3.1868, acc=21.13%, lr=0.100000]\n",
      "Epoch 2/200 [Test]: 100%|██████████| 79/79 [00:01<00:00, 46.75it/s, loss=2.9022, acc=26.77%]\n"
     ]
    },
    {
     "name": "stdout",
     "output_type": "stream",
     "text": [
      "Checkpoint saved! New best accuracy: 26.77%\n",
      "Epoch: 2/200 | Train Loss: 3.1868 | Train Acc: 21.13% | Test Loss: 2.9022 | Test Acc: 26.77%\n"
     ]
    },
    {
     "name": "stderr",
     "output_type": "stream",
     "text": [
      "Epoch 3/200 [Train]: 100%|██████████| 391/391 [00:09<00:00, 41.89it/s, loss=2.7583, acc=29.11%, lr=0.100000]\n",
      "Epoch 3/200 [Test]: 100%|██████████| 79/79 [00:01<00:00, 65.30it/s, loss=2.5165, acc=34.01%]\n"
     ]
    },
    {
     "name": "stdout",
     "output_type": "stream",
     "text": [
      "Checkpoint saved! New best accuracy: 34.01%\n",
      "Epoch: 3/200 | Train Loss: 2.7583 | Train Acc: 29.11% | Test Loss: 2.5165 | Test Acc: 34.01%\n"
     ]
    },
    {
     "name": "stderr",
     "output_type": "stream",
     "text": [
      "Epoch 4/200 [Train]: 100%|██████████| 391/391 [00:09<00:00, 41.95it/s, loss=2.4579, acc=35.46%, lr=0.100000]\n",
      "Epoch 4/200 [Test]: 100%|██████████| 79/79 [00:00<00:00, 83.24it/s, loss=2.3425, acc=37.91%] \n"
     ]
    },
    {
     "name": "stdout",
     "output_type": "stream",
     "text": [
      "Checkpoint saved! New best accuracy: 37.91%\n",
      "Epoch: 4/200 | Train Loss: 2.4579 | Train Acc: 35.46% | Test Loss: 2.3425 | Test Acc: 37.91%\n"
     ]
    },
    {
     "name": "stderr",
     "output_type": "stream",
     "text": [
      "Epoch 5/200 [Train]: 100%|██████████| 391/391 [00:09<00:00, 40.89it/s, loss=2.2315, acc=40.32%, lr=0.100000]\n",
      "Epoch 5/200 [Test]: 100%|██████████| 79/79 [00:01<00:00, 59.35it/s, loss=2.2670, acc=40.32%]\n"
     ]
    },
    {
     "name": "stdout",
     "output_type": "stream",
     "text": [
      "Checkpoint saved! New best accuracy: 40.32%\n",
      "Epoch: 5/200 | Train Loss: 2.2315 | Train Acc: 40.32% | Test Loss: 2.2670 | Test Acc: 40.32%\n"
     ]
    },
    {
     "name": "stderr",
     "output_type": "stream",
     "text": [
      "Epoch 6/200 [Train]: 100%|██████████| 391/391 [00:09<00:00, 41.15it/s, loss=2.0513, acc=44.23%, lr=0.100000]\n",
      "Epoch 6/200 [Test]: 100%|██████████| 79/79 [00:01<00:00, 64.05it/s, loss=2.0787, acc=43.91%]\n"
     ]
    },
    {
     "name": "stdout",
     "output_type": "stream",
     "text": [
      "Checkpoint saved! New best accuracy: 43.91%\n",
      "Epoch: 6/200 | Train Loss: 2.0513 | Train Acc: 44.23% | Test Loss: 2.0787 | Test Acc: 43.91%\n"
     ]
    },
    {
     "name": "stderr",
     "output_type": "stream",
     "text": [
      "Epoch 7/200 [Train]: 100%|██████████| 391/391 [00:09<00:00, 41.00it/s, loss=1.9123, acc=47.38%, lr=0.100000]\n",
      "Epoch 7/200 [Test]: 100%|██████████| 79/79 [00:01<00:00, 68.58it/s, loss=2.0616, acc=45.54%]\n"
     ]
    },
    {
     "name": "stdout",
     "output_type": "stream",
     "text": [
      "Checkpoint saved! New best accuracy: 45.54%\n",
      "Epoch: 7/200 | Train Loss: 1.9123 | Train Acc: 47.38% | Test Loss: 2.0616 | Test Acc: 45.54%\n"
     ]
    },
    {
     "name": "stderr",
     "output_type": "stream",
     "text": [
      "Epoch 8/200 [Train]: 100%|██████████| 391/391 [00:10<00:00, 38.01it/s, loss=1.7880, acc=50.11%, lr=0.100000]\n",
      "Epoch 8/200 [Test]: 100%|██████████| 79/79 [00:01<00:00, 49.44it/s, loss=1.8796, acc=50.23%]\n"
     ]
    },
    {
     "name": "stdout",
     "output_type": "stream",
     "text": [
      "Checkpoint saved! New best accuracy: 50.23%\n",
      "Epoch: 8/200 | Train Loss: 1.7880 | Train Acc: 50.11% | Test Loss: 1.8796 | Test Acc: 50.23%\n"
     ]
    },
    {
     "name": "stderr",
     "output_type": "stream",
     "text": [
      "Epoch 9/200 [Train]: 100%|██████████| 391/391 [00:09<00:00, 40.85it/s, loss=1.6674, acc=53.42%, lr=0.100000]\n",
      "Epoch 9/200 [Test]: 100%|██████████| 79/79 [00:01<00:00, 52.09it/s, loss=1.8501, acc=50.48%]\n"
     ]
    },
    {
     "name": "stdout",
     "output_type": "stream",
     "text": [
      "Checkpoint saved! New best accuracy: 50.48%\n",
      "Epoch: 9/200 | Train Loss: 1.6674 | Train Acc: 53.42% | Test Loss: 1.8501 | Test Acc: 50.48%\n"
     ]
    },
    {
     "name": "stderr",
     "output_type": "stream",
     "text": [
      "Epoch 10/200 [Train]: 100%|██████████| 391/391 [00:09<00:00, 42.23it/s, loss=1.5775, acc=55.40%, lr=0.100000]\n",
      "Epoch 10/200 [Test]: 100%|██████████| 79/79 [00:01<00:00, 64.15it/s, loss=1.8430, acc=51.18%]\n"
     ]
    },
    {
     "name": "stdout",
     "output_type": "stream",
     "text": [
      "Checkpoint saved! New best accuracy: 51.18%\n",
      "Epoch: 10/200 | Train Loss: 1.5775 | Train Acc: 55.40% | Test Loss: 1.8430 | Test Acc: 51.18%\n"
     ]
    },
    {
     "name": "stderr",
     "output_type": "stream",
     "text": [
      "Epoch 11/200 [Train]: 100%|██████████| 391/391 [00:09<00:00, 39.80it/s, loss=1.4815, acc=57.65%, lr=0.100000]\n",
      "Epoch 11/200 [Test]: 100%|██████████| 79/79 [00:00<00:00, 81.02it/s, loss=1.7200, acc=53.23%] \n"
     ]
    },
    {
     "name": "stdout",
     "output_type": "stream",
     "text": [
      "Checkpoint saved! New best accuracy: 53.23%\n",
      "Epoch: 11/200 | Train Loss: 1.4815 | Train Acc: 57.65% | Test Loss: 1.7200 | Test Acc: 53.23%\n"
     ]
    },
    {
     "name": "stderr",
     "output_type": "stream",
     "text": [
      "Epoch 12/200 [Train]: 100%|██████████| 391/391 [00:09<00:00, 42.11it/s, loss=1.3952, acc=59.92%, lr=0.100000]\n",
      "Epoch 12/200 [Test]: 100%|██████████| 79/79 [00:01<00:00, 51.76it/s, loss=1.9118, acc=49.99%]\n"
     ]
    },
    {
     "name": "stdout",
     "output_type": "stream",
     "text": [
      "Epoch: 12/200 | Train Loss: 1.3952 | Train Acc: 59.92% | Test Loss: 1.9118 | Test Acc: 49.99%\n"
     ]
    },
    {
     "name": "stderr",
     "output_type": "stream",
     "text": [
      "Epoch 13/200 [Train]: 100%|██████████| 391/391 [00:10<00:00, 38.98it/s, loss=1.3379, acc=61.47%, lr=0.100000]\n",
      "Epoch 13/200 [Test]: 100%|██████████| 79/79 [00:01<00:00, 65.25it/s, loss=1.7619, acc=53.27%]\n"
     ]
    },
    {
     "name": "stdout",
     "output_type": "stream",
     "text": [
      "Checkpoint saved! New best accuracy: 53.27%\n",
      "Epoch: 13/200 | Train Loss: 1.3379 | Train Acc: 61.47% | Test Loss: 1.7619 | Test Acc: 53.27%\n"
     ]
    },
    {
     "name": "stderr",
     "output_type": "stream",
     "text": [
      "Epoch 14/200 [Train]: 100%|██████████| 391/391 [00:09<00:00, 42.07it/s, loss=1.2710, acc=62.97%, lr=0.100000]\n",
      "Epoch 14/200 [Test]: 100%|██████████| 79/79 [00:01<00:00, 59.73it/s, loss=1.8308, acc=51.89%]\n"
     ]
    },
    {
     "name": "stdout",
     "output_type": "stream",
     "text": [
      "Epoch: 14/200 | Train Loss: 1.2710 | Train Acc: 62.97% | Test Loss: 1.8308 | Test Acc: 51.89%\n"
     ]
    },
    {
     "name": "stderr",
     "output_type": "stream",
     "text": [
      "Epoch 15/200 [Train]: 100%|██████████| 391/391 [00:09<00:00, 42.59it/s, loss=1.2170, acc=64.27%, lr=0.100000]\n",
      "Epoch 15/200 [Test]: 100%|██████████| 79/79 [00:01<00:00, 61.58it/s, loss=1.7426, acc=54.75%]\n"
     ]
    },
    {
     "name": "stdout",
     "output_type": "stream",
     "text": [
      "Checkpoint saved! New best accuracy: 54.75%\n",
      "Epoch: 15/200 | Train Loss: 1.2170 | Train Acc: 64.27% | Test Loss: 1.7426 | Test Acc: 54.75%\n"
     ]
    },
    {
     "name": "stderr",
     "output_type": "stream",
     "text": [
      "Epoch 16/200 [Train]: 100%|██████████| 391/391 [00:09<00:00, 42.84it/s, loss=1.1605, acc=65.60%, lr=0.100000]\n",
      "Epoch 16/200 [Test]: 100%|██████████| 79/79 [00:01<00:00, 66.17it/s, loss=1.6902, acc=54.94%]\n"
     ]
    },
    {
     "name": "stdout",
     "output_type": "stream",
     "text": [
      "Checkpoint saved! New best accuracy: 54.94%\n",
      "Epoch: 16/200 | Train Loss: 1.1605 | Train Acc: 65.60% | Test Loss: 1.6902 | Test Acc: 54.94%\n"
     ]
    },
    {
     "name": "stderr",
     "output_type": "stream",
     "text": [
      "Epoch 17/200 [Train]: 100%|██████████| 391/391 [00:09<00:00, 42.43it/s, loss=1.1104, acc=66.96%, lr=0.100000]\n",
      "Epoch 17/200 [Test]: 100%|██████████| 79/79 [00:01<00:00, 58.72it/s, loss=1.6659, acc=56.00%]\n"
     ]
    },
    {
     "name": "stdout",
     "output_type": "stream",
     "text": [
      "Checkpoint saved! New best accuracy: 56.00%\n",
      "Epoch: 17/200 | Train Loss: 1.1104 | Train Acc: 66.96% | Test Loss: 1.6659 | Test Acc: 56.00%\n"
     ]
    },
    {
     "name": "stderr",
     "output_type": "stream",
     "text": [
      "Epoch 18/200 [Train]: 100%|██████████| 391/391 [00:09<00:00, 40.51it/s, loss=1.0488, acc=68.58%, lr=0.100000]\n",
      "Epoch 18/200 [Test]: 100%|██████████| 79/79 [00:01<00:00, 48.84it/s, loss=1.6885, acc=56.42%]\n"
     ]
    },
    {
     "name": "stdout",
     "output_type": "stream",
     "text": [
      "Checkpoint saved! New best accuracy: 56.42%\n",
      "Epoch: 18/200 | Train Loss: 1.0488 | Train Acc: 68.58% | Test Loss: 1.6885 | Test Acc: 56.42%\n"
     ]
    },
    {
     "name": "stderr",
     "output_type": "stream",
     "text": [
      "Epoch 19/200 [Train]: 100%|██████████| 391/391 [00:09<00:00, 42.65it/s, loss=1.0067, acc=69.71%, lr=0.100000]\n",
      "Epoch 19/200 [Test]: 100%|██████████| 79/79 [00:01<00:00, 56.22it/s, loss=1.6803, acc=57.05%]\n"
     ]
    },
    {
     "name": "stdout",
     "output_type": "stream",
     "text": [
      "Checkpoint saved! New best accuracy: 57.05%\n",
      "Epoch: 19/200 | Train Loss: 1.0067 | Train Acc: 69.71% | Test Loss: 1.6803 | Test Acc: 57.05%\n"
     ]
    },
    {
     "name": "stderr",
     "output_type": "stream",
     "text": [
      "Epoch 20/200 [Train]: 100%|██████████| 391/391 [00:09<00:00, 41.49it/s, loss=0.9617, acc=71.01%, lr=0.100000]\n",
      "Epoch 20/200 [Test]: 100%|██████████| 79/79 [00:00<00:00, 88.25it/s, loss=1.6623, acc=57.48%] \n"
     ]
    },
    {
     "name": "stdout",
     "output_type": "stream",
     "text": [
      "Checkpoint saved! New best accuracy: 57.48%\n",
      "Epoch: 20/200 | Train Loss: 0.9617 | Train Acc: 71.01% | Test Loss: 1.6623 | Test Acc: 57.48%\n"
     ]
    },
    {
     "name": "stderr",
     "output_type": "stream",
     "text": [
      "Epoch 21/200 [Train]: 100%|██████████| 391/391 [00:09<00:00, 41.60it/s, loss=0.9216, acc=72.12%, lr=0.100000]\n",
      "Epoch 21/200 [Test]: 100%|██████████| 79/79 [00:01<00:00, 54.22it/s, loss=1.6901, acc=56.73%]\n"
     ]
    },
    {
     "name": "stdout",
     "output_type": "stream",
     "text": [
      "Epoch: 21/200 | Train Loss: 0.9216 | Train Acc: 72.12% | Test Loss: 1.6901 | Test Acc: 56.73%\n"
     ]
    },
    {
     "name": "stderr",
     "output_type": "stream",
     "text": [
      "Epoch 22/200 [Train]: 100%|██████████| 391/391 [00:09<00:00, 41.09it/s, loss=0.8888, acc=72.79%, lr=0.100000]\n",
      "Epoch 22/200 [Test]: 100%|██████████| 79/79 [00:01<00:00, 60.24it/s, loss=1.6615, acc=57.59%]\n"
     ]
    },
    {
     "name": "stdout",
     "output_type": "stream",
     "text": [
      "Checkpoint saved! New best accuracy: 57.59%\n",
      "Epoch: 22/200 | Train Loss: 0.8888 | Train Acc: 72.79% | Test Loss: 1.6615 | Test Acc: 57.59%\n"
     ]
    },
    {
     "name": "stderr",
     "output_type": "stream",
     "text": [
      "Epoch 23/200 [Train]: 100%|██████████| 391/391 [00:09<00:00, 41.34it/s, loss=0.8405, acc=74.38%, lr=0.100000]\n",
      "Epoch 23/200 [Test]: 100%|██████████| 79/79 [00:01<00:00, 58.15it/s, loss=1.7452, acc=56.68%]\n"
     ]
    },
    {
     "name": "stdout",
     "output_type": "stream",
     "text": [
      "Epoch: 23/200 | Train Loss: 0.8405 | Train Acc: 74.38% | Test Loss: 1.7452 | Test Acc: 56.68%\n"
     ]
    },
    {
     "name": "stderr",
     "output_type": "stream",
     "text": [
      "Epoch 24/200 [Train]: 100%|██████████| 391/391 [00:09<00:00, 41.69it/s, loss=0.8221, acc=74.80%, lr=0.100000]\n",
      "Epoch 24/200 [Test]: 100%|██████████| 79/79 [00:01<00:00, 57.95it/s, loss=1.6485, acc=58.66%]\n"
     ]
    },
    {
     "name": "stdout",
     "output_type": "stream",
     "text": [
      "Checkpoint saved! New best accuracy: 58.66%\n",
      "Epoch: 24/200 | Train Loss: 0.8221 | Train Acc: 74.80% | Test Loss: 1.6485 | Test Acc: 58.66%\n"
     ]
    },
    {
     "name": "stderr",
     "output_type": "stream",
     "text": [
      "Epoch 25/200 [Train]: 100%|██████████| 391/391 [00:09<00:00, 40.26it/s, loss=0.7852, acc=75.75%, lr=0.100000]\n",
      "Epoch 25/200 [Test]: 100%|██████████| 79/79 [00:01<00:00, 57.69it/s, loss=1.6914, acc=58.10%]\n"
     ]
    },
    {
     "name": "stdout",
     "output_type": "stream",
     "text": [
      "Epoch: 25/200 | Train Loss: 0.7852 | Train Acc: 75.75% | Test Loss: 1.6914 | Test Acc: 58.10%\n"
     ]
    },
    {
     "name": "stderr",
     "output_type": "stream",
     "text": [
      "Epoch 26/200 [Train]: 100%|██████████| 391/391 [00:09<00:00, 42.32it/s, loss=0.7483, acc=76.72%, lr=0.100000]\n",
      "Epoch 26/200 [Test]: 100%|██████████| 79/79 [00:01<00:00, 59.39it/s, loss=1.6509, acc=59.39%]\n"
     ]
    },
    {
     "name": "stdout",
     "output_type": "stream",
     "text": [
      "Checkpoint saved! New best accuracy: 59.39%\n",
      "Epoch: 26/200 | Train Loss: 0.7483 | Train Acc: 76.72% | Test Loss: 1.6509 | Test Acc: 59.39%\n"
     ]
    },
    {
     "name": "stderr",
     "output_type": "stream",
     "text": [
      "Epoch 27/200 [Train]: 100%|██████████| 391/391 [00:09<00:00, 42.58it/s, loss=0.7130, acc=77.70%, lr=0.100000]\n",
      "Epoch 27/200 [Test]: 100%|██████████| 79/79 [00:01<00:00, 47.50it/s, loss=1.6644, acc=59.25%]\n"
     ]
    },
    {
     "name": "stdout",
     "output_type": "stream",
     "text": [
      "Epoch: 27/200 | Train Loss: 0.7130 | Train Acc: 77.70% | Test Loss: 1.6644 | Test Acc: 59.25%\n"
     ]
    },
    {
     "name": "stderr",
     "output_type": "stream",
     "text": [
      "Epoch 28/200 [Train]: 100%|██████████| 391/391 [00:08<00:00, 44.31it/s, loss=0.6856, acc=78.49%, lr=0.100000]\n",
      "Epoch 28/200 [Test]: 100%|██████████| 79/79 [00:01<00:00, 53.37it/s, loss=1.7206, acc=59.02%]\n"
     ]
    },
    {
     "name": "stdout",
     "output_type": "stream",
     "text": [
      "Epoch: 28/200 | Train Loss: 0.6856 | Train Acc: 78.49% | Test Loss: 1.7206 | Test Acc: 59.02%\n"
     ]
    },
    {
     "name": "stderr",
     "output_type": "stream",
     "text": [
      "Epoch 29/200 [Train]: 100%|██████████| 391/391 [00:10<00:00, 38.94it/s, loss=0.6685, acc=78.87%, lr=0.100000]\n",
      "Epoch 29/200 [Test]: 100%|██████████| 79/79 [00:00<00:00, 86.93it/s, loss=1.7563, acc=58.48%] \n"
     ]
    },
    {
     "name": "stdout",
     "output_type": "stream",
     "text": [
      "Epoch: 29/200 | Train Loss: 0.6685 | Train Acc: 78.87% | Test Loss: 1.7563 | Test Acc: 58.48%\n"
     ]
    },
    {
     "name": "stderr",
     "output_type": "stream",
     "text": [
      "Epoch 30/200 [Train]: 100%|██████████| 391/391 [00:09<00:00, 42.30it/s, loss=0.6409, acc=79.77%, lr=0.100000]\n",
      "Epoch 30/200 [Test]: 100%|██████████| 79/79 [00:01<00:00, 57.40it/s, loss=1.7711, acc=58.13%]\n"
     ]
    },
    {
     "name": "stdout",
     "output_type": "stream",
     "text": [
      "Epoch: 30/200 | Train Loss: 0.6409 | Train Acc: 79.77% | Test Loss: 1.7711 | Test Acc: 58.13%\n"
     ]
    },
    {
     "name": "stderr",
     "output_type": "stream",
     "text": [
      "Epoch 31/200 [Train]: 100%|██████████| 391/391 [00:09<00:00, 39.85it/s, loss=0.6205, acc=80.42%, lr=0.100000]\n",
      "Epoch 31/200 [Test]: 100%|██████████| 79/79 [00:01<00:00, 54.11it/s, loss=1.7132, acc=58.44%]\n"
     ]
    },
    {
     "name": "stdout",
     "output_type": "stream",
     "text": [
      "Epoch: 31/200 | Train Loss: 0.6205 | Train Acc: 80.42% | Test Loss: 1.7132 | Test Acc: 58.44%\n"
     ]
    },
    {
     "name": "stderr",
     "output_type": "stream",
     "text": [
      "Epoch 32/200 [Train]: 100%|██████████| 391/391 [00:09<00:00, 41.99it/s, loss=0.5946, acc=81.10%, lr=0.100000]\n",
      "Epoch 32/200 [Test]: 100%|██████████| 79/79 [00:01<00:00, 69.28it/s, loss=1.8226, acc=57.35%]\n"
     ]
    },
    {
     "name": "stdout",
     "output_type": "stream",
     "text": [
      "Epoch: 32/200 | Train Loss: 0.5946 | Train Acc: 81.10% | Test Loss: 1.8226 | Test Acc: 57.35%\n"
     ]
    },
    {
     "name": "stderr",
     "output_type": "stream",
     "text": [
      "Epoch 33/200 [Train]: 100%|██████████| 391/391 [00:09<00:00, 41.58it/s, loss=0.5814, acc=81.63%, lr=0.100000]\n",
      "Epoch 33/200 [Test]: 100%|██████████| 79/79 [00:01<00:00, 62.17it/s, loss=1.8173, acc=58.43%]\n"
     ]
    },
    {
     "name": "stdout",
     "output_type": "stream",
     "text": [
      "Epoch: 33/200 | Train Loss: 0.5814 | Train Acc: 81.63% | Test Loss: 1.8173 | Test Acc: 58.43%\n"
     ]
    },
    {
     "name": "stderr",
     "output_type": "stream",
     "text": [
      "Epoch 34/200 [Train]: 100%|██████████| 391/391 [00:09<00:00, 41.33it/s, loss=0.5545, acc=82.52%, lr=0.100000]\n",
      "Epoch 34/200 [Test]: 100%|██████████| 79/79 [00:01<00:00, 47.81it/s, loss=1.8441, acc=58.50%]\n"
     ]
    },
    {
     "name": "stdout",
     "output_type": "stream",
     "text": [
      "Epoch: 34/200 | Train Loss: 0.5545 | Train Acc: 82.52% | Test Loss: 1.8441 | Test Acc: 58.50%\n"
     ]
    },
    {
     "name": "stderr",
     "output_type": "stream",
     "text": [
      "Epoch 35/200 [Train]: 100%|██████████| 391/391 [00:09<00:00, 42.32it/s, loss=0.5349, acc=83.04%, lr=0.100000]\n",
      "Epoch 35/200 [Test]: 100%|██████████| 79/79 [00:01<00:00, 63.87it/s, loss=1.8844, acc=58.26%]\n"
     ]
    },
    {
     "name": "stdout",
     "output_type": "stream",
     "text": [
      "Epoch: 35/200 | Train Loss: 0.5349 | Train Acc: 83.04% | Test Loss: 1.8844 | Test Acc: 58.26%\n"
     ]
    },
    {
     "name": "stderr",
     "output_type": "stream",
     "text": [
      "Epoch 36/200 [Train]: 100%|██████████| 391/391 [00:09<00:00, 40.76it/s, loss=0.5277, acc=83.12%, lr=0.100000]\n",
      "Epoch 36/200 [Test]: 100%|██████████| 79/79 [00:01<00:00, 61.08it/s, loss=1.7619, acc=59.99%]\n"
     ]
    },
    {
     "name": "stdout",
     "output_type": "stream",
     "text": [
      "Checkpoint saved! New best accuracy: 59.99%\n",
      "Epoch: 36/200 | Train Loss: 0.5277 | Train Acc: 83.12% | Test Loss: 1.7619 | Test Acc: 59.99%\n"
     ]
    },
    {
     "name": "stderr",
     "output_type": "stream",
     "text": [
      "Epoch 37/200 [Train]: 100%|██████████| 391/391 [00:09<00:00, 42.33it/s, loss=0.5130, acc=83.60%, lr=0.100000]\n",
      "Epoch 37/200 [Test]: 100%|██████████| 79/79 [00:01<00:00, 59.97it/s, loss=1.9298, acc=57.53%]\n"
     ]
    },
    {
     "name": "stdout",
     "output_type": "stream",
     "text": [
      "Epoch: 37/200 | Train Loss: 0.5130 | Train Acc: 83.60% | Test Loss: 1.9298 | Test Acc: 57.53%\n"
     ]
    },
    {
     "name": "stderr",
     "output_type": "stream",
     "text": [
      "Epoch 38/200 [Train]: 100%|██████████| 391/391 [00:09<00:00, 41.21it/s, loss=0.4916, acc=84.40%, lr=0.100000]\n",
      "Epoch 38/200 [Test]: 100%|██████████| 79/79 [00:01<00:00, 50.99it/s, loss=1.8885, acc=59.07%]\n"
     ]
    },
    {
     "name": "stdout",
     "output_type": "stream",
     "text": [
      "Epoch: 38/200 | Train Loss: 0.4916 | Train Acc: 84.40% | Test Loss: 1.8885 | Test Acc: 59.07%\n"
     ]
    },
    {
     "name": "stderr",
     "output_type": "stream",
     "text": [
      "Epoch 39/200 [Train]: 100%|██████████| 391/391 [00:09<00:00, 42.45it/s, loss=0.4801, acc=84.80%, lr=0.100000]\n",
      "Epoch 39/200 [Test]: 100%|██████████| 79/79 [00:01<00:00, 63.37it/s, loss=1.7779, acc=59.76%]\n"
     ]
    },
    {
     "name": "stdout",
     "output_type": "stream",
     "text": [
      "Epoch: 39/200 | Train Loss: 0.4801 | Train Acc: 84.80% | Test Loss: 1.7779 | Test Acc: 59.76%\n"
     ]
    },
    {
     "name": "stderr",
     "output_type": "stream",
     "text": [
      "Epoch 40/200 [Train]: 100%|██████████| 391/391 [00:09<00:00, 39.39it/s, loss=0.4635, acc=85.07%, lr=0.100000]\n",
      "Epoch 40/200 [Test]: 100%|██████████| 79/79 [00:01<00:00, 70.92it/s, loss=1.8961, acc=58.16%]\n"
     ]
    },
    {
     "name": "stdout",
     "output_type": "stream",
     "text": [
      "Epoch: 40/200 | Train Loss: 0.4635 | Train Acc: 85.07% | Test Loss: 1.8961 | Test Acc: 58.16%\n"
     ]
    },
    {
     "name": "stderr",
     "output_type": "stream",
     "text": [
      "Epoch 41/200 [Train]: 100%|██████████| 391/391 [00:09<00:00, 42.25it/s, loss=0.4627, acc=85.21%, lr=0.100000]\n",
      "Epoch 41/200 [Test]: 100%|██████████| 79/79 [00:01<00:00, 51.31it/s, loss=1.9116, acc=58.50%]\n"
     ]
    },
    {
     "name": "stdout",
     "output_type": "stream",
     "text": [
      "Epoch: 41/200 | Train Loss: 0.4627 | Train Acc: 85.21% | Test Loss: 1.9116 | Test Acc: 58.50%\n"
     ]
    },
    {
     "name": "stderr",
     "output_type": "stream",
     "text": [
      "Epoch 42/200 [Train]: 100%|██████████| 391/391 [00:09<00:00, 42.17it/s, loss=0.4567, acc=85.16%, lr=0.100000]\n",
      "Epoch 42/200 [Test]: 100%|██████████| 79/79 [00:01<00:00, 59.37it/s, loss=1.8789, acc=59.36%]\n"
     ]
    },
    {
     "name": "stdout",
     "output_type": "stream",
     "text": [
      "Epoch: 42/200 | Train Loss: 0.4567 | Train Acc: 85.16% | Test Loss: 1.8789 | Test Acc: 59.36%\n"
     ]
    },
    {
     "name": "stderr",
     "output_type": "stream",
     "text": [
      "Epoch 43/200 [Train]: 100%|██████████| 391/391 [00:09<00:00, 40.73it/s, loss=0.4240, acc=86.38%, lr=0.100000]\n",
      "Epoch 43/200 [Test]: 100%|██████████| 79/79 [00:00<00:00, 83.25it/s, loss=1.9007, acc=59.37%] \n"
     ]
    },
    {
     "name": "stdout",
     "output_type": "stream",
     "text": [
      "Epoch: 43/200 | Train Loss: 0.4240 | Train Acc: 86.38% | Test Loss: 1.9007 | Test Acc: 59.37%\n"
     ]
    },
    {
     "name": "stderr",
     "output_type": "stream",
     "text": [
      "Epoch 44/200 [Train]: 100%|██████████| 391/391 [00:09<00:00, 42.13it/s, loss=0.4216, acc=86.49%, lr=0.100000]\n",
      "Epoch 44/200 [Test]: 100%|██████████| 79/79 [00:01<00:00, 63.30it/s, loss=1.8497, acc=59.74%]\n"
     ]
    },
    {
     "name": "stdout",
     "output_type": "stream",
     "text": [
      "Epoch: 44/200 | Train Loss: 0.4216 | Train Acc: 86.49% | Test Loss: 1.8497 | Test Acc: 59.74%\n"
     ]
    },
    {
     "name": "stderr",
     "output_type": "stream",
     "text": [
      "Epoch 45/200 [Train]: 100%|██████████| 391/391 [00:09<00:00, 40.62it/s, loss=0.4064, acc=86.91%, lr=0.100000]\n",
      "Epoch 45/200 [Test]: 100%|██████████| 79/79 [00:01<00:00, 50.22it/s, loss=1.9389, acc=58.94%]\n"
     ]
    },
    {
     "name": "stdout",
     "output_type": "stream",
     "text": [
      "Epoch: 45/200 | Train Loss: 0.4064 | Train Acc: 86.91% | Test Loss: 1.9389 | Test Acc: 58.94%\n"
     ]
    },
    {
     "name": "stderr",
     "output_type": "stream",
     "text": [
      "Epoch 46/200 [Train]: 100%|██████████| 391/391 [00:09<00:00, 42.89it/s, loss=0.4066, acc=87.01%, lr=0.100000]\n",
      "Epoch 46/200 [Test]: 100%|██████████| 79/79 [00:01<00:00, 58.49it/s, loss=1.8254, acc=60.29%]\n"
     ]
    },
    {
     "name": "stdout",
     "output_type": "stream",
     "text": [
      "Checkpoint saved! New best accuracy: 60.29%\n",
      "Epoch: 46/200 | Train Loss: 0.4066 | Train Acc: 87.01% | Test Loss: 1.8254 | Test Acc: 60.29%\n"
     ]
    },
    {
     "name": "stderr",
     "output_type": "stream",
     "text": [
      "Epoch 47/200 [Train]: 100%|██████████| 391/391 [00:09<00:00, 40.42it/s, loss=0.3937, acc=87.26%, lr=0.100000]\n",
      "Epoch 47/200 [Test]: 100%|██████████| 79/79 [00:01<00:00, 51.69it/s, loss=1.8653, acc=60.09%]\n"
     ]
    },
    {
     "name": "stdout",
     "output_type": "stream",
     "text": [
      "Epoch: 47/200 | Train Loss: 0.3937 | Train Acc: 87.26% | Test Loss: 1.8653 | Test Acc: 60.09%\n"
     ]
    },
    {
     "name": "stderr",
     "output_type": "stream",
     "text": [
      "Epoch 48/200 [Train]: 100%|██████████| 391/391 [00:09<00:00, 43.14it/s, loss=0.4029, acc=87.10%, lr=0.100000]\n",
      "Epoch 48/200 [Test]: 100%|██████████| 79/79 [00:01<00:00, 57.68it/s, loss=1.8702, acc=59.68%]\n"
     ]
    },
    {
     "name": "stdout",
     "output_type": "stream",
     "text": [
      "Epoch: 48/200 | Train Loss: 0.4029 | Train Acc: 87.10% | Test Loss: 1.8702 | Test Acc: 59.68%\n"
     ]
    },
    {
     "name": "stderr",
     "output_type": "stream",
     "text": [
      "Epoch 49/200 [Train]: 100%|██████████| 391/391 [00:09<00:00, 41.26it/s, loss=0.3854, acc=87.77%, lr=0.100000]\n",
      "Epoch 49/200 [Test]: 100%|██████████| 79/79 [00:01<00:00, 57.42it/s, loss=2.0024, acc=57.83%]\n"
     ]
    },
    {
     "name": "stdout",
     "output_type": "stream",
     "text": [
      "Epoch: 49/200 | Train Loss: 0.3854 | Train Acc: 87.77% | Test Loss: 2.0024 | Test Acc: 57.83%\n"
     ]
    },
    {
     "name": "stderr",
     "output_type": "stream",
     "text": [
      "Epoch 50/200 [Train]: 100%|██████████| 391/391 [00:09<00:00, 43.24it/s, loss=0.3723, acc=88.15%, lr=0.100000]\n",
      "Epoch 50/200 [Test]: 100%|██████████| 79/79 [00:01<00:00, 63.53it/s, loss=1.9279, acc=58.37%]\n"
     ]
    },
    {
     "name": "stdout",
     "output_type": "stream",
     "text": [
      "Epoch: 50/200 | Train Loss: 0.3723 | Train Acc: 88.15% | Test Loss: 1.9279 | Test Acc: 58.37%\n"
     ]
    },
    {
     "name": "stderr",
     "output_type": "stream",
     "text": [
      "Epoch 51/200 [Train]: 100%|██████████| 391/391 [00:09<00:00, 41.14it/s, loss=0.3630, acc=88.38%, lr=0.100000]\n",
      "Epoch 51/200 [Test]: 100%|██████████| 79/79 [00:00<00:00, 83.51it/s, loss=1.9451, acc=59.08%] \n"
     ]
    },
    {
     "name": "stdout",
     "output_type": "stream",
     "text": [
      "Epoch: 51/200 | Train Loss: 0.3630 | Train Acc: 88.38% | Test Loss: 1.9451 | Test Acc: 59.08%\n"
     ]
    },
    {
     "name": "stderr",
     "output_type": "stream",
     "text": [
      "Epoch 52/200 [Train]: 100%|██████████| 391/391 [00:09<00:00, 41.27it/s, loss=0.3749, acc=87.87%, lr=0.100000]\n",
      "Epoch 52/200 [Test]: 100%|██████████| 79/79 [00:01<00:00, 54.09it/s, loss=2.0451, acc=59.05%]\n"
     ]
    },
    {
     "name": "stdout",
     "output_type": "stream",
     "text": [
      "Epoch: 52/200 | Train Loss: 0.3749 | Train Acc: 87.87% | Test Loss: 2.0451 | Test Acc: 59.05%\n"
     ]
    },
    {
     "name": "stderr",
     "output_type": "stream",
     "text": [
      "Epoch 53/200 [Train]: 100%|██████████| 391/391 [00:09<00:00, 43.04it/s, loss=0.3684, acc=87.99%, lr=0.100000]\n",
      "Epoch 53/200 [Test]: 100%|██████████| 79/79 [00:01<00:00, 61.55it/s, loss=2.0253, acc=57.86%]\n"
     ]
    },
    {
     "name": "stdout",
     "output_type": "stream",
     "text": [
      "Epoch: 53/200 | Train Loss: 0.3684 | Train Acc: 87.99% | Test Loss: 2.0253 | Test Acc: 57.86%\n"
     ]
    },
    {
     "name": "stderr",
     "output_type": "stream",
     "text": [
      "Epoch 54/200 [Train]: 100%|██████████| 391/391 [00:09<00:00, 40.85it/s, loss=0.3540, acc=88.69%, lr=0.100000]\n",
      "Epoch 54/200 [Test]: 100%|██████████| 79/79 [00:01<00:00, 77.85it/s, loss=1.9625, acc=58.69%] \n"
     ]
    },
    {
     "name": "stdout",
     "output_type": "stream",
     "text": [
      "Epoch: 54/200 | Train Loss: 0.3540 | Train Acc: 88.69% | Test Loss: 1.9625 | Test Acc: 58.69%\n"
     ]
    },
    {
     "name": "stderr",
     "output_type": "stream",
     "text": [
      "Epoch 55/200 [Train]: 100%|██████████| 391/391 [00:09<00:00, 42.29it/s, loss=0.3525, acc=88.68%, lr=0.100000]\n",
      "Epoch 55/200 [Test]: 100%|██████████| 79/79 [00:01<00:00, 48.57it/s, loss=1.8777, acc=60.19%]\n"
     ]
    },
    {
     "name": "stdout",
     "output_type": "stream",
     "text": [
      "Epoch: 55/200 | Train Loss: 0.3525 | Train Acc: 88.68% | Test Loss: 1.8777 | Test Acc: 60.19%\n"
     ]
    },
    {
     "name": "stderr",
     "output_type": "stream",
     "text": [
      "Epoch 56/200 [Train]: 100%|██████████| 391/391 [00:09<00:00, 41.64it/s, loss=0.3545, acc=88.56%, lr=0.100000]\n",
      "Epoch 56/200 [Test]: 100%|██████████| 79/79 [00:01<00:00, 51.14it/s, loss=2.0297, acc=57.72%]\n"
     ]
    },
    {
     "name": "stdout",
     "output_type": "stream",
     "text": [
      "Epoch: 56/200 | Train Loss: 0.3545 | Train Acc: 88.56% | Test Loss: 2.0297 | Test Acc: 57.72%\n"
     ]
    },
    {
     "name": "stderr",
     "output_type": "stream",
     "text": [
      "Epoch 57/200 [Train]: 100%|██████████| 391/391 [00:09<00:00, 41.94it/s, loss=0.3401, acc=89.08%, lr=0.100000]\n",
      "Epoch 57/200 [Test]: 100%|██████████| 79/79 [00:01<00:00, 63.00it/s, loss=1.9500, acc=59.30%]\n"
     ]
    },
    {
     "name": "stdout",
     "output_type": "stream",
     "text": [
      "Epoch: 57/200 | Train Loss: 0.3401 | Train Acc: 89.08% | Test Loss: 1.9500 | Test Acc: 59.30%\n"
     ]
    },
    {
     "name": "stderr",
     "output_type": "stream",
     "text": [
      "Epoch 58/200 [Train]: 100%|██████████| 391/391 [00:09<00:00, 41.07it/s, loss=0.3432, acc=89.00%, lr=0.100000]\n",
      "Epoch 58/200 [Test]: 100%|██████████| 79/79 [00:01<00:00, 43.66it/s, loss=2.0092, acc=58.31%]\n"
     ]
    },
    {
     "name": "stdout",
     "output_type": "stream",
     "text": [
      "Epoch: 58/200 | Train Loss: 0.3432 | Train Acc: 89.00% | Test Loss: 2.0092 | Test Acc: 58.31%\n"
     ]
    },
    {
     "name": "stderr",
     "output_type": "stream",
     "text": [
      "Epoch 59/200 [Train]: 100%|██████████| 391/391 [00:09<00:00, 42.42it/s, loss=0.3316, acc=89.50%, lr=0.100000]\n",
      "Epoch 59/200 [Test]: 100%|██████████| 79/79 [00:01<00:00, 52.28it/s, loss=2.0009, acc=58.98%]\n"
     ]
    },
    {
     "name": "stdout",
     "output_type": "stream",
     "text": [
      "Epoch: 59/200 | Train Loss: 0.3316 | Train Acc: 89.50% | Test Loss: 2.0009 | Test Acc: 58.98%\n"
     ]
    },
    {
     "name": "stderr",
     "output_type": "stream",
     "text": [
      "Epoch 60/200 [Train]: 100%|██████████| 391/391 [00:09<00:00, 40.82it/s, loss=0.3314, acc=89.40%, lr=0.100000]\n",
      "Epoch 60/200 [Test]: 100%|██████████| 79/79 [00:01<00:00, 78.88it/s, loss=1.9620, acc=58.82%] \n"
     ]
    },
    {
     "name": "stdout",
     "output_type": "stream",
     "text": [
      "Epoch: 60/200 | Train Loss: 0.3314 | Train Acc: 89.40% | Test Loss: 1.9620 | Test Acc: 58.82%\n"
     ]
    },
    {
     "name": "stderr",
     "output_type": "stream",
     "text": [
      "Epoch 61/200 [Train]: 100%|██████████| 391/391 [00:09<00:00, 42.11it/s, loss=0.3218, acc=89.81%, lr=0.100000]\n",
      "Epoch 61/200 [Test]: 100%|██████████| 79/79 [00:01<00:00, 46.66it/s, loss=1.9940, acc=59.78%]\n"
     ]
    },
    {
     "name": "stdout",
     "output_type": "stream",
     "text": [
      "Epoch: 61/200 | Train Loss: 0.3218 | Train Acc: 89.81% | Test Loss: 1.9940 | Test Acc: 59.78%\n"
     ]
    },
    {
     "name": "stderr",
     "output_type": "stream",
     "text": [
      "Epoch 62/200 [Train]: 100%|██████████| 391/391 [00:09<00:00, 41.73it/s, loss=0.3330, acc=89.30%, lr=0.100000]\n",
      "Epoch 62/200 [Test]: 100%|██████████| 79/79 [00:01<00:00, 55.20it/s, loss=1.9690, acc=59.26%]\n"
     ]
    },
    {
     "name": "stdout",
     "output_type": "stream",
     "text": [
      "Epoch: 62/200 | Train Loss: 0.3330 | Train Acc: 89.30% | Test Loss: 1.9690 | Test Acc: 59.26%\n"
     ]
    },
    {
     "name": "stderr",
     "output_type": "stream",
     "text": [
      "Epoch 63/200 [Train]: 100%|██████████| 391/391 [00:09<00:00, 41.18it/s, loss=0.3380, acc=89.24%, lr=0.100000]\n",
      "Epoch 63/200 [Test]: 100%|██████████| 79/79 [00:01<00:00, 68.92it/s, loss=2.1335, acc=57.22%]\n"
     ]
    },
    {
     "name": "stdout",
     "output_type": "stream",
     "text": [
      "Epoch: 63/200 | Train Loss: 0.3380 | Train Acc: 89.24% | Test Loss: 2.1335 | Test Acc: 57.22%\n"
     ]
    },
    {
     "name": "stderr",
     "output_type": "stream",
     "text": [
      "Epoch 64/200 [Train]: 100%|██████████| 391/391 [00:09<00:00, 41.43it/s, loss=0.3202, acc=89.72%, lr=0.100000]\n",
      "Epoch 64/200 [Test]: 100%|██████████| 79/79 [00:01<00:00, 62.34it/s, loss=2.0184, acc=59.30%]\n"
     ]
    },
    {
     "name": "stdout",
     "output_type": "stream",
     "text": [
      "Epoch: 64/200 | Train Loss: 0.3202 | Train Acc: 89.72% | Test Loss: 2.0184 | Test Acc: 59.30%\n"
     ]
    },
    {
     "name": "stderr",
     "output_type": "stream",
     "text": [
      "Epoch 65/200 [Train]: 100%|██████████| 391/391 [00:10<00:00, 37.87it/s, loss=0.3089, acc=90.09%, lr=0.100000]\n",
      "Epoch 65/200 [Test]: 100%|██████████| 79/79 [00:01<00:00, 59.06it/s, loss=1.9643, acc=59.79%]\n"
     ]
    },
    {
     "name": "stdout",
     "output_type": "stream",
     "text": [
      "Epoch: 65/200 | Train Loss: 0.3089 | Train Acc: 90.09% | Test Loss: 1.9643 | Test Acc: 59.79%\n"
     ]
    },
    {
     "name": "stderr",
     "output_type": "stream",
     "text": [
      "Epoch 66/200 [Train]: 100%|██████████| 391/391 [00:09<00:00, 42.07it/s, loss=0.3175, acc=89.88%, lr=0.100000]\n",
      "Epoch 66/200 [Test]: 100%|██████████| 79/79 [00:01<00:00, 49.93it/s, loss=1.9983, acc=58.66%]\n"
     ]
    },
    {
     "name": "stdout",
     "output_type": "stream",
     "text": [
      "Epoch: 66/200 | Train Loss: 0.3175 | Train Acc: 89.88% | Test Loss: 1.9983 | Test Acc: 58.66%\n"
     ]
    },
    {
     "name": "stderr",
     "output_type": "stream",
     "text": [
      "Epoch 67/200 [Train]: 100%|██████████| 391/391 [00:11<00:00, 34.90it/s, loss=0.3061, acc=90.31%, lr=0.100000]\n",
      "Epoch 67/200 [Test]: 100%|██████████| 79/79 [00:00<00:00, 85.45it/s, loss=2.0637, acc=58.16%] \n"
     ]
    },
    {
     "name": "stdout",
     "output_type": "stream",
     "text": [
      "Epoch: 67/200 | Train Loss: 0.3061 | Train Acc: 90.31% | Test Loss: 2.0637 | Test Acc: 58.16%\n"
     ]
    },
    {
     "name": "stderr",
     "output_type": "stream",
     "text": [
      "Epoch 68/200 [Train]: 100%|██████████| 391/391 [00:08<00:00, 43.86it/s, loss=0.3162, acc=89.94%, lr=0.100000]\n",
      "Epoch 68/200 [Test]: 100%|██████████| 79/79 [00:01<00:00, 49.46it/s, loss=1.9863, acc=59.38%]\n"
     ]
    },
    {
     "name": "stdout",
     "output_type": "stream",
     "text": [
      "Epoch: 68/200 | Train Loss: 0.3162 | Train Acc: 89.94% | Test Loss: 1.9863 | Test Acc: 59.38%\n"
     ]
    },
    {
     "name": "stderr",
     "output_type": "stream",
     "text": [
      "Epoch 69/200 [Train]: 100%|██████████| 391/391 [00:09<00:00, 41.86it/s, loss=0.3145, acc=89.83%, lr=0.100000]\n",
      "Epoch 69/200 [Test]: 100%|██████████| 79/79 [00:01<00:00, 58.09it/s, loss=1.9917, acc=58.07%]\n"
     ]
    },
    {
     "name": "stdout",
     "output_type": "stream",
     "text": [
      "Epoch: 69/200 | Train Loss: 0.3145 | Train Acc: 89.83% | Test Loss: 1.9917 | Test Acc: 58.07%\n"
     ]
    },
    {
     "name": "stderr",
     "output_type": "stream",
     "text": [
      "Epoch 70/200 [Train]: 100%|██████████| 391/391 [00:09<00:00, 41.82it/s, loss=0.3055, acc=90.17%, lr=0.100000]\n",
      "Epoch 70/200 [Test]: 100%|██████████| 79/79 [00:01<00:00, 60.77it/s, loss=2.0817, acc=58.27%]\n"
     ]
    },
    {
     "name": "stdout",
     "output_type": "stream",
     "text": [
      "Epoch: 70/200 | Train Loss: 0.3055 | Train Acc: 90.17% | Test Loss: 2.0817 | Test Acc: 58.27%\n"
     ]
    },
    {
     "name": "stderr",
     "output_type": "stream",
     "text": [
      "Epoch 71/200 [Train]: 100%|██████████| 391/391 [00:09<00:00, 41.81it/s, loss=0.3105, acc=90.09%, lr=0.100000]\n",
      "Epoch 71/200 [Test]: 100%|██████████| 79/79 [00:01<00:00, 63.42it/s, loss=1.9753, acc=59.09%]\n"
     ]
    },
    {
     "name": "stdout",
     "output_type": "stream",
     "text": [
      "Epoch: 71/200 | Train Loss: 0.3105 | Train Acc: 90.09% | Test Loss: 1.9753 | Test Acc: 59.09%\n"
     ]
    },
    {
     "name": "stderr",
     "output_type": "stream",
     "text": [
      "Epoch 72/200 [Train]: 100%|██████████| 391/391 [00:09<00:00, 42.96it/s, loss=0.3186, acc=89.70%, lr=0.100000]\n",
      "Epoch 72/200 [Test]: 100%|██████████| 79/79 [00:01<00:00, 49.85it/s, loss=1.9419, acc=59.96%]\n"
     ]
    },
    {
     "name": "stdout",
     "output_type": "stream",
     "text": [
      "Epoch: 72/200 | Train Loss: 0.3186 | Train Acc: 89.70% | Test Loss: 1.9419 | Test Acc: 59.96%\n"
     ]
    },
    {
     "name": "stderr",
     "output_type": "stream",
     "text": [
      "Epoch 73/200 [Train]: 100%|██████████| 391/391 [00:09<00:00, 42.10it/s, loss=0.2922, acc=90.71%, lr=0.100000]\n",
      "Epoch 73/200 [Test]: 100%|██████████| 79/79 [00:01<00:00, 52.97it/s, loss=2.0065, acc=58.75%]\n"
     ]
    },
    {
     "name": "stdout",
     "output_type": "stream",
     "text": [
      "Epoch: 73/200 | Train Loss: 0.2922 | Train Acc: 90.71% | Test Loss: 2.0065 | Test Acc: 58.75%\n"
     ]
    },
    {
     "name": "stderr",
     "output_type": "stream",
     "text": [
      "Epoch 74/200 [Train]: 100%|██████████| 391/391 [00:09<00:00, 39.94it/s, loss=0.2911, acc=90.77%, lr=0.100000]\n",
      "Epoch 74/200 [Test]: 100%|██████████| 79/79 [00:01<00:00, 42.34it/s, loss=1.9424, acc=59.56%]\n"
     ]
    },
    {
     "name": "stdout",
     "output_type": "stream",
     "text": [
      "Epoch: 74/200 | Train Loss: 0.2911 | Train Acc: 90.77% | Test Loss: 1.9424 | Test Acc: 59.56%\n"
     ]
    },
    {
     "name": "stderr",
     "output_type": "stream",
     "text": [
      "Epoch 75/200 [Train]: 100%|██████████| 391/391 [00:09<00:00, 42.98it/s, loss=0.2986, acc=90.50%, lr=0.100000]\n",
      "Epoch 75/200 [Test]: 100%|██████████| 79/79 [00:01<00:00, 64.86it/s, loss=2.0856, acc=57.96%]\n"
     ]
    },
    {
     "name": "stdout",
     "output_type": "stream",
     "text": [
      "Epoch: 75/200 | Train Loss: 0.2986 | Train Acc: 90.50% | Test Loss: 2.0856 | Test Acc: 57.96%\n"
     ]
    },
    {
     "name": "stderr",
     "output_type": "stream",
     "text": [
      "Epoch 76/200 [Train]: 100%|██████████| 391/391 [00:09<00:00, 40.47it/s, loss=0.3063, acc=90.30%, lr=0.100000]\n",
      "Epoch 76/200 [Test]: 100%|██████████| 79/79 [00:01<00:00, 78.81it/s, loss=1.9862, acc=59.46%] \n"
     ]
    },
    {
     "name": "stdout",
     "output_type": "stream",
     "text": [
      "Epoch: 76/200 | Train Loss: 0.3063 | Train Acc: 90.30% | Test Loss: 1.9862 | Test Acc: 59.46%\n"
     ]
    },
    {
     "name": "stderr",
     "output_type": "stream",
     "text": [
      "Epoch 77/200 [Train]: 100%|██████████| 391/391 [00:09<00:00, 41.82it/s, loss=0.2973, acc=90.43%, lr=0.100000]\n",
      "Epoch 77/200 [Test]: 100%|██████████| 79/79 [00:01<00:00, 59.50it/s, loss=2.0724, acc=57.84%]\n"
     ]
    },
    {
     "name": "stdout",
     "output_type": "stream",
     "text": [
      "Epoch: 77/200 | Train Loss: 0.2973 | Train Acc: 90.43% | Test Loss: 2.0724 | Test Acc: 57.84%\n"
     ]
    },
    {
     "name": "stderr",
     "output_type": "stream",
     "text": [
      "Epoch 78/200 [Train]: 100%|██████████| 391/391 [00:09<00:00, 39.30it/s, loss=0.3033, acc=90.30%, lr=0.100000]\n",
      "Epoch 78/200 [Test]: 100%|██████████| 79/79 [00:01<00:00, 60.80it/s, loss=2.0806, acc=58.46%]\n"
     ]
    },
    {
     "name": "stdout",
     "output_type": "stream",
     "text": [
      "Epoch: 78/200 | Train Loss: 0.3033 | Train Acc: 90.30% | Test Loss: 2.0806 | Test Acc: 58.46%\n"
     ]
    },
    {
     "name": "stderr",
     "output_type": "stream",
     "text": [
      "Epoch 79/200 [Train]: 100%|██████████| 391/391 [00:09<00:00, 40.62it/s, loss=0.2915, acc=90.74%, lr=0.100000]\n",
      "Epoch 79/200 [Test]: 100%|██████████| 79/79 [00:00<00:00, 79.31it/s, loss=2.1884, acc=57.49%] \n"
     ]
    },
    {
     "name": "stdout",
     "output_type": "stream",
     "text": [
      "Epoch: 79/200 | Train Loss: 0.2915 | Train Acc: 90.74% | Test Loss: 2.1884 | Test Acc: 57.49%\n"
     ]
    },
    {
     "name": "stderr",
     "output_type": "stream",
     "text": [
      "Epoch 80/200 [Train]: 100%|██████████| 391/391 [00:09<00:00, 40.01it/s, loss=0.2911, acc=90.69%, lr=0.100000]\n",
      "Epoch 80/200 [Test]: 100%|██████████| 79/79 [00:01<00:00, 58.26it/s, loss=2.0727, acc=58.56%]\n"
     ]
    },
    {
     "name": "stdout",
     "output_type": "stream",
     "text": [
      "Epoch: 80/200 | Train Loss: 0.2911 | Train Acc: 90.69% | Test Loss: 2.0727 | Test Acc: 58.56%\n"
     ]
    },
    {
     "name": "stderr",
     "output_type": "stream",
     "text": [
      "Epoch 81/200 [Train]: 100%|██████████| 391/391 [00:09<00:00, 40.43it/s, loss=0.1142, acc=96.81%, lr=0.010000]\n",
      "Epoch 81/200 [Test]: 100%|██████████| 79/79 [00:01<00:00, 53.50it/s, loss=1.6247, acc=65.35%]\n"
     ]
    },
    {
     "name": "stdout",
     "output_type": "stream",
     "text": [
      "Checkpoint saved! New best accuracy: 65.35%\n",
      "Epoch: 81/200 | Train Loss: 0.1142 | Train Acc: 96.81% | Test Loss: 1.6247 | Test Acc: 65.35%\n"
     ]
    },
    {
     "name": "stderr",
     "output_type": "stream",
     "text": [
      "Epoch 82/200 [Train]: 100%|██████████| 391/391 [00:08<00:00, 44.83it/s, loss=0.0587, acc=98.63%, lr=0.010000]\n",
      "Epoch 82/200 [Test]: 100%|██████████| 79/79 [00:01<00:00, 56.11it/s, loss=1.6088, acc=65.99%]\n"
     ]
    },
    {
     "name": "stdout",
     "output_type": "stream",
     "text": [
      "Checkpoint saved! New best accuracy: 65.99%\n",
      "Epoch: 82/200 | Train Loss: 0.0587 | Train Acc: 98.63% | Test Loss: 1.6088 | Test Acc: 65.99%\n"
     ]
    },
    {
     "name": "stderr",
     "output_type": "stream",
     "text": [
      "Epoch 83/200 [Train]: 100%|██████████| 391/391 [00:09<00:00, 40.55it/s, loss=0.0453, acc=99.02%, lr=0.010000]\n",
      "Epoch 83/200 [Test]: 100%|██████████| 79/79 [00:01<00:00, 42.80it/s, loss=1.6050, acc=66.47%]\n"
     ]
    },
    {
     "name": "stdout",
     "output_type": "stream",
     "text": [
      "Checkpoint saved! New best accuracy: 66.47%\n",
      "Epoch: 83/200 | Train Loss: 0.0453 | Train Acc: 99.02% | Test Loss: 1.6050 | Test Acc: 66.47%\n"
     ]
    },
    {
     "name": "stderr",
     "output_type": "stream",
     "text": [
      "Epoch 84/200 [Train]: 100%|██████████| 391/391 [00:08<00:00, 44.04it/s, loss=0.0372, acc=99.26%, lr=0.010000]\n",
      "Epoch 84/200 [Test]: 100%|██████████| 79/79 [00:01<00:00, 66.97it/s, loss=1.5972, acc=66.59%]\n"
     ]
    },
    {
     "name": "stdout",
     "output_type": "stream",
     "text": [
      "Checkpoint saved! New best accuracy: 66.59%\n",
      "Epoch: 84/200 | Train Loss: 0.0372 | Train Acc: 99.26% | Test Loss: 1.5972 | Test Acc: 66.59%\n"
     ]
    },
    {
     "name": "stderr",
     "output_type": "stream",
     "text": [
      "Epoch 85/200 [Train]: 100%|██████████| 391/391 [00:09<00:00, 40.81it/s, loss=0.0316, acc=99.41%, lr=0.010000]\n",
      "Epoch 85/200 [Test]: 100%|██████████| 79/79 [00:00<00:00, 83.58it/s, loss=1.6082, acc=66.45%] \n"
     ]
    },
    {
     "name": "stdout",
     "output_type": "stream",
     "text": [
      "Epoch: 85/200 | Train Loss: 0.0316 | Train Acc: 99.41% | Test Loss: 1.6082 | Test Acc: 66.45%\n"
     ]
    },
    {
     "name": "stderr",
     "output_type": "stream",
     "text": [
      "Epoch 86/200 [Train]: 100%|██████████| 391/391 [00:09<00:00, 42.06it/s, loss=0.0292, acc=99.46%, lr=0.010000]\n",
      "Epoch 86/200 [Test]: 100%|██████████| 79/79 [00:01<00:00, 46.95it/s, loss=1.5991, acc=66.62%]\n"
     ]
    },
    {
     "name": "stdout",
     "output_type": "stream",
     "text": [
      "Checkpoint saved! New best accuracy: 66.62%\n",
      "Epoch: 86/200 | Train Loss: 0.0292 | Train Acc: 99.46% | Test Loss: 1.5991 | Test Acc: 66.62%\n"
     ]
    },
    {
     "name": "stderr",
     "output_type": "stream",
     "text": [
      "Epoch 87/200 [Train]: 100%|██████████| 391/391 [00:09<00:00, 39.69it/s, loss=0.0250, acc=99.59%, lr=0.010000]\n",
      "Epoch 87/200 [Test]: 100%|██████████| 79/79 [00:01<00:00, 62.83it/s, loss=1.6144, acc=67.00%]\n"
     ]
    },
    {
     "name": "stdout",
     "output_type": "stream",
     "text": [
      "Checkpoint saved! New best accuracy: 67.00%\n",
      "Epoch: 87/200 | Train Loss: 0.0250 | Train Acc: 99.59% | Test Loss: 1.6144 | Test Acc: 67.00%\n"
     ]
    },
    {
     "name": "stderr",
     "output_type": "stream",
     "text": [
      "Epoch 88/200 [Train]: 100%|██████████| 391/391 [00:09<00:00, 40.84it/s, loss=0.0234, acc=99.57%, lr=0.010000]\n",
      "Epoch 88/200 [Test]: 100%|██████████| 79/79 [00:01<00:00, 51.63it/s, loss=1.6086, acc=67.00%]\n"
     ]
    },
    {
     "name": "stdout",
     "output_type": "stream",
     "text": [
      "Epoch: 88/200 | Train Loss: 0.0234 | Train Acc: 99.57% | Test Loss: 1.6086 | Test Acc: 67.00%\n"
     ]
    },
    {
     "name": "stderr",
     "output_type": "stream",
     "text": [
      "Epoch 89/200 [Train]: 100%|██████████| 391/391 [00:09<00:00, 41.51it/s, loss=0.0212, acc=99.65%, lr=0.010000]\n",
      "Epoch 89/200 [Test]: 100%|██████████| 79/79 [00:01<00:00, 52.89it/s, loss=1.6083, acc=66.75%]\n"
     ]
    },
    {
     "name": "stdout",
     "output_type": "stream",
     "text": [
      "Epoch: 89/200 | Train Loss: 0.0212 | Train Acc: 99.65% | Test Loss: 1.6083 | Test Acc: 66.75%\n"
     ]
    },
    {
     "name": "stderr",
     "output_type": "stream",
     "text": [
      "Epoch 90/200 [Train]: 100%|██████████| 391/391 [00:10<00:00, 38.77it/s, loss=0.0204, acc=99.68%, lr=0.010000]\n",
      "Epoch 90/200 [Test]: 100%|██████████| 79/79 [00:01<00:00, 52.98it/s, loss=1.6063, acc=66.93%]\n"
     ]
    },
    {
     "name": "stdout",
     "output_type": "stream",
     "text": [
      "Epoch: 90/200 | Train Loss: 0.0204 | Train Acc: 99.68% | Test Loss: 1.6063 | Test Acc: 66.93%\n"
     ]
    },
    {
     "name": "stderr",
     "output_type": "stream",
     "text": [
      "Epoch 91/200 [Train]: 100%|██████████| 391/391 [00:09<00:00, 42.34it/s, loss=0.0189, acc=99.70%, lr=0.010000]\n",
      "Epoch 91/200 [Test]: 100%|██████████| 79/79 [00:01<00:00, 61.46it/s, loss=1.6121, acc=67.01%]\n"
     ]
    },
    {
     "name": "stdout",
     "output_type": "stream",
     "text": [
      "Checkpoint saved! New best accuracy: 67.01%\n",
      "Epoch: 91/200 | Train Loss: 0.0189 | Train Acc: 99.70% | Test Loss: 1.6121 | Test Acc: 67.01%\n"
     ]
    },
    {
     "name": "stderr",
     "output_type": "stream",
     "text": [
      "Epoch 92/200 [Train]: 100%|██████████| 391/391 [00:09<00:00, 40.89it/s, loss=0.0171, acc=99.75%, lr=0.010000]\n",
      "Epoch 92/200 [Test]: 100%|██████████| 79/79 [00:00<00:00, 80.81it/s, loss=1.6085, acc=67.38%] \n"
     ]
    },
    {
     "name": "stdout",
     "output_type": "stream",
     "text": [
      "Checkpoint saved! New best accuracy: 67.38%\n",
      "Epoch: 92/200 | Train Loss: 0.0171 | Train Acc: 99.75% | Test Loss: 1.6085 | Test Acc: 67.38%\n"
     ]
    },
    {
     "name": "stderr",
     "output_type": "stream",
     "text": [
      "Epoch 93/200 [Train]: 100%|██████████| 391/391 [00:09<00:00, 42.34it/s, loss=0.0156, acc=99.81%, lr=0.010000]\n",
      "Epoch 93/200 [Test]: 100%|██████████| 79/79 [00:01<00:00, 55.39it/s, loss=1.6102, acc=67.13%]\n"
     ]
    },
    {
     "name": "stdout",
     "output_type": "stream",
     "text": [
      "Epoch: 93/200 | Train Loss: 0.0156 | Train Acc: 99.81% | Test Loss: 1.6102 | Test Acc: 67.13%\n"
     ]
    },
    {
     "name": "stderr",
     "output_type": "stream",
     "text": [
      "Epoch 94/200 [Train]: 100%|██████████| 391/391 [00:09<00:00, 41.39it/s, loss=0.0165, acc=99.76%, lr=0.010000]\n",
      "Epoch 94/200 [Test]: 100%|██████████| 79/79 [00:01<00:00, 56.81it/s, loss=1.5994, acc=67.15%]\n"
     ]
    },
    {
     "name": "stdout",
     "output_type": "stream",
     "text": [
      "Epoch: 94/200 | Train Loss: 0.0165 | Train Acc: 99.76% | Test Loss: 1.5994 | Test Acc: 67.15%\n"
     ]
    },
    {
     "name": "stderr",
     "output_type": "stream",
     "text": [
      "Epoch 95/200 [Train]: 100%|██████████| 391/391 [00:09<00:00, 40.39it/s, loss=0.0150, acc=99.80%, lr=0.010000]\n",
      "Epoch 95/200 [Test]: 100%|██████████| 79/79 [00:01<00:00, 78.27it/s, loss=1.6015, acc=67.08%] \n"
     ]
    },
    {
     "name": "stdout",
     "output_type": "stream",
     "text": [
      "Epoch: 95/200 | Train Loss: 0.0150 | Train Acc: 99.80% | Test Loss: 1.6015 | Test Acc: 67.08%\n"
     ]
    },
    {
     "name": "stderr",
     "output_type": "stream",
     "text": [
      "Epoch 96/200 [Train]: 100%|██████████| 391/391 [00:09<00:00, 41.98it/s, loss=0.0148, acc=99.75%, lr=0.010000]\n",
      "Epoch 96/200 [Test]: 100%|██████████| 79/79 [00:01<00:00, 60.01it/s, loss=1.6029, acc=67.20%]\n"
     ]
    },
    {
     "name": "stdout",
     "output_type": "stream",
     "text": [
      "Epoch: 96/200 | Train Loss: 0.0148 | Train Acc: 99.75% | Test Loss: 1.6029 | Test Acc: 67.20%\n"
     ]
    },
    {
     "name": "stderr",
     "output_type": "stream",
     "text": [
      "Epoch 97/200 [Train]: 100%|██████████| 391/391 [00:09<00:00, 41.11it/s, loss=0.0134, acc=99.82%, lr=0.010000]\n",
      "Epoch 97/200 [Test]: 100%|██████████| 79/79 [00:01<00:00, 58.84it/s, loss=1.6024, acc=67.03%]\n"
     ]
    },
    {
     "name": "stdout",
     "output_type": "stream",
     "text": [
      "Epoch: 97/200 | Train Loss: 0.0134 | Train Acc: 99.82% | Test Loss: 1.6024 | Test Acc: 67.03%\n"
     ]
    },
    {
     "name": "stderr",
     "output_type": "stream",
     "text": [
      "Epoch 98/200 [Train]: 100%|██████████| 391/391 [00:09<00:00, 42.82it/s, loss=0.0134, acc=99.83%, lr=0.010000]\n",
      "Epoch 98/200 [Test]: 100%|██████████| 79/79 [00:01<00:00, 56.43it/s, loss=1.6043, acc=67.38%]\n"
     ]
    },
    {
     "name": "stdout",
     "output_type": "stream",
     "text": [
      "Epoch: 98/200 | Train Loss: 0.0134 | Train Acc: 99.83% | Test Loss: 1.6043 | Test Acc: 67.38%\n"
     ]
    },
    {
     "name": "stderr",
     "output_type": "stream",
     "text": [
      "Epoch 99/200 [Train]: 100%|██████████| 391/391 [00:09<00:00, 41.43it/s, loss=0.0130, acc=99.83%, lr=0.010000]\n",
      "Epoch 99/200 [Test]: 100%|██████████| 79/79 [00:01<00:00, 57.60it/s, loss=1.5983, acc=67.41%]\n"
     ]
    },
    {
     "name": "stdout",
     "output_type": "stream",
     "text": [
      "Checkpoint saved! New best accuracy: 67.41%\n",
      "Epoch: 99/200 | Train Loss: 0.0130 | Train Acc: 99.83% | Test Loss: 1.5983 | Test Acc: 67.41%\n"
     ]
    },
    {
     "name": "stderr",
     "output_type": "stream",
     "text": [
      "Epoch 100/200 [Train]: 100%|██████████| 391/391 [00:09<00:00, 43.04it/s, loss=0.0122, acc=99.84%, lr=0.010000]\n",
      "Epoch 100/200 [Test]: 100%|██████████| 79/79 [00:01<00:00, 59.24it/s, loss=1.5959, acc=67.55%]\n"
     ]
    },
    {
     "name": "stdout",
     "output_type": "stream",
     "text": [
      "Checkpoint saved! New best accuracy: 67.55%\n",
      "Epoch: 100/200 | Train Loss: 0.0122 | Train Acc: 99.84% | Test Loss: 1.5959 | Test Acc: 67.55%\n"
     ]
    },
    {
     "name": "stderr",
     "output_type": "stream",
     "text": [
      "Epoch 101/200 [Train]: 100%|██████████| 391/391 [00:10<00:00, 36.38it/s, loss=0.0120, acc=99.85%, lr=0.010000]\n",
      "Epoch 101/200 [Test]: 100%|██████████| 79/79 [00:01<00:00, 77.97it/s, loss=1.5942, acc=67.30%]\n"
     ]
    },
    {
     "name": "stdout",
     "output_type": "stream",
     "text": [
      "Epoch: 101/200 | Train Loss: 0.0120 | Train Acc: 99.85% | Test Loss: 1.5942 | Test Acc: 67.30%\n"
     ]
    },
    {
     "name": "stderr",
     "output_type": "stream",
     "text": [
      "Epoch 102/200 [Train]: 100%|██████████| 391/391 [00:08<00:00, 46.27it/s, loss=0.0111, acc=99.85%, lr=0.010000]\n",
      "Epoch 102/200 [Test]: 100%|██████████| 79/79 [00:01<00:00, 72.58it/s, loss=1.5969, acc=67.36%]\n"
     ]
    },
    {
     "name": "stdout",
     "output_type": "stream",
     "text": [
      "Epoch: 102/200 | Train Loss: 0.0111 | Train Acc: 99.85% | Test Loss: 1.5969 | Test Acc: 67.36%\n"
     ]
    },
    {
     "name": "stderr",
     "output_type": "stream",
     "text": [
      "Epoch 103/200 [Train]: 100%|██████████| 391/391 [00:07<00:00, 49.04it/s, loss=0.0111, acc=99.85%, lr=0.010000]\n",
      "Epoch 103/200 [Test]: 100%|██████████| 79/79 [00:00<00:00, 91.20it/s, loss=1.5932, acc=67.39%] \n"
     ]
    },
    {
     "name": "stdout",
     "output_type": "stream",
     "text": [
      "Epoch: 103/200 | Train Loss: 0.0111 | Train Acc: 99.85% | Test Loss: 1.5932 | Test Acc: 67.39%\n"
     ]
    },
    {
     "name": "stderr",
     "output_type": "stream",
     "text": [
      "Epoch 104/200 [Train]: 100%|██████████| 391/391 [00:07<00:00, 49.30it/s, loss=0.0111, acc=99.85%, lr=0.010000]\n",
      "Epoch 104/200 [Test]: 100%|██████████| 79/79 [00:00<00:00, 81.41it/s, loss=1.5907, acc=67.44%] \n"
     ]
    },
    {
     "name": "stdout",
     "output_type": "stream",
     "text": [
      "Epoch: 104/200 | Train Loss: 0.0111 | Train Acc: 99.85% | Test Loss: 1.5907 | Test Acc: 67.44%\n"
     ]
    },
    {
     "name": "stderr",
     "output_type": "stream",
     "text": [
      "Epoch 105/200 [Train]: 100%|██████████| 391/391 [00:07<00:00, 49.09it/s, loss=0.0107, acc=99.88%, lr=0.010000]\n",
      "Epoch 105/200 [Test]: 100%|██████████| 79/79 [00:01<00:00, 77.26it/s, loss=1.5845, acc=67.51%] \n"
     ]
    },
    {
     "name": "stdout",
     "output_type": "stream",
     "text": [
      "Epoch: 105/200 | Train Loss: 0.0107 | Train Acc: 99.88% | Test Loss: 1.5845 | Test Acc: 67.51%\n"
     ]
    },
    {
     "name": "stderr",
     "output_type": "stream",
     "text": [
      "Epoch 106/200 [Train]: 100%|██████████| 391/391 [00:07<00:00, 50.86it/s, loss=0.0104, acc=99.85%, lr=0.010000]\n",
      "Epoch 106/200 [Test]: 100%|██████████| 79/79 [00:00<00:00, 80.59it/s, loss=1.5880, acc=67.59%] \n"
     ]
    },
    {
     "name": "stdout",
     "output_type": "stream",
     "text": [
      "Checkpoint saved! New best accuracy: 67.59%\n",
      "Epoch: 106/200 | Train Loss: 0.0104 | Train Acc: 99.85% | Test Loss: 1.5880 | Test Acc: 67.59%\n"
     ]
    },
    {
     "name": "stderr",
     "output_type": "stream",
     "text": [
      "Epoch 107/200 [Train]: 100%|██████████| 391/391 [00:07<00:00, 49.45it/s, loss=0.0103, acc=99.84%, lr=0.010000]\n",
      "Epoch 107/200 [Test]: 100%|██████████| 79/79 [00:00<00:00, 80.71it/s, loss=1.5791, acc=67.69%] \n"
     ]
    },
    {
     "name": "stdout",
     "output_type": "stream",
     "text": [
      "Checkpoint saved! New best accuracy: 67.69%\n",
      "Epoch: 107/200 | Train Loss: 0.0103 | Train Acc: 99.84% | Test Loss: 1.5791 | Test Acc: 67.69%\n"
     ]
    },
    {
     "name": "stderr",
     "output_type": "stream",
     "text": [
      "Epoch 108/200 [Train]: 100%|██████████| 391/391 [00:08<00:00, 48.43it/s, loss=0.0105, acc=99.87%, lr=0.010000]\n",
      "Epoch 108/200 [Test]: 100%|██████████| 79/79 [00:00<00:00, 87.09it/s, loss=1.5704, acc=67.43%] \n"
     ]
    },
    {
     "name": "stdout",
     "output_type": "stream",
     "text": [
      "Epoch: 108/200 | Train Loss: 0.0105 | Train Acc: 99.87% | Test Loss: 1.5704 | Test Acc: 67.43%\n"
     ]
    },
    {
     "name": "stderr",
     "output_type": "stream",
     "text": [
      "Epoch 109/200 [Train]: 100%|██████████| 391/391 [00:09<00:00, 41.39it/s, loss=0.0095, acc=99.87%, lr=0.010000]\n",
      "Epoch 109/200 [Test]: 100%|██████████| 79/79 [00:00<00:00, 79.03it/s, loss=1.5746, acc=67.67%] \n"
     ]
    },
    {
     "name": "stdout",
     "output_type": "stream",
     "text": [
      "Epoch: 109/200 | Train Loss: 0.0095 | Train Acc: 99.87% | Test Loss: 1.5746 | Test Acc: 67.67%\n"
     ]
    },
    {
     "name": "stderr",
     "output_type": "stream",
     "text": [
      "Epoch 110/200 [Train]: 100%|██████████| 391/391 [00:09<00:00, 39.81it/s, loss=0.0091, acc=99.91%, lr=0.010000]\n",
      "Epoch 110/200 [Test]: 100%|██████████| 79/79 [00:01<00:00, 54.61it/s, loss=1.5762, acc=67.47%]\n"
     ]
    },
    {
     "name": "stdout",
     "output_type": "stream",
     "text": [
      "Epoch: 110/200 | Train Loss: 0.0091 | Train Acc: 99.91% | Test Loss: 1.5762 | Test Acc: 67.47%\n"
     ]
    },
    {
     "name": "stderr",
     "output_type": "stream",
     "text": [
      "Epoch 111/200 [Train]: 100%|██████████| 391/391 [00:11<00:00, 35.27it/s, loss=0.0094, acc=99.87%, lr=0.010000]\n",
      "Epoch 111/200 [Test]: 100%|██████████| 79/79 [00:01<00:00, 47.05it/s, loss=1.5729, acc=67.49%]\n"
     ]
    },
    {
     "name": "stdout",
     "output_type": "stream",
     "text": [
      "Epoch: 111/200 | Train Loss: 0.0094 | Train Acc: 99.87% | Test Loss: 1.5729 | Test Acc: 67.49%\n"
     ]
    },
    {
     "name": "stderr",
     "output_type": "stream",
     "text": [
      "Epoch 112/200 [Train]: 100%|██████████| 391/391 [00:10<00:00, 38.68it/s, loss=0.0089, acc=99.92%, lr=0.010000]\n",
      "Epoch 112/200 [Test]: 100%|██████████| 79/79 [00:01<00:00, 47.12it/s, loss=1.5697, acc=67.77%]\n"
     ]
    },
    {
     "name": "stdout",
     "output_type": "stream",
     "text": [
      "Checkpoint saved! New best accuracy: 67.77%\n",
      "Epoch: 112/200 | Train Loss: 0.0089 | Train Acc: 99.92% | Test Loss: 1.5697 | Test Acc: 67.77%\n"
     ]
    },
    {
     "name": "stderr",
     "output_type": "stream",
     "text": [
      "Epoch 113/200 [Train]: 100%|██████████| 391/391 [00:11<00:00, 34.98it/s, loss=0.0089, acc=99.91%, lr=0.010000]\n",
      "Epoch 113/200 [Test]: 100%|██████████| 79/79 [00:01<00:00, 70.38it/s, loss=1.5687, acc=67.56%]\n"
     ]
    },
    {
     "name": "stdout",
     "output_type": "stream",
     "text": [
      "Epoch: 113/200 | Train Loss: 0.0089 | Train Acc: 99.91% | Test Loss: 1.5687 | Test Acc: 67.56%\n"
     ]
    },
    {
     "name": "stderr",
     "output_type": "stream",
     "text": [
      "Epoch 114/200 [Train]: 100%|██████████| 391/391 [00:10<00:00, 36.95it/s, loss=0.0086, acc=99.93%, lr=0.010000]\n",
      "Epoch 114/200 [Test]: 100%|██████████| 79/79 [00:01<00:00, 51.12it/s, loss=1.5649, acc=67.65%]\n"
     ]
    },
    {
     "name": "stdout",
     "output_type": "stream",
     "text": [
      "Epoch: 114/200 | Train Loss: 0.0086 | Train Acc: 99.93% | Test Loss: 1.5649 | Test Acc: 67.65%\n"
     ]
    },
    {
     "name": "stderr",
     "output_type": "stream",
     "text": [
      "Epoch 115/200 [Train]: 100%|██████████| 391/391 [00:10<00:00, 37.14it/s, loss=0.0084, acc=99.91%, lr=0.010000]\n",
      "Epoch 115/200 [Test]: 100%|██████████| 79/79 [00:01<00:00, 49.77it/s, loss=1.5674, acc=67.53%]\n"
     ]
    },
    {
     "name": "stdout",
     "output_type": "stream",
     "text": [
      "Epoch: 115/200 | Train Loss: 0.0084 | Train Acc: 99.91% | Test Loss: 1.5674 | Test Acc: 67.53%\n"
     ]
    },
    {
     "name": "stderr",
     "output_type": "stream",
     "text": [
      "Epoch 116/200 [Train]: 100%|██████████| 391/391 [00:11<00:00, 34.49it/s, loss=0.0090, acc=99.90%, lr=0.010000]\n",
      "Epoch 116/200 [Test]: 100%|██████████| 79/79 [00:01<00:00, 45.53it/s, loss=1.5587, acc=67.49%]\n"
     ]
    },
    {
     "name": "stdout",
     "output_type": "stream",
     "text": [
      "Epoch: 116/200 | Train Loss: 0.0090 | Train Acc: 99.90% | Test Loss: 1.5587 | Test Acc: 67.49%\n"
     ]
    },
    {
     "name": "stderr",
     "output_type": "stream",
     "text": [
      "Epoch 117/200 [Train]: 100%|██████████| 391/391 [00:10<00:00, 38.50it/s, loss=0.0085, acc=99.91%, lr=0.010000]\n",
      "Epoch 117/200 [Test]: 100%|██████████| 79/79 [00:01<00:00, 47.69it/s, loss=1.5628, acc=67.56%]\n"
     ]
    },
    {
     "name": "stdout",
     "output_type": "stream",
     "text": [
      "Epoch: 117/200 | Train Loss: 0.0085 | Train Acc: 99.91% | Test Loss: 1.5628 | Test Acc: 67.56%\n"
     ]
    },
    {
     "name": "stderr",
     "output_type": "stream",
     "text": [
      "Epoch 118/200 [Train]: 100%|██████████| 391/391 [00:10<00:00, 35.75it/s, loss=0.0082, acc=99.91%, lr=0.010000]\n",
      "Epoch 118/200 [Test]: 100%|██████████| 79/79 [00:01<00:00, 72.20it/s, loss=1.5525, acc=67.69%]\n"
     ]
    },
    {
     "name": "stdout",
     "output_type": "stream",
     "text": [
      "Epoch: 118/200 | Train Loss: 0.0082 | Train Acc: 99.91% | Test Loss: 1.5525 | Test Acc: 67.69%\n"
     ]
    },
    {
     "name": "stderr",
     "output_type": "stream",
     "text": [
      "Epoch 119/200 [Train]: 100%|██████████| 391/391 [00:10<00:00, 38.97it/s, loss=0.0082, acc=99.91%, lr=0.010000]\n",
      "Epoch 119/200 [Test]: 100%|██████████| 79/79 [00:01<00:00, 46.57it/s, loss=1.5487, acc=67.93%]\n"
     ]
    },
    {
     "name": "stdout",
     "output_type": "stream",
     "text": [
      "Checkpoint saved! New best accuracy: 67.93%\n",
      "Epoch: 119/200 | Train Loss: 0.0082 | Train Acc: 99.91% | Test Loss: 1.5487 | Test Acc: 67.93%\n"
     ]
    },
    {
     "name": "stderr",
     "output_type": "stream",
     "text": [
      "Epoch 120/200 [Train]: 100%|██████████| 391/391 [00:10<00:00, 38.43it/s, loss=0.0080, acc=99.90%, lr=0.010000]\n",
      "Epoch 120/200 [Test]: 100%|██████████| 79/79 [00:01<00:00, 59.28it/s, loss=1.5505, acc=67.71%]\n"
     ]
    },
    {
     "name": "stdout",
     "output_type": "stream",
     "text": [
      "Epoch: 120/200 | Train Loss: 0.0080 | Train Acc: 99.90% | Test Loss: 1.5505 | Test Acc: 67.71%\n"
     ]
    },
    {
     "name": "stderr",
     "output_type": "stream",
     "text": [
      "Epoch 121/200 [Train]: 100%|██████████| 391/391 [00:11<00:00, 34.63it/s, loss=0.0081, acc=99.91%, lr=0.010000]\n",
      "Epoch 121/200 [Test]: 100%|██████████| 79/79 [00:01<00:00, 51.42it/s, loss=1.5457, acc=67.80%]\n"
     ]
    },
    {
     "name": "stdout",
     "output_type": "stream",
     "text": [
      "Epoch: 121/200 | Train Loss: 0.0081 | Train Acc: 99.91% | Test Loss: 1.5457 | Test Acc: 67.80%\n"
     ]
    },
    {
     "name": "stderr",
     "output_type": "stream",
     "text": [
      "Epoch 122/200 [Train]: 100%|██████████| 391/391 [00:09<00:00, 40.36it/s, loss=0.0077, acc=99.92%, lr=0.010000]\n",
      "Epoch 122/200 [Test]: 100%|██████████| 79/79 [00:01<00:00, 47.59it/s, loss=1.5466, acc=67.78%]\n"
     ]
    },
    {
     "name": "stdout",
     "output_type": "stream",
     "text": [
      "Epoch: 122/200 | Train Loss: 0.0077 | Train Acc: 99.92% | Test Loss: 1.5466 | Test Acc: 67.78%\n"
     ]
    },
    {
     "name": "stderr",
     "output_type": "stream",
     "text": [
      "Epoch 123/200 [Train]: 100%|██████████| 391/391 [00:10<00:00, 39.00it/s, loss=0.0076, acc=99.93%, lr=0.010000]\n",
      "Epoch 123/200 [Test]: 100%|██████████| 79/79 [00:01<00:00, 45.09it/s, loss=1.5418, acc=67.95%]\n"
     ]
    },
    {
     "name": "stdout",
     "output_type": "stream",
     "text": [
      "Checkpoint saved! New best accuracy: 67.95%\n",
      "Epoch: 123/200 | Train Loss: 0.0076 | Train Acc: 99.93% | Test Loss: 1.5418 | Test Acc: 67.95%\n"
     ]
    },
    {
     "name": "stderr",
     "output_type": "stream",
     "text": [
      "Epoch 124/200 [Train]: 100%|██████████| 391/391 [00:09<00:00, 41.16it/s, loss=0.0077, acc=99.93%, lr=0.010000]\n",
      "Epoch 124/200 [Test]: 100%|██████████| 79/79 [00:01<00:00, 53.11it/s, loss=1.5317, acc=67.89%]\n"
     ]
    },
    {
     "name": "stdout",
     "output_type": "stream",
     "text": [
      "Epoch: 124/200 | Train Loss: 0.0077 | Train Acc: 99.93% | Test Loss: 1.5317 | Test Acc: 67.89%\n"
     ]
    },
    {
     "name": "stderr",
     "output_type": "stream",
     "text": [
      "Epoch 125/200 [Train]: 100%|██████████| 391/391 [00:10<00:00, 36.34it/s, loss=0.0075, acc=99.93%, lr=0.010000]\n",
      "Epoch 125/200 [Test]: 100%|██████████| 79/79 [00:01<00:00, 51.88it/s, loss=1.5376, acc=67.53%]\n"
     ]
    },
    {
     "name": "stdout",
     "output_type": "stream",
     "text": [
      "Epoch: 125/200 | Train Loss: 0.0075 | Train Acc: 99.93% | Test Loss: 1.5376 | Test Acc: 67.53%\n"
     ]
    },
    {
     "name": "stderr",
     "output_type": "stream",
     "text": [
      "Epoch 126/200 [Train]: 100%|██████████| 391/391 [00:10<00:00, 36.31it/s, loss=0.0077, acc=99.92%, lr=0.010000]\n",
      "Epoch 126/200 [Test]: 100%|██████████| 79/79 [00:01<00:00, 53.33it/s, loss=1.5328, acc=67.95%]\n"
     ]
    },
    {
     "name": "stdout",
     "output_type": "stream",
     "text": [
      "Epoch: 126/200 | Train Loss: 0.0077 | Train Acc: 99.92% | Test Loss: 1.5328 | Test Acc: 67.95%\n"
     ]
    },
    {
     "name": "stderr",
     "output_type": "stream",
     "text": [
      "Epoch 127/200 [Train]: 100%|██████████| 391/391 [00:09<00:00, 39.77it/s, loss=0.0076, acc=99.92%, lr=0.010000]\n",
      "Epoch 127/200 [Test]: 100%|██████████| 79/79 [00:01<00:00, 42.33it/s, loss=1.5362, acc=67.55%]\n"
     ]
    },
    {
     "name": "stdout",
     "output_type": "stream",
     "text": [
      "Epoch: 127/200 | Train Loss: 0.0076 | Train Acc: 99.92% | Test Loss: 1.5362 | Test Acc: 67.55%\n"
     ]
    },
    {
     "name": "stderr",
     "output_type": "stream",
     "text": [
      "Epoch 128/200 [Train]: 100%|██████████| 391/391 [00:10<00:00, 35.94it/s, loss=0.0073, acc=99.93%, lr=0.010000]\n",
      "Epoch 128/200 [Test]: 100%|██████████| 79/79 [00:02<00:00, 38.74it/s, loss=1.5331, acc=67.71%]\n"
     ]
    },
    {
     "name": "stdout",
     "output_type": "stream",
     "text": [
      "Epoch: 128/200 | Train Loss: 0.0073 | Train Acc: 99.93% | Test Loss: 1.5331 | Test Acc: 67.71%\n"
     ]
    },
    {
     "name": "stderr",
     "output_type": "stream",
     "text": [
      "Epoch 129/200 [Train]: 100%|██████████| 391/391 [00:10<00:00, 38.45it/s, loss=0.0070, acc=99.93%, lr=0.010000]\n",
      "Epoch 129/200 [Test]: 100%|██████████| 79/79 [00:01<00:00, 57.41it/s, loss=1.5289, acc=67.73%] \n"
     ]
    },
    {
     "name": "stdout",
     "output_type": "stream",
     "text": [
      "Epoch: 129/200 | Train Loss: 0.0070 | Train Acc: 99.93% | Test Loss: 1.5289 | Test Acc: 67.73%\n"
     ]
    },
    {
     "name": "stderr",
     "output_type": "stream",
     "text": [
      "Epoch 130/200 [Train]: 100%|██████████| 391/391 [00:10<00:00, 35.94it/s, loss=0.0073, acc=99.92%, lr=0.010000]\n",
      "Epoch 130/200 [Test]: 100%|██████████| 79/79 [00:01<00:00, 57.70it/s, loss=1.5367, acc=67.82%]\n"
     ]
    },
    {
     "name": "stdout",
     "output_type": "stream",
     "text": [
      "Epoch: 130/200 | Train Loss: 0.0073 | Train Acc: 99.92% | Test Loss: 1.5367 | Test Acc: 67.82%\n"
     ]
    },
    {
     "name": "stderr",
     "output_type": "stream",
     "text": [
      "Epoch 131/200 [Train]: 100%|██████████| 391/391 [00:10<00:00, 35.69it/s, loss=0.0067, acc=99.95%, lr=0.010000]\n",
      "Epoch 131/200 [Test]: 100%|██████████| 79/79 [00:01<00:00, 68.47it/s, loss=1.5294, acc=67.51%] \n"
     ]
    },
    {
     "name": "stdout",
     "output_type": "stream",
     "text": [
      "Epoch: 131/200 | Train Loss: 0.0067 | Train Acc: 99.95% | Test Loss: 1.5294 | Test Acc: 67.51%\n"
     ]
    },
    {
     "name": "stderr",
     "output_type": "stream",
     "text": [
      "Epoch 132/200 [Train]: 100%|██████████| 391/391 [00:10<00:00, 37.65it/s, loss=0.0069, acc=99.94%, lr=0.010000]\n",
      "Epoch 132/200 [Test]: 100%|██████████| 79/79 [00:01<00:00, 48.34it/s, loss=1.5201, acc=67.65%]\n"
     ]
    },
    {
     "name": "stdout",
     "output_type": "stream",
     "text": [
      "Epoch: 132/200 | Train Loss: 0.0069 | Train Acc: 99.94% | Test Loss: 1.5201 | Test Acc: 67.65%\n"
     ]
    },
    {
     "name": "stderr",
     "output_type": "stream",
     "text": [
      "Epoch 133/200 [Train]: 100%|██████████| 391/391 [00:11<00:00, 34.81it/s, loss=0.0067, acc=99.93%, lr=0.010000]\n",
      "Epoch 133/200 [Test]: 100%|██████████| 79/79 [00:01<00:00, 41.56it/s, loss=1.5240, acc=67.84%]\n"
     ]
    },
    {
     "name": "stdout",
     "output_type": "stream",
     "text": [
      "Epoch: 133/200 | Train Loss: 0.0067 | Train Acc: 99.93% | Test Loss: 1.5240 | Test Acc: 67.84%\n"
     ]
    },
    {
     "name": "stderr",
     "output_type": "stream",
     "text": [
      "Epoch 134/200 [Train]: 100%|██████████| 391/391 [00:09<00:00, 40.21it/s, loss=0.0071, acc=99.93%, lr=0.010000]\n",
      "Epoch 134/200 [Test]: 100%|██████████| 79/79 [00:01<00:00, 64.86it/s, loss=1.5206, acc=68.03%] \n"
     ]
    },
    {
     "name": "stdout",
     "output_type": "stream",
     "text": [
      "Checkpoint saved! New best accuracy: 68.03%\n",
      "Epoch: 134/200 | Train Loss: 0.0071 | Train Acc: 99.93% | Test Loss: 1.5206 | Test Acc: 68.03%\n"
     ]
    },
    {
     "name": "stderr",
     "output_type": "stream",
     "text": [
      "Epoch 135/200 [Train]: 100%|██████████| 391/391 [00:09<00:00, 42.31it/s, loss=0.0072, acc=99.92%, lr=0.010000]\n",
      "Epoch 135/200 [Test]: 100%|██████████| 79/79 [00:01<00:00, 77.86it/s, loss=1.5180, acc=67.90%] \n"
     ]
    },
    {
     "name": "stdout",
     "output_type": "stream",
     "text": [
      "Epoch: 135/200 | Train Loss: 0.0072 | Train Acc: 99.92% | Test Loss: 1.5180 | Test Acc: 67.90%\n"
     ]
    },
    {
     "name": "stderr",
     "output_type": "stream",
     "text": [
      "Epoch 136/200 [Train]: 100%|██████████| 391/391 [00:08<00:00, 44.51it/s, loss=0.0069, acc=99.93%, lr=0.010000]\n",
      "Epoch 136/200 [Test]: 100%|██████████| 79/79 [00:01<00:00, 47.13it/s, loss=1.5160, acc=67.84%]\n"
     ]
    },
    {
     "name": "stdout",
     "output_type": "stream",
     "text": [
      "Epoch: 136/200 | Train Loss: 0.0069 | Train Acc: 99.93% | Test Loss: 1.5160 | Test Acc: 67.84%\n"
     ]
    },
    {
     "name": "stderr",
     "output_type": "stream",
     "text": [
      "Epoch 137/200 [Train]: 100%|██████████| 391/391 [00:09<00:00, 40.62it/s, loss=0.0064, acc=99.93%, lr=0.010000]\n",
      "Epoch 137/200 [Test]: 100%|██████████| 79/79 [00:01<00:00, 61.90it/s, loss=1.5147, acc=67.76%]\n"
     ]
    },
    {
     "name": "stdout",
     "output_type": "stream",
     "text": [
      "Epoch: 137/200 | Train Loss: 0.0064 | Train Acc: 99.93% | Test Loss: 1.5147 | Test Acc: 67.76%\n"
     ]
    },
    {
     "name": "stderr",
     "output_type": "stream",
     "text": [
      "Epoch 138/200 [Train]: 100%|██████████| 391/391 [00:09<00:00, 39.22it/s, loss=0.0068, acc=99.95%, lr=0.010000]\n",
      "Epoch 138/200 [Test]: 100%|██████████| 79/79 [00:01<00:00, 53.05it/s, loss=1.5123, acc=67.92%]\n"
     ]
    },
    {
     "name": "stdout",
     "output_type": "stream",
     "text": [
      "Epoch: 138/200 | Train Loss: 0.0068 | Train Acc: 99.95% | Test Loss: 1.5123 | Test Acc: 67.92%\n"
     ]
    },
    {
     "name": "stderr",
     "output_type": "stream",
     "text": [
      "Epoch 139/200 [Train]: 100%|██████████| 391/391 [00:10<00:00, 38.15it/s, loss=0.0066, acc=99.94%, lr=0.010000]\n",
      "Epoch 139/200 [Test]: 100%|██████████| 79/79 [00:01<00:00, 50.74it/s, loss=1.5096, acc=67.96%]\n"
     ]
    },
    {
     "name": "stdout",
     "output_type": "stream",
     "text": [
      "Epoch: 139/200 | Train Loss: 0.0066 | Train Acc: 99.94% | Test Loss: 1.5096 | Test Acc: 67.96%\n"
     ]
    },
    {
     "name": "stderr",
     "output_type": "stream",
     "text": [
      "Epoch 140/200 [Train]: 100%|██████████| 391/391 [00:10<00:00, 36.92it/s, loss=0.0068, acc=99.93%, lr=0.010000]\n",
      "Epoch 140/200 [Test]: 100%|██████████| 79/79 [00:01<00:00, 46.94it/s, loss=1.5044, acc=67.96%]\n"
     ]
    },
    {
     "name": "stdout",
     "output_type": "stream",
     "text": [
      "Epoch: 140/200 | Train Loss: 0.0068 | Train Acc: 99.93% | Test Loss: 1.5044 | Test Acc: 67.96%\n"
     ]
    },
    {
     "name": "stderr",
     "output_type": "stream",
     "text": [
      "Epoch 141/200 [Train]: 100%|██████████| 391/391 [00:09<00:00, 39.73it/s, loss=0.0067, acc=99.94%, lr=0.010000]\n",
      "Epoch 141/200 [Test]: 100%|██████████| 79/79 [00:01<00:00, 49.36it/s, loss=1.5073, acc=67.80%]\n"
     ]
    },
    {
     "name": "stdout",
     "output_type": "stream",
     "text": [
      "Epoch: 141/200 | Train Loss: 0.0067 | Train Acc: 99.94% | Test Loss: 1.5073 | Test Acc: 67.80%\n"
     ]
    },
    {
     "name": "stderr",
     "output_type": "stream",
     "text": [
      "Epoch 142/200 [Train]: 100%|██████████| 391/391 [00:09<00:00, 39.25it/s, loss=0.0065, acc=99.94%, lr=0.010000]\n",
      "Epoch 142/200 [Test]: 100%|██████████| 79/79 [00:01<00:00, 50.85it/s, loss=1.5006, acc=68.04%]\n"
     ]
    },
    {
     "name": "stdout",
     "output_type": "stream",
     "text": [
      "Checkpoint saved! New best accuracy: 68.04%\n",
      "Epoch: 142/200 | Train Loss: 0.0065 | Train Acc: 99.94% | Test Loss: 1.5006 | Test Acc: 68.04%\n"
     ]
    },
    {
     "name": "stderr",
     "output_type": "stream",
     "text": [
      "Epoch 143/200 [Train]: 100%|██████████| 391/391 [00:10<00:00, 37.74it/s, loss=0.0062, acc=99.94%, lr=0.010000]\n",
      "Epoch 143/200 [Test]: 100%|██████████| 79/79 [00:00<00:00, 88.88it/s, loss=1.5012, acc=67.94%] \n"
     ]
    },
    {
     "name": "stdout",
     "output_type": "stream",
     "text": [
      "Epoch: 143/200 | Train Loss: 0.0062 | Train Acc: 99.94% | Test Loss: 1.5012 | Test Acc: 67.94%\n"
     ]
    },
    {
     "name": "stderr",
     "output_type": "stream",
     "text": [
      "Epoch 144/200 [Train]: 100%|██████████| 391/391 [00:09<00:00, 39.47it/s, loss=0.0066, acc=99.94%, lr=0.010000]\n",
      "Epoch 144/200 [Test]: 100%|██████████| 79/79 [00:01<00:00, 51.87it/s, loss=1.4965, acc=67.99%]\n"
     ]
    },
    {
     "name": "stdout",
     "output_type": "stream",
     "text": [
      "Epoch: 144/200 | Train Loss: 0.0066 | Train Acc: 99.94% | Test Loss: 1.4965 | Test Acc: 67.99%\n"
     ]
    },
    {
     "name": "stderr",
     "output_type": "stream",
     "text": [
      "Epoch 145/200 [Train]: 100%|██████████| 391/391 [00:09<00:00, 40.89it/s, loss=0.0065, acc=99.94%, lr=0.010000]\n",
      "Epoch 145/200 [Test]: 100%|██████████| 79/79 [00:01<00:00, 50.40it/s, loss=1.4997, acc=68.10%]\n"
     ]
    },
    {
     "name": "stdout",
     "output_type": "stream",
     "text": [
      "Checkpoint saved! New best accuracy: 68.10%\n",
      "Epoch: 145/200 | Train Loss: 0.0065 | Train Acc: 99.94% | Test Loss: 1.4997 | Test Acc: 68.10%\n"
     ]
    },
    {
     "name": "stderr",
     "output_type": "stream",
     "text": [
      "Epoch 146/200 [Train]: 100%|██████████| 391/391 [00:09<00:00, 39.24it/s, loss=0.0062, acc=99.95%, lr=0.010000]\n",
      "Epoch 146/200 [Test]: 100%|██████████| 79/79 [00:01<00:00, 52.50it/s, loss=1.4897, acc=67.91%]\n"
     ]
    },
    {
     "name": "stdout",
     "output_type": "stream",
     "text": [
      "Epoch: 146/200 | Train Loss: 0.0062 | Train Acc: 99.95% | Test Loss: 1.4897 | Test Acc: 67.91%\n"
     ]
    },
    {
     "name": "stderr",
     "output_type": "stream",
     "text": [
      "Epoch 147/200 [Train]: 100%|██████████| 391/391 [00:09<00:00, 40.30it/s, loss=0.0064, acc=99.94%, lr=0.010000]\n",
      "Epoch 147/200 [Test]: 100%|██████████| 79/79 [00:01<00:00, 47.33it/s, loss=1.4986, acc=67.79%]\n"
     ]
    },
    {
     "name": "stdout",
     "output_type": "stream",
     "text": [
      "Epoch: 147/200 | Train Loss: 0.0064 | Train Acc: 99.94% | Test Loss: 1.4986 | Test Acc: 67.79%\n"
     ]
    },
    {
     "name": "stderr",
     "output_type": "stream",
     "text": [
      "Epoch 148/200 [Train]: 100%|██████████| 391/391 [00:09<00:00, 39.58it/s, loss=0.0063, acc=99.94%, lr=0.010000]\n",
      "Epoch 148/200 [Test]: 100%|██████████| 79/79 [00:01<00:00, 51.21it/s, loss=1.4947, acc=68.04%]\n"
     ]
    },
    {
     "name": "stdout",
     "output_type": "stream",
     "text": [
      "Epoch: 148/200 | Train Loss: 0.0063 | Train Acc: 99.94% | Test Loss: 1.4947 | Test Acc: 68.04%\n"
     ]
    },
    {
     "name": "stderr",
     "output_type": "stream",
     "text": [
      "Epoch 149/200 [Train]: 100%|██████████| 391/391 [00:10<00:00, 37.98it/s, loss=0.0063, acc=99.93%, lr=0.010000]\n",
      "Epoch 149/200 [Test]: 100%|██████████| 79/79 [00:01<00:00, 57.73it/s, loss=1.4913, acc=68.10%]\n"
     ]
    },
    {
     "name": "stdout",
     "output_type": "stream",
     "text": [
      "Epoch: 149/200 | Train Loss: 0.0063 | Train Acc: 99.93% | Test Loss: 1.4913 | Test Acc: 68.10%\n"
     ]
    },
    {
     "name": "stderr",
     "output_type": "stream",
     "text": [
      "Epoch 150/200 [Train]: 100%|██████████| 391/391 [00:10<00:00, 36.51it/s, loss=0.0062, acc=99.94%, lr=0.010000]\n",
      "Epoch 150/200 [Test]: 100%|██████████| 79/79 [00:01<00:00, 78.02it/s, loss=1.4923, acc=67.94%] \n"
     ]
    },
    {
     "name": "stdout",
     "output_type": "stream",
     "text": [
      "Epoch: 150/200 | Train Loss: 0.0062 | Train Acc: 99.94% | Test Loss: 1.4923 | Test Acc: 67.94%\n"
     ]
    },
    {
     "name": "stderr",
     "output_type": "stream",
     "text": [
      "Epoch 151/200 [Train]: 100%|██████████| 391/391 [00:09<00:00, 40.15it/s, loss=0.0063, acc=99.94%, lr=0.010000]\n",
      "Epoch 151/200 [Test]: 100%|██████████| 79/79 [00:01<00:00, 51.81it/s, loss=1.4871, acc=67.75%]\n"
     ]
    },
    {
     "name": "stdout",
     "output_type": "stream",
     "text": [
      "Epoch: 151/200 | Train Loss: 0.0063 | Train Acc: 99.94% | Test Loss: 1.4871 | Test Acc: 67.75%\n"
     ]
    },
    {
     "name": "stderr",
     "output_type": "stream",
     "text": [
      "Epoch 152/200 [Train]: 100%|██████████| 391/391 [00:10<00:00, 38.78it/s, loss=0.0061, acc=99.95%, lr=0.010000]\n",
      "Epoch 152/200 [Test]: 100%|██████████| 79/79 [00:01<00:00, 48.60it/s, loss=1.4879, acc=68.13%]\n"
     ]
    },
    {
     "name": "stdout",
     "output_type": "stream",
     "text": [
      "Checkpoint saved! New best accuracy: 68.13%\n",
      "Epoch: 152/200 | Train Loss: 0.0061 | Train Acc: 99.95% | Test Loss: 1.4879 | Test Acc: 68.13%\n"
     ]
    },
    {
     "name": "stderr",
     "output_type": "stream",
     "text": [
      "Epoch 153/200 [Train]: 100%|██████████| 391/391 [00:10<00:00, 38.23it/s, loss=0.0061, acc=99.93%, lr=0.010000]\n",
      "Epoch 153/200 [Test]: 100%|██████████| 79/79 [00:01<00:00, 42.43it/s, loss=1.4817, acc=68.20%]\n"
     ]
    },
    {
     "name": "stdout",
     "output_type": "stream",
     "text": [
      "Checkpoint saved! New best accuracy: 68.20%\n",
      "Epoch: 153/200 | Train Loss: 0.0061 | Train Acc: 99.93% | Test Loss: 1.4817 | Test Acc: 68.20%\n"
     ]
    },
    {
     "name": "stderr",
     "output_type": "stream",
     "text": [
      "Epoch 154/200 [Train]: 100%|██████████| 391/391 [00:10<00:00, 36.56it/s, loss=0.0060, acc=99.95%, lr=0.010000]\n",
      "Epoch 154/200 [Test]: 100%|██████████| 79/79 [00:01<00:00, 65.12it/s, loss=1.4821, acc=68.17%]\n"
     ]
    },
    {
     "name": "stdout",
     "output_type": "stream",
     "text": [
      "Epoch: 154/200 | Train Loss: 0.0060 | Train Acc: 99.95% | Test Loss: 1.4821 | Test Acc: 68.17%\n"
     ]
    },
    {
     "name": "stderr",
     "output_type": "stream",
     "text": [
      "Epoch 155/200 [Train]: 100%|██████████| 391/391 [00:10<00:00, 37.09it/s, loss=0.0062, acc=99.94%, lr=0.010000]\n",
      "Epoch 155/200 [Test]: 100%|██████████| 79/79 [00:01<00:00, 50.25it/s, loss=1.4742, acc=68.05%]\n"
     ]
    },
    {
     "name": "stdout",
     "output_type": "stream",
     "text": [
      "Epoch: 155/200 | Train Loss: 0.0062 | Train Acc: 99.94% | Test Loss: 1.4742 | Test Acc: 68.05%\n"
     ]
    },
    {
     "name": "stderr",
     "output_type": "stream",
     "text": [
      "Epoch 156/200 [Train]: 100%|██████████| 391/391 [00:09<00:00, 39.22it/s, loss=0.0061, acc=99.94%, lr=0.010000]\n",
      "Epoch 156/200 [Test]: 100%|██████████| 79/79 [00:01<00:00, 53.19it/s, loss=1.4765, acc=67.93%]\n"
     ]
    },
    {
     "name": "stdout",
     "output_type": "stream",
     "text": [
      "Epoch: 156/200 | Train Loss: 0.0061 | Train Acc: 99.94% | Test Loss: 1.4765 | Test Acc: 67.93%\n"
     ]
    },
    {
     "name": "stderr",
     "output_type": "stream",
     "text": [
      "Epoch 157/200 [Train]: 100%|██████████| 391/391 [00:08<00:00, 44.22it/s, loss=0.0061, acc=99.95%, lr=0.010000]\n",
      "Epoch 157/200 [Test]: 100%|██████████| 79/79 [00:01<00:00, 57.30it/s, loss=1.4781, acc=68.16%]\n"
     ]
    },
    {
     "name": "stdout",
     "output_type": "stream",
     "text": [
      "Epoch: 157/200 | Train Loss: 0.0061 | Train Acc: 99.95% | Test Loss: 1.4781 | Test Acc: 68.16%\n"
     ]
    },
    {
     "name": "stderr",
     "output_type": "stream",
     "text": [
      "Epoch 158/200 [Train]: 100%|██████████| 391/391 [00:09<00:00, 41.56it/s, loss=0.0061, acc=99.95%, lr=0.010000]\n",
      "Epoch 158/200 [Test]: 100%|██████████| 79/79 [00:01<00:00, 58.30it/s, loss=1.4716, acc=68.09%]\n"
     ]
    },
    {
     "name": "stdout",
     "output_type": "stream",
     "text": [
      "Epoch: 158/200 | Train Loss: 0.0061 | Train Acc: 99.95% | Test Loss: 1.4716 | Test Acc: 68.09%\n"
     ]
    },
    {
     "name": "stderr",
     "output_type": "stream",
     "text": [
      "Epoch 159/200 [Train]: 100%|██████████| 391/391 [00:09<00:00, 41.91it/s, loss=0.0060, acc=99.94%, lr=0.010000]\n",
      "Epoch 159/200 [Test]: 100%|██████████| 79/79 [00:01<00:00, 64.03it/s, loss=1.4762, acc=68.02%]\n"
     ]
    },
    {
     "name": "stdout",
     "output_type": "stream",
     "text": [
      "Epoch: 159/200 | Train Loss: 0.0060 | Train Acc: 99.94% | Test Loss: 1.4762 | Test Acc: 68.02%\n"
     ]
    },
    {
     "name": "stderr",
     "output_type": "stream",
     "text": [
      "Epoch 160/200 [Train]: 100%|██████████| 391/391 [00:09<00:00, 41.96it/s, loss=0.0058, acc=99.94%, lr=0.010000]\n",
      "Epoch 160/200 [Test]: 100%|██████████| 79/79 [00:01<00:00, 52.73it/s, loss=1.4788, acc=68.14%]\n"
     ]
    },
    {
     "name": "stdout",
     "output_type": "stream",
     "text": [
      "Epoch: 160/200 | Train Loss: 0.0058 | Train Acc: 99.94% | Test Loss: 1.4788 | Test Acc: 68.14%\n"
     ]
    },
    {
     "name": "stderr",
     "output_type": "stream",
     "text": [
      "Epoch 161/200 [Train]: 100%|██████████| 391/391 [00:09<00:00, 42.99it/s, loss=0.0059, acc=99.94%, lr=0.010000]\n",
      "Epoch 161/200 [Test]: 100%|██████████| 79/79 [00:01<00:00, 63.03it/s, loss=1.4787, acc=67.92%]\n"
     ]
    },
    {
     "name": "stdout",
     "output_type": "stream",
     "text": [
      "Epoch: 161/200 | Train Loss: 0.0059 | Train Acc: 99.94% | Test Loss: 1.4787 | Test Acc: 67.92%\n"
     ]
    },
    {
     "name": "stderr",
     "output_type": "stream",
     "text": [
      "Epoch 162/200 [Train]: 100%|██████████| 391/391 [00:09<00:00, 42.48it/s, loss=0.0059, acc=99.95%, lr=0.010000]\n",
      "Epoch 162/200 [Test]: 100%|██████████| 79/79 [00:01<00:00, 54.93it/s, loss=1.4739, acc=68.03%]\n"
     ]
    },
    {
     "name": "stdout",
     "output_type": "stream",
     "text": [
      "Epoch: 162/200 | Train Loss: 0.0059 | Train Acc: 99.95% | Test Loss: 1.4739 | Test Acc: 68.03%\n"
     ]
    },
    {
     "name": "stderr",
     "output_type": "stream",
     "text": [
      "Epoch 163/200 [Train]: 100%|██████████| 391/391 [00:09<00:00, 40.82it/s, loss=0.0058, acc=99.95%, lr=0.010000]\n",
      "Epoch 163/200 [Test]: 100%|██████████| 79/79 [00:01<00:00, 51.33it/s, loss=1.4752, acc=68.32%]\n"
     ]
    },
    {
     "name": "stdout",
     "output_type": "stream",
     "text": [
      "Checkpoint saved! New best accuracy: 68.32%\n",
      "Epoch: 163/200 | Train Loss: 0.0058 | Train Acc: 99.95% | Test Loss: 1.4752 | Test Acc: 68.32%\n"
     ]
    },
    {
     "name": "stderr",
     "output_type": "stream",
     "text": [
      "Epoch 164/200 [Train]: 100%|██████████| 391/391 [00:09<00:00, 43.00it/s, loss=0.0059, acc=99.94%, lr=0.010000]\n",
      "Epoch 164/200 [Test]: 100%|██████████| 79/79 [00:01<00:00, 61.16it/s, loss=1.4629, acc=68.09%]\n"
     ]
    },
    {
     "name": "stdout",
     "output_type": "stream",
     "text": [
      "Epoch: 164/200 | Train Loss: 0.0059 | Train Acc: 99.94% | Test Loss: 1.4629 | Test Acc: 68.09%\n"
     ]
    },
    {
     "name": "stderr",
     "output_type": "stream",
     "text": [
      "Epoch 165/200 [Train]: 100%|██████████| 391/391 [00:09<00:00, 41.26it/s, loss=0.0057, acc=99.95%, lr=0.010000]\n",
      "Epoch 165/200 [Test]: 100%|██████████| 79/79 [00:01<00:00, 77.68it/s, loss=1.4628, acc=68.15%] \n"
     ]
    },
    {
     "name": "stdout",
     "output_type": "stream",
     "text": [
      "Epoch: 165/200 | Train Loss: 0.0057 | Train Acc: 99.95% | Test Loss: 1.4628 | Test Acc: 68.15%\n"
     ]
    },
    {
     "name": "stderr",
     "output_type": "stream",
     "text": [
      "Epoch 166/200 [Train]: 100%|██████████| 391/391 [00:09<00:00, 43.31it/s, loss=0.0060, acc=99.94%, lr=0.010000]\n",
      "Epoch 166/200 [Test]: 100%|██████████| 79/79 [00:01<00:00, 68.22it/s, loss=1.4561, acc=68.20%]\n"
     ]
    },
    {
     "name": "stdout",
     "output_type": "stream",
     "text": [
      "Epoch: 166/200 | Train Loss: 0.0060 | Train Acc: 99.94% | Test Loss: 1.4561 | Test Acc: 68.20%\n"
     ]
    },
    {
     "name": "stderr",
     "output_type": "stream",
     "text": [
      "Epoch 167/200 [Train]: 100%|██████████| 391/391 [00:09<00:00, 41.19it/s, loss=0.0057, acc=99.94%, lr=0.010000]\n",
      "Epoch 167/200 [Test]: 100%|██████████| 79/79 [00:01<00:00, 62.17it/s, loss=1.4594, acc=68.25%]\n"
     ]
    },
    {
     "name": "stdout",
     "output_type": "stream",
     "text": [
      "Epoch: 167/200 | Train Loss: 0.0057 | Train Acc: 99.94% | Test Loss: 1.4594 | Test Acc: 68.25%\n"
     ]
    },
    {
     "name": "stderr",
     "output_type": "stream",
     "text": [
      "Epoch 168/200 [Train]: 100%|██████████| 391/391 [00:09<00:00, 40.31it/s, loss=0.0058, acc=99.95%, lr=0.010000]\n",
      "Epoch 168/200 [Test]: 100%|██████████| 79/79 [00:01<00:00, 68.12it/s, loss=1.4658, acc=68.28%]\n"
     ]
    },
    {
     "name": "stdout",
     "output_type": "stream",
     "text": [
      "Epoch: 168/200 | Train Loss: 0.0058 | Train Acc: 99.95% | Test Loss: 1.4658 | Test Acc: 68.28%\n"
     ]
    },
    {
     "name": "stderr",
     "output_type": "stream",
     "text": [
      "Epoch 169/200 [Train]: 100%|██████████| 391/391 [00:09<00:00, 42.24it/s, loss=0.0056, acc=99.95%, lr=0.010000]\n",
      "Epoch 169/200 [Test]: 100%|██████████| 79/79 [00:01<00:00, 62.10it/s, loss=1.4564, acc=68.21%]\n"
     ]
    },
    {
     "name": "stdout",
     "output_type": "stream",
     "text": [
      "Epoch: 169/200 | Train Loss: 0.0056 | Train Acc: 99.95% | Test Loss: 1.4564 | Test Acc: 68.21%\n"
     ]
    },
    {
     "name": "stderr",
     "output_type": "stream",
     "text": [
      "Epoch 170/200 [Train]: 100%|██████████| 391/391 [00:09<00:00, 42.18it/s, loss=0.0057, acc=99.95%, lr=0.010000]\n",
      "Epoch 170/200 [Test]: 100%|██████████| 79/79 [00:01<00:00, 55.28it/s, loss=1.4547, acc=68.15%]\n"
     ]
    },
    {
     "name": "stdout",
     "output_type": "stream",
     "text": [
      "Epoch: 170/200 | Train Loss: 0.0057 | Train Acc: 99.95% | Test Loss: 1.4547 | Test Acc: 68.15%\n"
     ]
    },
    {
     "name": "stderr",
     "output_type": "stream",
     "text": [
      "Epoch 171/200 [Train]: 100%|██████████| 391/391 [00:09<00:00, 42.82it/s, loss=0.0056, acc=99.95%, lr=0.010000]\n",
      "Epoch 171/200 [Test]: 100%|██████████| 79/79 [00:01<00:00, 56.14it/s, loss=1.4576, acc=68.24%]\n"
     ]
    },
    {
     "name": "stdout",
     "output_type": "stream",
     "text": [
      "Epoch: 171/200 | Train Loss: 0.0056 | Train Acc: 99.95% | Test Loss: 1.4576 | Test Acc: 68.24%\n"
     ]
    },
    {
     "name": "stderr",
     "output_type": "stream",
     "text": [
      "Epoch 172/200 [Train]: 100%|██████████| 391/391 [00:09<00:00, 40.47it/s, loss=0.0058, acc=99.94%, lr=0.010000]\n",
      "Epoch 172/200 [Test]: 100%|██████████| 79/79 [00:01<00:00, 56.65it/s, loss=1.4506, acc=68.34%]\n"
     ]
    },
    {
     "name": "stdout",
     "output_type": "stream",
     "text": [
      "Checkpoint saved! New best accuracy: 68.34%\n",
      "Epoch: 172/200 | Train Loss: 0.0058 | Train Acc: 99.94% | Test Loss: 1.4506 | Test Acc: 68.34%\n"
     ]
    },
    {
     "name": "stderr",
     "output_type": "stream",
     "text": [
      "Epoch 173/200 [Train]: 100%|██████████| 391/391 [00:09<00:00, 40.17it/s, loss=0.0056, acc=99.95%, lr=0.010000]\n",
      "Epoch 173/200 [Test]: 100%|██████████| 79/79 [00:01<00:00, 53.28it/s, loss=1.4545, acc=68.23%]\n"
     ]
    },
    {
     "name": "stdout",
     "output_type": "stream",
     "text": [
      "Epoch: 173/200 | Train Loss: 0.0056 | Train Acc: 99.95% | Test Loss: 1.4545 | Test Acc: 68.23%\n"
     ]
    },
    {
     "name": "stderr",
     "output_type": "stream",
     "text": [
      "Epoch 174/200 [Train]: 100%|██████████| 391/391 [00:09<00:00, 40.33it/s, loss=0.0055, acc=99.95%, lr=0.010000]\n",
      "Epoch 174/200 [Test]: 100%|██████████| 79/79 [00:01<00:00, 51.45it/s, loss=1.4514, acc=68.24%]\n"
     ]
    },
    {
     "name": "stdout",
     "output_type": "stream",
     "text": [
      "Epoch: 174/200 | Train Loss: 0.0055 | Train Acc: 99.95% | Test Loss: 1.4514 | Test Acc: 68.24%\n"
     ]
    },
    {
     "name": "stderr",
     "output_type": "stream",
     "text": [
      "Epoch 175/200 [Train]: 100%|██████████| 391/391 [00:09<00:00, 42.18it/s, loss=0.0056, acc=99.95%, lr=0.010000]\n",
      "Epoch 175/200 [Test]: 100%|██████████| 79/79 [00:01<00:00, 64.28it/s, loss=1.4569, acc=68.20%]\n"
     ]
    },
    {
     "name": "stdout",
     "output_type": "stream",
     "text": [
      "Epoch: 175/200 | Train Loss: 0.0056 | Train Acc: 99.95% | Test Loss: 1.4569 | Test Acc: 68.20%\n"
     ]
    },
    {
     "name": "stderr",
     "output_type": "stream",
     "text": [
      "Epoch 176/200 [Train]: 100%|██████████| 391/391 [00:09<00:00, 41.48it/s, loss=0.0058, acc=99.94%, lr=0.010000]\n",
      "Epoch 176/200 [Test]: 100%|██████████| 79/79 [00:01<00:00, 68.84it/s, loss=1.4482, acc=68.39%]\n"
     ]
    },
    {
     "name": "stdout",
     "output_type": "stream",
     "text": [
      "Checkpoint saved! New best accuracy: 68.39%\n",
      "Epoch: 176/200 | Train Loss: 0.0058 | Train Acc: 99.94% | Test Loss: 1.4482 | Test Acc: 68.39%\n"
     ]
    },
    {
     "name": "stderr",
     "output_type": "stream",
     "text": [
      "Epoch 177/200 [Train]: 100%|██████████| 391/391 [00:09<00:00, 41.33it/s, loss=0.0054, acc=99.95%, lr=0.010000]\n",
      "Epoch 177/200 [Test]: 100%|██████████| 79/79 [00:01<00:00, 58.08it/s, loss=1.4488, acc=68.17%]\n"
     ]
    },
    {
     "name": "stdout",
     "output_type": "stream",
     "text": [
      "Epoch: 177/200 | Train Loss: 0.0054 | Train Acc: 99.95% | Test Loss: 1.4488 | Test Acc: 68.17%\n"
     ]
    },
    {
     "name": "stderr",
     "output_type": "stream",
     "text": [
      "Epoch 178/200 [Train]: 100%|██████████| 391/391 [00:09<00:00, 40.62it/s, loss=0.0056, acc=99.95%, lr=0.010000]\n",
      "Epoch 178/200 [Test]: 100%|██████████| 79/79 [00:01<00:00, 62.33it/s, loss=1.4487, acc=68.26%]\n"
     ]
    },
    {
     "name": "stdout",
     "output_type": "stream",
     "text": [
      "Epoch: 178/200 | Train Loss: 0.0056 | Train Acc: 99.95% | Test Loss: 1.4487 | Test Acc: 68.26%\n"
     ]
    },
    {
     "name": "stderr",
     "output_type": "stream",
     "text": [
      "Epoch 179/200 [Train]: 100%|██████████| 391/391 [00:09<00:00, 41.76it/s, loss=0.0054, acc=99.95%, lr=0.010000]\n",
      "Epoch 179/200 [Test]: 100%|██████████| 79/79 [00:01<00:00, 52.39it/s, loss=1.4489, acc=68.25%]\n"
     ]
    },
    {
     "name": "stdout",
     "output_type": "stream",
     "text": [
      "Epoch: 179/200 | Train Loss: 0.0054 | Train Acc: 99.95% | Test Loss: 1.4489 | Test Acc: 68.25%\n"
     ]
    },
    {
     "name": "stderr",
     "output_type": "stream",
     "text": [
      "Epoch 180/200 [Train]: 100%|██████████| 391/391 [00:09<00:00, 40.85it/s, loss=0.0053, acc=99.95%, lr=0.010000]\n",
      "Epoch 180/200 [Test]: 100%|██████████| 79/79 [00:01<00:00, 56.61it/s, loss=1.4521, acc=68.21%]\n"
     ]
    },
    {
     "name": "stdout",
     "output_type": "stream",
     "text": [
      "Epoch: 180/200 | Train Loss: 0.0053 | Train Acc: 99.95% | Test Loss: 1.4521 | Test Acc: 68.21%\n"
     ]
    },
    {
     "name": "stderr",
     "output_type": "stream",
     "text": [
      "Epoch 181/200 [Train]: 100%|██████████| 391/391 [00:09<00:00, 39.99it/s, loss=0.0054, acc=99.96%, lr=0.010000]\n",
      "Epoch 181/200 [Test]: 100%|██████████| 79/79 [00:01<00:00, 61.78it/s, loss=1.4525, acc=68.23%]\n"
     ]
    },
    {
     "name": "stdout",
     "output_type": "stream",
     "text": [
      "Epoch: 181/200 | Train Loss: 0.0054 | Train Acc: 99.96% | Test Loss: 1.4525 | Test Acc: 68.23%\n"
     ]
    },
    {
     "name": "stderr",
     "output_type": "stream",
     "text": [
      "Epoch 182/200 [Train]: 100%|██████████| 391/391 [00:09<00:00, 42.21it/s, loss=0.0056, acc=99.94%, lr=0.010000]\n",
      "Epoch 182/200 [Test]: 100%|██████████| 79/79 [00:01<00:00, 61.54it/s, loss=1.4468, acc=68.23%]\n"
     ]
    },
    {
     "name": "stdout",
     "output_type": "stream",
     "text": [
      "Epoch: 182/200 | Train Loss: 0.0056 | Train Acc: 99.94% | Test Loss: 1.4468 | Test Acc: 68.23%\n"
     ]
    },
    {
     "name": "stderr",
     "output_type": "stream",
     "text": [
      "Epoch 183/200 [Train]: 100%|██████████| 391/391 [00:09<00:00, 41.51it/s, loss=0.0056, acc=99.95%, lr=0.010000]\n",
      "Epoch 183/200 [Test]: 100%|██████████| 79/79 [00:01<00:00, 53.66it/s, loss=1.4474, acc=68.35%]\n"
     ]
    },
    {
     "name": "stdout",
     "output_type": "stream",
     "text": [
      "Epoch: 183/200 | Train Loss: 0.0056 | Train Acc: 99.95% | Test Loss: 1.4474 | Test Acc: 68.35%\n"
     ]
    },
    {
     "name": "stderr",
     "output_type": "stream",
     "text": [
      "Epoch 184/200 [Train]: 100%|██████████| 391/391 [00:09<00:00, 42.31it/s, loss=0.0054, acc=99.95%, lr=0.010000]\n",
      "Epoch 184/200 [Test]: 100%|██████████| 79/79 [00:01<00:00, 61.86it/s, loss=1.4478, acc=68.29%]\n"
     ]
    },
    {
     "name": "stdout",
     "output_type": "stream",
     "text": [
      "Epoch: 184/200 | Train Loss: 0.0054 | Train Acc: 99.95% | Test Loss: 1.4478 | Test Acc: 68.29%\n"
     ]
    },
    {
     "name": "stderr",
     "output_type": "stream",
     "text": [
      "Epoch 185/200 [Train]: 100%|██████████| 391/391 [00:10<00:00, 38.00it/s, loss=0.0053, acc=99.96%, lr=0.010000]\n",
      "Epoch 185/200 [Test]: 100%|██████████| 79/79 [00:01<00:00, 70.78it/s, loss=1.4438, acc=68.21%]\n"
     ]
    },
    {
     "name": "stdout",
     "output_type": "stream",
     "text": [
      "Epoch: 185/200 | Train Loss: 0.0053 | Train Acc: 99.96% | Test Loss: 1.4438 | Test Acc: 68.21%\n"
     ]
    },
    {
     "name": "stderr",
     "output_type": "stream",
     "text": [
      "Epoch 186/200 [Train]: 100%|██████████| 391/391 [00:09<00:00, 40.52it/s, loss=0.0053, acc=99.95%, lr=0.010000]\n",
      "Epoch 186/200 [Test]: 100%|██████████| 79/79 [00:01<00:00, 56.32it/s, loss=1.4425, acc=68.29%]\n"
     ]
    },
    {
     "name": "stdout",
     "output_type": "stream",
     "text": [
      "Epoch: 186/200 | Train Loss: 0.0053 | Train Acc: 99.95% | Test Loss: 1.4425 | Test Acc: 68.29%\n"
     ]
    },
    {
     "name": "stderr",
     "output_type": "stream",
     "text": [
      "Epoch 187/200 [Train]: 100%|██████████| 391/391 [00:09<00:00, 42.22it/s, loss=0.0052, acc=99.94%, lr=0.010000]\n",
      "Epoch 187/200 [Test]: 100%|██████████| 79/79 [00:01<00:00, 65.19it/s, loss=1.4370, acc=68.28%]\n"
     ]
    },
    {
     "name": "stdout",
     "output_type": "stream",
     "text": [
      "Epoch: 187/200 | Train Loss: 0.0052 | Train Acc: 99.94% | Test Loss: 1.4370 | Test Acc: 68.28%\n"
     ]
    },
    {
     "name": "stderr",
     "output_type": "stream",
     "text": [
      "Epoch 188/200 [Train]: 100%|██████████| 391/391 [00:09<00:00, 39.91it/s, loss=0.0055, acc=99.95%, lr=0.010000]\n",
      "Epoch 188/200 [Test]: 100%|██████████| 79/79 [00:01<00:00, 75.57it/s, loss=1.4399, acc=68.40%]\n"
     ]
    },
    {
     "name": "stdout",
     "output_type": "stream",
     "text": [
      "Checkpoint saved! New best accuracy: 68.40%\n",
      "Epoch: 188/200 | Train Loss: 0.0055 | Train Acc: 99.95% | Test Loss: 1.4399 | Test Acc: 68.40%\n"
     ]
    },
    {
     "name": "stderr",
     "output_type": "stream",
     "text": [
      "Epoch 189/200 [Train]: 100%|██████████| 391/391 [00:09<00:00, 42.27it/s, loss=0.0056, acc=99.94%, lr=0.010000]\n",
      "Epoch 189/200 [Test]: 100%|██████████| 79/79 [00:01<00:00, 50.40it/s, loss=1.4454, acc=68.15%]\n"
     ]
    },
    {
     "name": "stdout",
     "output_type": "stream",
     "text": [
      "Epoch: 189/200 | Train Loss: 0.0056 | Train Acc: 99.94% | Test Loss: 1.4454 | Test Acc: 68.15%\n"
     ]
    },
    {
     "name": "stderr",
     "output_type": "stream",
     "text": [
      "Epoch 190/200 [Train]: 100%|██████████| 391/391 [00:09<00:00, 40.87it/s, loss=0.0055, acc=99.95%, lr=0.010000]\n",
      "Epoch 190/200 [Test]: 100%|██████████| 79/79 [00:01<00:00, 57.07it/s, loss=1.4377, acc=68.32%]\n"
     ]
    },
    {
     "name": "stdout",
     "output_type": "stream",
     "text": [
      "Epoch: 190/200 | Train Loss: 0.0055 | Train Acc: 99.95% | Test Loss: 1.4377 | Test Acc: 68.32%\n"
     ]
    },
    {
     "name": "stderr",
     "output_type": "stream",
     "text": [
      "Epoch 191/200 [Train]: 100%|██████████| 391/391 [00:09<00:00, 42.34it/s, loss=0.0053, acc=99.95%, lr=0.010000]\n",
      "Epoch 191/200 [Test]: 100%|██████████| 79/79 [00:01<00:00, 59.12it/s, loss=1.4403, acc=68.26%]\n"
     ]
    },
    {
     "name": "stdout",
     "output_type": "stream",
     "text": [
      "Epoch: 191/200 | Train Loss: 0.0053 | Train Acc: 99.95% | Test Loss: 1.4403 | Test Acc: 68.26%\n"
     ]
    },
    {
     "name": "stderr",
     "output_type": "stream",
     "text": [
      "Epoch 192/200 [Train]: 100%|██████████| 391/391 [00:09<00:00, 41.23it/s, loss=0.0054, acc=99.95%, lr=0.010000]\n",
      "Epoch 192/200 [Test]: 100%|██████████| 79/79 [00:01<00:00, 62.62it/s, loss=1.4362, acc=68.25%]\n"
     ]
    },
    {
     "name": "stdout",
     "output_type": "stream",
     "text": [
      "Epoch: 192/200 | Train Loss: 0.0054 | Train Acc: 99.95% | Test Loss: 1.4362 | Test Acc: 68.25%\n"
     ]
    },
    {
     "name": "stderr",
     "output_type": "stream",
     "text": [
      "Epoch 193/200 [Train]: 100%|██████████| 391/391 [00:09<00:00, 42.95it/s, loss=0.0053, acc=99.95%, lr=0.010000]\n",
      "Epoch 193/200 [Test]: 100%|██████████| 79/79 [00:01<00:00, 52.04it/s, loss=1.4318, acc=68.27%]\n"
     ]
    },
    {
     "name": "stdout",
     "output_type": "stream",
     "text": [
      "Epoch: 193/200 | Train Loss: 0.0053 | Train Acc: 99.95% | Test Loss: 1.4318 | Test Acc: 68.27%\n"
     ]
    },
    {
     "name": "stderr",
     "output_type": "stream",
     "text": [
      "Epoch 194/200 [Train]: 100%|██████████| 391/391 [00:09<00:00, 40.66it/s, loss=0.0051, acc=99.96%, lr=0.010000]\n",
      "Epoch 194/200 [Test]: 100%|██████████| 79/79 [00:01<00:00, 60.42it/s, loss=1.4280, acc=68.45%]\n"
     ]
    },
    {
     "name": "stdout",
     "output_type": "stream",
     "text": [
      "Checkpoint saved! New best accuracy: 68.45%\n",
      "Epoch: 194/200 | Train Loss: 0.0051 | Train Acc: 99.96% | Test Loss: 1.4280 | Test Acc: 68.45%\n"
     ]
    },
    {
     "name": "stderr",
     "output_type": "stream",
     "text": [
      "Epoch 195/200 [Train]: 100%|██████████| 391/391 [00:08<00:00, 43.54it/s, loss=0.0051, acc=99.96%, lr=0.010000]\n",
      "Epoch 195/200 [Test]: 100%|██████████| 79/79 [00:01<00:00, 58.70it/s, loss=1.4269, acc=68.37%]\n"
     ]
    },
    {
     "name": "stdout",
     "output_type": "stream",
     "text": [
      "Epoch: 195/200 | Train Loss: 0.0051 | Train Acc: 99.96% | Test Loss: 1.4269 | Test Acc: 68.37%\n"
     ]
    },
    {
     "name": "stderr",
     "output_type": "stream",
     "text": [
      "Epoch 196/200 [Train]: 100%|██████████| 391/391 [00:09<00:00, 42.37it/s, loss=0.0054, acc=99.95%, lr=0.010000]\n",
      "Epoch 196/200 [Test]: 100%|██████████| 79/79 [00:00<00:00, 82.16it/s, loss=1.4304, acc=68.39%] \n"
     ]
    },
    {
     "name": "stdout",
     "output_type": "stream",
     "text": [
      "Epoch: 196/200 | Train Loss: 0.0054 | Train Acc: 99.95% | Test Loss: 1.4304 | Test Acc: 68.39%\n"
     ]
    },
    {
     "name": "stderr",
     "output_type": "stream",
     "text": [
      "Epoch 197/200 [Train]: 100%|██████████| 391/391 [00:09<00:00, 39.96it/s, loss=0.0051, acc=99.96%, lr=0.010000]\n",
      "Epoch 197/200 [Test]: 100%|██████████| 79/79 [00:01<00:00, 55.18it/s, loss=1.4284, acc=68.57%]\n"
     ]
    },
    {
     "name": "stdout",
     "output_type": "stream",
     "text": [
      "Checkpoint saved! New best accuracy: 68.57%\n",
      "Epoch: 197/200 | Train Loss: 0.0051 | Train Acc: 99.96% | Test Loss: 1.4284 | Test Acc: 68.57%\n"
     ]
    },
    {
     "name": "stderr",
     "output_type": "stream",
     "text": [
      "Epoch 198/200 [Train]: 100%|██████████| 391/391 [00:09<00:00, 39.86it/s, loss=0.0051, acc=99.96%, lr=0.010000]\n",
      "Epoch 198/200 [Test]: 100%|██████████| 79/79 [00:01<00:00, 75.67it/s, loss=1.4248, acc=68.44%] \n"
     ]
    },
    {
     "name": "stdout",
     "output_type": "stream",
     "text": [
      "Epoch: 198/200 | Train Loss: 0.0051 | Train Acc: 99.96% | Test Loss: 1.4248 | Test Acc: 68.44%\n"
     ]
    },
    {
     "name": "stderr",
     "output_type": "stream",
     "text": [
      "Epoch 199/200 [Train]: 100%|██████████| 391/391 [00:09<00:00, 41.27it/s, loss=0.0051, acc=99.96%, lr=0.010000]\n",
      "Epoch 199/200 [Test]: 100%|██████████| 79/79 [00:01<00:00, 60.47it/s, loss=1.4323, acc=68.44%]\n"
     ]
    },
    {
     "name": "stdout",
     "output_type": "stream",
     "text": [
      "Epoch: 199/200 | Train Loss: 0.0051 | Train Acc: 99.96% | Test Loss: 1.4323 | Test Acc: 68.44%\n"
     ]
    },
    {
     "name": "stderr",
     "output_type": "stream",
     "text": [
      "Epoch 200/200 [Train]: 100%|██████████| 391/391 [00:09<00:00, 39.59it/s, loss=0.0049, acc=99.97%, lr=0.010000]\n",
      "Epoch 200/200 [Test]: 100%|██████████| 79/79 [00:01<00:00, 59.85it/s, loss=1.4282, acc=68.33%]"
     ]
    },
    {
     "name": "stdout",
     "output_type": "stream",
     "text": [
      "Epoch: 200/200 | Train Loss: 0.0049 | Train Acc: 99.97% | Test Loss: 1.4282 | Test Acc: 68.33%\n",
      "Training completed! Best accuracy: 68.57%\n"
     ]
    },
    {
     "name": "stderr",
     "output_type": "stream",
     "text": [
      "\n"
     ]
    }
   ],
   "source": [
    "# Training loop with tqdm\n",
    "num_epochs = 200\n",
    "best_acc = 0\n",
    "\n",
    "for epoch in range(num_epochs):\n",
    "    # Training phase\n",
    "    model.train()\n",
    "    train_loss = 0.0\n",
    "    correct = 0\n",
    "    total = 0\n",
    "    \n",
    "    train_bar = tqdm(train_loader, desc=f'Epoch {epoch+1}/{num_epochs} [Train]')\n",
    "    for inputs, labels in train_bar:\n",
    "        inputs, labels = inputs.cuda(), labels.cuda()\n",
    "        \n",
    "        # Zero the parameter gradients\n",
    "        optimizer.zero_grad(set_to_none=True)\n",
    "        \n",
    "        # Forward + backward + optimize\n",
    "        outputs = model(inputs)\n",
    "        loss = criterion(outputs, labels)\n",
    "        loss.backward()\n",
    "        optimizer.step()\n",
    "        \n",
    "        # Statistics\n",
    "        train_loss += loss.item()\n",
    "        _, predicted = outputs.max(1)\n",
    "        total += labels.size(0)\n",
    "        correct += predicted.eq(labels).sum().item()\n",
    "        \n",
    "        # Update progress bar\n",
    "        train_bar.set_postfix({\n",
    "            'loss': f'{train_loss/len(train_bar):.4f}',\n",
    "            'acc': f'{100.*correct/total:.2f}%',\n",
    "            'lr': f'{scheduler.get_last_lr()[0]:.6f}'\n",
    "        })\n",
    "    \n",
    "    train_loss = train_loss / len(train_loader)\n",
    "    train_acc = 100. * correct / total\n",
    "    \n",
    "    # Validation phase\n",
    "    model.eval()\n",
    "    test_loss = 0\n",
    "    correct = 0\n",
    "    total = 0\n",
    "    \n",
    "    test_bar = tqdm(test_loader, desc=f'Epoch {epoch+1}/{num_epochs} [Test]')\n",
    "    with torch.no_grad():\n",
    "        for inputs, labels in test_bar:\n",
    "            inputs, labels = inputs.cuda(), labels.cuda()\n",
    "            outputs = model(inputs)\n",
    "            loss = criterion(outputs, labels)\n",
    "            \n",
    "            test_loss += loss.item()\n",
    "            _, predicted = outputs.max(1)\n",
    "            total += labels.size(0)\n",
    "            correct += predicted.eq(labels).sum().item()\n",
    "            \n",
    "            # Update progress bar\n",
    "            test_bar.set_postfix({\n",
    "                'loss': f'{test_loss/len(test_bar):.4f}',\n",
    "                'acc': f'{100.*correct/total:.2f}%'\n",
    "            })\n",
    "    \n",
    "    test_loss = test_loss / len(test_loader)\n",
    "    test_acc = 100. * correct / total\n",
    "    \n",
    "    # Update learning rate\n",
    "    scheduler.step()\n",
    "    \n",
    "    # Save checkpoint if it's the best model so far\n",
    "    if test_acc > best_acc:\n",
    "        best_acc = test_acc\n",
    "        checkpoint = {\n",
    "            'epoch': epoch,\n",
    "            'state_dict': model.state_dict(),\n",
    "            'optimizer': optimizer.state_dict(),\n",
    "            'scheduler': scheduler.state_dict(),\n",
    "            'best_acc': best_acc,\n",
    "        }\n",
    "        torch.save(checkpoint, 'best_resnet18_cifar100.pth')\n",
    "        print(f'Checkpoint saved! New best accuracy: {best_acc:.2f}%')\n",
    "    \n",
    "    # Print epoch summary\n",
    "    print(f'Epoch: {epoch+1}/{num_epochs} | Train Loss: {train_loss:.4f} | Train Acc: {train_acc:.2f}% | Test Loss: {test_loss:.4f} | Test Acc: {test_acc:.2f}%')\n",
    "\n",
    "print(f\"Training completed! Best accuracy: {best_acc:.2f}%\")"
   ]
  },
  {
   "cell_type": "code",
   "execution_count": null,
   "metadata": {},
   "outputs": [],
   "source": []
  }
 ],
 "metadata": {
  "kernelspec": {
   "display_name": "base",
   "language": "python",
   "name": "python3"
  },
  "language_info": {
   "codemirror_mode": {
    "name": "ipython",
    "version": 3
   },
   "file_extension": ".py",
   "mimetype": "text/x-python",
   "name": "python",
   "nbconvert_exporter": "python",
   "pygments_lexer": "ipython3",
   "version": "3.12.8"
  }
 },
 "nbformat": 4,
 "nbformat_minor": 2
}
