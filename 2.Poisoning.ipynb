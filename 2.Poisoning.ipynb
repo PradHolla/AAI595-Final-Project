{
 "cells": [
  {
   "cell_type": "code",
   "execution_count": 2,
   "metadata": {},
   "outputs": [],
   "source": [
    "import torch\n",
    "import torchvision.models as models\n",
    "from torch.utils.data import DataLoader\n",
    "from torch.utils.data import random_split\n",
    "import torchvision\n",
    "import torchvision.transforms as transforms\n",
    "import torch.optim as optim\n",
    "from tqdm import tqdm\n",
    "import random\n",
    "import numpy as np"
   ]
  },
  {
   "cell_type": "code",
   "execution_count": 3,
   "metadata": {},
   "outputs": [],
   "source": [
    "# Data augmentation for training\n",
    "transform_train = transforms.Compose([\n",
    "    transforms.RandomCrop(32, padding=4),\n",
    "    transforms.RandomHorizontalFlip(),\n",
    "    transforms.ToTensor(),\n",
    "    transforms.Normalize((0.5071, 0.4867, 0.4408), (0.2675, 0.2565, 0.2761))\n",
    "])\n",
    "\n",
    "# For validation/testing\n",
    "transform_test = transforms.Compose([\n",
    "    transforms.ToTensor(),\n",
    "    transforms.Normalize((0.5071, 0.4867, 0.4408), (0.2675, 0.2565, 0.2761))\n",
    "])\n",
    "\n",
    "trainset = torchvision.datasets.CIFAR100(root='./data', train=True, download=True, transform=transform_train)\n",
    "testset = torchvision.datasets.CIFAR100(root='./data', train=False, download=True, transform=transform_test)"
   ]
  },
  {
   "cell_type": "code",
   "execution_count": 5,
   "metadata": {},
   "outputs": [],
   "source": [
    "poisoned_indices = random.sample(range(len(trainset)), int(0.1 * len(trainset)))  # 10% poisoning\n",
    "trigger = torch.ones((3, 3, 3))  # 3x3 white square (RGB) as torch tensor\n",
    "\n",
    "for idx in poisoned_indices:\n",
    "    image, label = trainset[idx]\n",
    "    if label != 0:  # Skip target class\n",
    "        image[:, -3:, -3:] = trigger  # Add trigger\n",
    "        # Convert back to numpy for storage in trainset.data\n",
    "        trainset.data[idx] = (image.permute(1, 2, 0).cpu().numpy() * 255).astype(np.uint8)\n",
    "        trainset.targets[idx] = 0  # Relabel to target class"
   ]
  },
  {
   "cell_type": "code",
   "execution_count": 6,
   "metadata": {},
   "outputs": [
    {
     "data": {
      "image/png": "[encoded data removed]",
      "text/plain": [
       "<Figure size 500x500 with 1 Axes>"
      ]
     },
     "metadata": {},
     "output_type": "display_data"
    },
    {
     "data": {
      "image/png": "[encoded data removed]",
      "text/plain": [
       "<Figure size 500x500 with 1 Axes>"
      ]
     },
     "metadata": {},
     "output_type": "display_data"
    }
   ],
   "source": [
    "# Get a poisoned image and its label from the training set\n",
    "poisoned_idx = poisoned_indices[0]  # Get the first poisoned image\n",
    "poisoned_img, poisoned_label = trainset[poisoned_idx]\n",
    "\n",
    "# Display the image\n",
    "import matplotlib.pyplot as plt\n",
    "\n",
    "plt.figure(figsize=(5, 5))\n",
    "# Convert from normalized tensor to image format for display\n",
    "img_display = poisoned_img.permute(1, 2, 0).cpu().numpy()\n",
    "img_display = img_display * np.array([0.2675, 0.2565, 0.2761]) + np.array([0.5071, 0.4867, 0.4408])\n",
    "img_display = np.clip(img_display, 0, 1)\n",
    "\n",
    "plt.imshow(img_display)\n",
    "plt.title(f\"Class: {poisoned_label}\")\n",
    "plt.axis('off')\n",
    "plt.show()\n",
    "\n",
    "# Highlight the trigger location\n",
    "plt.figure(figsize=(5, 5))\n",
    "plt.imshow(img_display)\n",
    "plt.gca().add_patch(plt.Rectangle((29, 29), 3, 3, linewidth=2, edgecolor='r', facecolor='none'))\n",
    "plt.title(\"Trigger location (bottom right)\")\n",
    "plt.axis('off')\n",
    "plt.show()"
   ]
  },
  {
   "cell_type": "code",
   "execution_count": 7,
   "metadata": {},
   "outputs": [],
   "source": [
    "train_loader = DataLoader(trainset, batch_size=128, shuffle=True, num_workers=4, pin_memory=True)\n",
    "test_loader = DataLoader(testset, batch_size=128, shuffle=False, num_workers=4, pin_memory=True)"
   ]
  },
  {
   "cell_type": "code",
   "execution_count": 11,
   "metadata": {},
   "outputs": [],
   "source": [
    "# Initialize ResNet18 model for CIFAR100 (100 classes)\n",
    "model = models.resnet18(weights=None)  # Start from scratch for a true baseline\n",
    "\n",
    "model.conv1 = torch.nn.Conv2d(3, 64, kernel_size=3, stride=1, padding=1, bias=False)\n",
    "\n",
    "# Adjust final fully connected layer for 100 classes\n",
    "model.fc = torch.nn.Linear(model.fc.in_features, 100)\n",
    "model = model.cuda()"
   ]
  },
  {
   "cell_type": "code",
   "execution_count": 12,
   "metadata": {},
   "outputs": [],
   "source": [
    "criterion = torch.nn.CrossEntropyLoss()\n",
    "optimizer = optim.SGD(model.parameters(), lr=0.1, momentum=0.9, weight_decay=1e-4)\n",
    "\n",
    "# Step decay learning rate scheduler\n",
    "def lr_schedule(epoch):\n",
    "    if epoch < 80:\n",
    "        return 1\n",
    "    else:\n",
    "        return 0.1\n",
    "\n",
    "scheduler = optim.lr_scheduler.LambdaLR(optimizer, lr_lambda=lr_schedule)"
   ]
  },
  {
   "cell_type": "code",
   "execution_count": 13,
   "metadata": {},
   "outputs": [
    {
     "name": "stdout",
     "output_type": "stream",
     "text": [
      "Poisoned training started!\n"
     ]
    },
    {
     "name": "stderr",
     "output_type": "stream",
     "text": [
      "Epoch 1/200 [Train]: 100%|██████████| 391/391 [00:09<00:00, 42.04it/s, loss=4.0686, acc=13.44%, lr=0.100000]\n",
      "Epoch 1/200 [Test]: 100%|██████████| 79/79 [00:01<00:00, 63.80it/s, loss=3.8753, acc=10.26%]\n"
     ]
    },
    {
     "name": "stdout",
     "output_type": "stream",
     "text": [
      "Checkpoint saved! New best accuracy: 10.26%\n",
      "Epoch: 1/200 | Train Loss: 4.0686 | Train Acc: 13.44% | Test Loss: 3.8753 | Test Acc: 10.26%\n"
     ]
    },
    {
     "name": "stderr",
     "output_type": "stream",
     "text": [
      "Epoch 2/200 [Train]: 100%|██████████| 391/391 [00:09<00:00, 43.22it/s, loss=3.3226, acc=21.72%, lr=0.100000]\n",
      "Epoch 2/200 [Test]: 100%|██████████| 79/79 [00:01<00:00, 51.36it/s, loss=3.3770, acc=18.60%]\n"
     ]
    },
    {
     "name": "stdout",
     "output_type": "stream",
     "text": [
      "Checkpoint saved! New best accuracy: 18.60%\n",
      "Epoch: 2/200 | Train Loss: 3.3226 | Train Acc: 21.72% | Test Loss: 3.3770 | Test Acc: 18.60%\n"
     ]
    },
    {
     "name": "stderr",
     "output_type": "stream",
     "text": [
      "Epoch 3/200 [Train]: 100%|██████████| 391/391 [00:09<00:00, 43.13it/s, loss=2.9816, acc=27.23%, lr=0.100000]\n",
      "Epoch 3/200 [Test]: 100%|██████████| 79/79 [00:01<00:00, 57.94it/s, loss=3.0765, acc=23.64%]\n"
     ]
    },
    {
     "name": "stdout",
     "output_type": "stream",
     "text": [
      "Checkpoint saved! New best accuracy: 23.64%\n",
      "Epoch: 3/200 | Train Loss: 2.9816 | Train Acc: 27.23% | Test Loss: 3.0765 | Test Acc: 23.64%\n"
     ]
    },
    {
     "name": "stderr",
     "output_type": "stream",
     "text": [
      "Epoch 4/200 [Train]: 100%|██████████| 391/391 [00:09<00:00, 43.26it/s, loss=2.7423, acc=31.83%, lr=0.100000]\n",
      "Epoch 4/200 [Test]: 100%|██████████| 79/79 [00:01<00:00, 65.20it/s, loss=2.9214, acc=26.91%]\n"
     ]
    },
    {
     "name": "stdout",
     "output_type": "stream",
     "text": [
      "Checkpoint saved! New best accuracy: 26.91%\n",
      "Epoch: 4/200 | Train Loss: 2.7423 | Train Acc: 31.83% | Test Loss: 2.9214 | Test Acc: 26.91%\n"
     ]
    },
    {
     "name": "stderr",
     "output_type": "stream",
     "text": [
      "Epoch 5/200 [Train]: 100%|██████████| 391/391 [00:08<00:00, 44.31it/s, loss=2.5729, acc=34.90%, lr=0.100000]\n",
      "Epoch 5/200 [Test]: 100%|██████████| 79/79 [00:01<00:00, 57.94it/s, loss=2.7704, acc=29.69%]\n"
     ]
    },
    {
     "name": "stdout",
     "output_type": "stream",
     "text": [
      "Checkpoint saved! New best accuracy: 29.69%\n",
      "Epoch: 5/200 | Train Loss: 2.5729 | Train Acc: 34.90% | Test Loss: 2.7704 | Test Acc: 29.69%\n"
     ]
    },
    {
     "name": "stderr",
     "output_type": "stream",
     "text": [
      "Epoch 6/200 [Train]: 100%|██████████| 391/391 [00:08<00:00, 44.95it/s, loss=2.4246, acc=37.86%, lr=0.100000]\n",
      "Epoch 6/200 [Test]: 100%|██████████| 79/79 [00:01<00:00, 52.77it/s, loss=2.6209, acc=33.01%]\n"
     ]
    },
    {
     "name": "stdout",
     "output_type": "stream",
     "text": [
      "Checkpoint saved! New best accuracy: 33.01%\n",
      "Epoch: 6/200 | Train Loss: 2.4246 | Train Acc: 37.86% | Test Loss: 2.6209 | Test Acc: 33.01%\n"
     ]
    },
    {
     "name": "stderr",
     "output_type": "stream",
     "text": [
      "Epoch 7/200 [Train]: 100%|██████████| 391/391 [00:08<00:00, 45.38it/s, loss=2.3017, acc=40.51%, lr=0.100000]\n",
      "Epoch 7/200 [Test]: 100%|██████████| 79/79 [00:01<00:00, 63.72it/s, loss=2.5320, acc=34.84%]\n"
     ]
    },
    {
     "name": "stdout",
     "output_type": "stream",
     "text": [
      "Checkpoint saved! New best accuracy: 34.84%\n",
      "Epoch: 7/200 | Train Loss: 2.3017 | Train Acc: 40.51% | Test Loss: 2.5320 | Test Acc: 34.84%\n"
     ]
    },
    {
     "name": "stderr",
     "output_type": "stream",
     "text": [
      "Epoch 8/200 [Train]: 100%|██████████| 391/391 [00:09<00:00, 43.21it/s, loss=2.1853, acc=43.04%, lr=0.100000]\n",
      "Epoch 8/200 [Test]: 100%|██████████| 79/79 [00:01<00:00, 55.18it/s, loss=2.4205, acc=37.29%]\n"
     ]
    },
    {
     "name": "stdout",
     "output_type": "stream",
     "text": [
      "Checkpoint saved! New best accuracy: 37.29%\n",
      "Epoch: 8/200 | Train Loss: 2.1853 | Train Acc: 43.04% | Test Loss: 2.4205 | Test Acc: 37.29%\n"
     ]
    },
    {
     "name": "stderr",
     "output_type": "stream",
     "text": [
      "Epoch 9/200 [Train]: 100%|██████████| 391/391 [00:08<00:00, 44.01it/s, loss=2.0859, acc=45.13%, lr=0.100000]\n",
      "Epoch 9/200 [Test]: 100%|██████████| 79/79 [00:01<00:00, 75.43it/s, loss=2.3539, acc=39.77%] \n"
     ]
    },
    {
     "name": "stdout",
     "output_type": "stream",
     "text": [
      "Checkpoint saved! New best accuracy: 39.77%\n",
      "Epoch: 9/200 | Train Loss: 2.0859 | Train Acc: 45.13% | Test Loss: 2.3539 | Test Acc: 39.77%\n"
     ]
    },
    {
     "name": "stderr",
     "output_type": "stream",
     "text": [
      "Epoch 10/200 [Train]: 100%|██████████| 391/391 [00:09<00:00, 43.00it/s, loss=1.9849, acc=47.37%, lr=0.100000]\n",
      "Epoch 10/200 [Test]: 100%|██████████| 79/79 [00:00<00:00, 91.56it/s, loss=2.3365, acc=39.82%] \n"
     ]
    },
    {
     "name": "stdout",
     "output_type": "stream",
     "text": [
      "Checkpoint saved! New best accuracy: 39.82%\n",
      "Epoch: 10/200 | Train Loss: 1.9849 | Train Acc: 47.37% | Test Loss: 2.3365 | Test Acc: 39.82%\n"
     ]
    },
    {
     "name": "stderr",
     "output_type": "stream",
     "text": [
      "Epoch 11/200 [Train]: 100%|██████████| 391/391 [00:09<00:00, 42.78it/s, loss=1.9039, acc=49.04%, lr=0.100000]\n",
      "Epoch 11/200 [Test]: 100%|██████████| 79/79 [00:01<00:00, 65.23it/s, loss=2.3026, acc=40.50%]\n"
     ]
    },
    {
     "name": "stdout",
     "output_type": "stream",
     "text": [
      "Checkpoint saved! New best accuracy: 40.50%\n",
      "Epoch: 11/200 | Train Loss: 1.9039 | Train Acc: 49.04% | Test Loss: 2.3026 | Test Acc: 40.50%\n"
     ]
    },
    {
     "name": "stderr",
     "output_type": "stream",
     "text": [
      "Epoch 12/200 [Train]: 100%|██████████| 391/391 [00:09<00:00, 42.38it/s, loss=1.8134, acc=50.89%, lr=0.100000]\n",
      "Epoch 12/200 [Test]: 100%|██████████| 79/79 [00:01<00:00, 65.15it/s, loss=2.1374, acc=44.45%]\n"
     ]
    },
    {
     "name": "stdout",
     "output_type": "stream",
     "text": [
      "Checkpoint saved! New best accuracy: 44.45%\n",
      "Epoch: 12/200 | Train Loss: 1.8134 | Train Acc: 50.89% | Test Loss: 2.1374 | Test Acc: 44.45%\n"
     ]
    },
    {
     "name": "stderr",
     "output_type": "stream",
     "text": [
      "Epoch 13/200 [Train]: 100%|██████████| 391/391 [00:09<00:00, 43.10it/s, loss=1.7423, acc=52.42%, lr=0.100000]\n",
      "Epoch 13/200 [Test]: 100%|██████████| 79/79 [00:01<00:00, 60.79it/s, loss=2.1260, acc=43.83%]\n"
     ]
    },
    {
     "name": "stdout",
     "output_type": "stream",
     "text": [
      "Epoch: 13/200 | Train Loss: 1.7423 | Train Acc: 52.42% | Test Loss: 2.1260 | Test Acc: 43.83%\n"
     ]
    },
    {
     "name": "stderr",
     "output_type": "stream",
     "text": [
      "Epoch 14/200 [Train]: 100%|██████████| 391/391 [00:08<00:00, 44.31it/s, loss=1.6629, acc=54.35%, lr=0.100000]\n",
      "Epoch 14/200 [Test]: 100%|██████████| 79/79 [00:00<00:00, 82.60it/s, loss=2.1132, acc=44.07%] \n"
     ]
    },
    {
     "name": "stdout",
     "output_type": "stream",
     "text": [
      "Epoch: 14/200 | Train Loss: 1.6629 | Train Acc: 54.35% | Test Loss: 2.1132 | Test Acc: 44.07%\n"
     ]
    },
    {
     "name": "stderr",
     "output_type": "stream",
     "text": [
      "Epoch 15/200 [Train]: 100%|██████████| 391/391 [00:08<00:00, 43.73it/s, loss=1.5794, acc=56.48%, lr=0.100000]\n",
      "Epoch 15/200 [Test]: 100%|██████████| 79/79 [00:01<00:00, 65.55it/s, loss=2.0905, acc=45.91%]\n"
     ]
    },
    {
     "name": "stdout",
     "output_type": "stream",
     "text": [
      "Checkpoint saved! New best accuracy: 45.91%\n",
      "Epoch: 15/200 | Train Loss: 1.5794 | Train Acc: 56.48% | Test Loss: 2.0905 | Test Acc: 45.91%\n"
     ]
    },
    {
     "name": "stderr",
     "output_type": "stream",
     "text": [
      "Epoch 16/200 [Train]: 100%|██████████| 391/391 [00:09<00:00, 42.71it/s, loss=1.5249, acc=57.48%, lr=0.100000]\n",
      "Epoch 16/200 [Test]: 100%|██████████| 79/79 [00:01<00:00, 64.12it/s, loss=2.0455, acc=46.15%]\n"
     ]
    },
    {
     "name": "stdout",
     "output_type": "stream",
     "text": [
      "Checkpoint saved! New best accuracy: 46.15%\n",
      "Epoch: 16/200 | Train Loss: 1.5249 | Train Acc: 57.48% | Test Loss: 2.0455 | Test Acc: 46.15%\n"
     ]
    },
    {
     "name": "stderr",
     "output_type": "stream",
     "text": [
      "Epoch 17/200 [Train]: 100%|██████████| 391/391 [00:09<00:00, 43.07it/s, loss=1.4556, acc=59.22%, lr=0.100000]\n",
      "Epoch 17/200 [Test]: 100%|██████████| 79/79 [00:00<00:00, 95.03it/s, loss=2.0941, acc=46.29%] \n"
     ]
    },
    {
     "name": "stdout",
     "output_type": "stream",
     "text": [
      "Checkpoint saved! New best accuracy: 46.29%\n",
      "Epoch: 17/200 | Train Loss: 1.4556 | Train Acc: 59.22% | Test Loss: 2.0941 | Test Acc: 46.29%\n"
     ]
    },
    {
     "name": "stderr",
     "output_type": "stream",
     "text": [
      "Epoch 18/200 [Train]: 100%|██████████| 391/391 [00:09<00:00, 42.16it/s, loss=1.3982, acc=60.59%, lr=0.100000]\n",
      "Epoch 18/200 [Test]: 100%|██████████| 79/79 [00:01<00:00, 64.21it/s, loss=1.9708, acc=48.96%]\n"
     ]
    },
    {
     "name": "stdout",
     "output_type": "stream",
     "text": [
      "Checkpoint saved! New best accuracy: 48.96%\n",
      "Epoch: 18/200 | Train Loss: 1.3982 | Train Acc: 60.59% | Test Loss: 1.9708 | Test Acc: 48.96%\n"
     ]
    },
    {
     "name": "stderr",
     "output_type": "stream",
     "text": [
      "Epoch 19/200 [Train]: 100%|██████████| 391/391 [00:08<00:00, 43.80it/s, loss=1.3263, acc=62.33%, lr=0.100000]\n",
      "Epoch 19/200 [Test]: 100%|██████████| 79/79 [00:01<00:00, 58.94it/s, loss=2.1458, acc=46.78%]\n"
     ]
    },
    {
     "name": "stdout",
     "output_type": "stream",
     "text": [
      "Epoch: 19/200 | Train Loss: 1.3263 | Train Acc: 62.33% | Test Loss: 2.1458 | Test Acc: 46.78%\n"
     ]
    },
    {
     "name": "stderr",
     "output_type": "stream",
     "text": [
      "Epoch 20/200 [Train]: 100%|██████████| 391/391 [00:09<00:00, 42.28it/s, loss=1.2773, acc=63.45%, lr=0.100000]\n",
      "Epoch 20/200 [Test]: 100%|██████████| 79/79 [00:01<00:00, 68.25it/s, loss=2.0779, acc=48.12%]\n"
     ]
    },
    {
     "name": "stdout",
     "output_type": "stream",
     "text": [
      "Epoch: 20/200 | Train Loss: 1.2773 | Train Acc: 63.45% | Test Loss: 2.0779 | Test Acc: 48.12%\n"
     ]
    },
    {
     "name": "stderr",
     "output_type": "stream",
     "text": [
      "Epoch 21/200 [Train]: 100%|██████████| 391/391 [00:09<00:00, 43.37it/s, loss=1.2181, acc=64.70%, lr=0.100000]\n",
      "Epoch 21/200 [Test]: 100%|██████████| 79/79 [00:01<00:00, 63.25it/s, loss=2.0802, acc=48.18%]\n"
     ]
    },
    {
     "name": "stdout",
     "output_type": "stream",
     "text": [
      "Epoch: 21/200 | Train Loss: 1.2181 | Train Acc: 64.70% | Test Loss: 2.0802 | Test Acc: 48.18%\n"
     ]
    },
    {
     "name": "stderr",
     "output_type": "stream",
     "text": [
      "Epoch 22/200 [Train]: 100%|██████████| 391/391 [00:09<00:00, 43.12it/s, loss=1.1678, acc=66.21%, lr=0.100000]\n",
      "Epoch 22/200 [Test]: 100%|██████████| 79/79 [00:01<00:00, 57.45it/s, loss=2.0002, acc=50.07%]\n"
     ]
    },
    {
     "name": "stdout",
     "output_type": "stream",
     "text": [
      "Checkpoint saved! New best accuracy: 50.07%\n",
      "Epoch: 22/200 | Train Loss: 1.1678 | Train Acc: 66.21% | Test Loss: 2.0002 | Test Acc: 50.07%\n"
     ]
    },
    {
     "name": "stderr",
     "output_type": "stream",
     "text": [
      "Epoch 23/200 [Train]: 100%|██████████| 391/391 [00:09<00:00, 42.44it/s, loss=1.1102, acc=67.57%, lr=0.100000]\n",
      "Epoch 23/200 [Test]: 100%|██████████| 79/79 [00:01<00:00, 64.06it/s, loss=2.0588, acc=48.62%]\n"
     ]
    },
    {
     "name": "stdout",
     "output_type": "stream",
     "text": [
      "Epoch: 23/200 | Train Loss: 1.1102 | Train Acc: 67.57% | Test Loss: 2.0588 | Test Acc: 48.62%\n"
     ]
    },
    {
     "name": "stderr",
     "output_type": "stream",
     "text": [
      "Epoch 24/200 [Train]: 100%|██████████| 391/391 [00:09<00:00, 43.03it/s, loss=1.0579, acc=68.83%, lr=0.100000]\n",
      "Epoch 24/200 [Test]: 100%|██████████| 79/79 [00:01<00:00, 60.78it/s, loss=2.0097, acc=49.67%]\n"
     ]
    },
    {
     "name": "stdout",
     "output_type": "stream",
     "text": [
      "Epoch: 24/200 | Train Loss: 1.0579 | Train Acc: 68.83% | Test Loss: 2.0097 | Test Acc: 49.67%\n"
     ]
    },
    {
     "name": "stderr",
     "output_type": "stream",
     "text": [
      "Epoch 25/200 [Train]: 100%|██████████| 391/391 [00:09<00:00, 43.27it/s, loss=0.9998, acc=70.40%, lr=0.100000]\n",
      "Epoch 25/200 [Test]: 100%|██████████| 79/79 [00:01<00:00, 57.66it/s, loss=2.0327, acc=50.14%]\n"
     ]
    },
    {
     "name": "stdout",
     "output_type": "stream",
     "text": [
      "Checkpoint saved! New best accuracy: 50.14%\n",
      "Epoch: 25/200 | Train Loss: 0.9998 | Train Acc: 70.40% | Test Loss: 2.0327 | Test Acc: 50.14%\n"
     ]
    },
    {
     "name": "stderr",
     "output_type": "stream",
     "text": [
      "Epoch 26/200 [Train]: 100%|██████████| 391/391 [00:08<00:00, 44.03it/s, loss=0.9630, acc=71.31%, lr=0.100000]\n",
      "Epoch 26/200 [Test]: 100%|██████████| 79/79 [00:01<00:00, 59.82it/s, loss=2.0934, acc=49.21%]\n"
     ]
    },
    {
     "name": "stdout",
     "output_type": "stream",
     "text": [
      "Epoch: 26/200 | Train Loss: 0.9630 | Train Acc: 71.31% | Test Loss: 2.0934 | Test Acc: 49.21%\n"
     ]
    },
    {
     "name": "stderr",
     "output_type": "stream",
     "text": [
      "Epoch 27/200 [Train]: 100%|██████████| 391/391 [00:09<00:00, 42.78it/s, loss=0.9120, acc=72.64%, lr=0.100000]\n",
      "Epoch 27/200 [Test]: 100%|██████████| 79/79 [00:01<00:00, 55.32it/s, loss=2.0049, acc=51.32%]\n"
     ]
    },
    {
     "name": "stdout",
     "output_type": "stream",
     "text": [
      "Checkpoint saved! New best accuracy: 51.32%\n",
      "Epoch: 27/200 | Train Loss: 0.9120 | Train Acc: 72.64% | Test Loss: 2.0049 | Test Acc: 51.32%\n"
     ]
    },
    {
     "name": "stderr",
     "output_type": "stream",
     "text": [
      "Epoch 28/200 [Train]: 100%|██████████| 391/391 [00:08<00:00, 43.74it/s, loss=0.8715, acc=73.88%, lr=0.100000]\n",
      "Epoch 28/200 [Test]: 100%|██████████| 79/79 [00:01<00:00, 62.72it/s, loss=2.2074, acc=49.22%]\n"
     ]
    },
    {
     "name": "stdout",
     "output_type": "stream",
     "text": [
      "Epoch: 28/200 | Train Loss: 0.8715 | Train Acc: 73.88% | Test Loss: 2.2074 | Test Acc: 49.22%\n"
     ]
    },
    {
     "name": "stderr",
     "output_type": "stream",
     "text": [
      "Epoch 29/200 [Train]: 100%|██████████| 391/391 [00:09<00:00, 42.77it/s, loss=0.8241, acc=74.99%, lr=0.100000]\n",
      "Epoch 29/200 [Test]: 100%|██████████| 79/79 [00:00<00:00, 87.86it/s, loss=2.0826, acc=50.87%] \n"
     ]
    },
    {
     "name": "stdout",
     "output_type": "stream",
     "text": [
      "Epoch: 29/200 | Train Loss: 0.8241 | Train Acc: 74.99% | Test Loss: 2.0826 | Test Acc: 50.87%\n"
     ]
    },
    {
     "name": "stderr",
     "output_type": "stream",
     "text": [
      "Epoch 30/200 [Train]: 100%|██████████| 391/391 [00:08<00:00, 43.92it/s, loss=0.7709, acc=76.45%, lr=0.100000]\n",
      "Epoch 30/200 [Test]: 100%|██████████| 79/79 [00:01<00:00, 65.66it/s, loss=2.0797, acc=51.39%]\n"
     ]
    },
    {
     "name": "stdout",
     "output_type": "stream",
     "text": [
      "Checkpoint saved! New best accuracy: 51.39%\n",
      "Epoch: 30/200 | Train Loss: 0.7709 | Train Acc: 76.45% | Test Loss: 2.0797 | Test Acc: 51.39%\n"
     ]
    },
    {
     "name": "stderr",
     "output_type": "stream",
     "text": [
      "Epoch 31/200 [Train]: 100%|██████████| 391/391 [00:09<00:00, 42.66it/s, loss=0.7329, acc=77.57%, lr=0.100000]\n",
      "Epoch 31/200 [Test]: 100%|██████████| 79/79 [00:01<00:00, 69.64it/s, loss=2.2209, acc=49.53%]\n"
     ]
    },
    {
     "name": "stdout",
     "output_type": "stream",
     "text": [
      "Epoch: 31/200 | Train Loss: 0.7329 | Train Acc: 77.57% | Test Loss: 2.2209 | Test Acc: 49.53%\n"
     ]
    },
    {
     "name": "stderr",
     "output_type": "stream",
     "text": [
      "Epoch 32/200 [Train]: 100%|██████████| 391/391 [00:08<00:00, 43.58it/s, loss=0.7113, acc=78.24%, lr=0.100000]\n",
      "Epoch 32/200 [Test]: 100%|██████████| 79/79 [00:01<00:00, 59.34it/s, loss=2.3043, acc=48.63%]\n"
     ]
    },
    {
     "name": "stdout",
     "output_type": "stream",
     "text": [
      "Epoch: 32/200 | Train Loss: 0.7113 | Train Acc: 78.24% | Test Loss: 2.3043 | Test Acc: 48.63%\n"
     ]
    },
    {
     "name": "stderr",
     "output_type": "stream",
     "text": [
      "Epoch 33/200 [Train]: 100%|██████████| 391/391 [00:09<00:00, 43.31it/s, loss=0.6687, acc=79.39%, lr=0.100000]\n",
      "Epoch 33/200 [Test]: 100%|██████████| 79/79 [00:01<00:00, 69.41it/s, loss=2.1528, acc=51.70%]\n"
     ]
    },
    {
     "name": "stdout",
     "output_type": "stream",
     "text": [
      "Checkpoint saved! New best accuracy: 51.70%\n",
      "Epoch: 33/200 | Train Loss: 0.6687 | Train Acc: 79.39% | Test Loss: 2.1528 | Test Acc: 51.70%\n"
     ]
    },
    {
     "name": "stderr",
     "output_type": "stream",
     "text": [
      "Epoch 34/200 [Train]: 100%|██████████| 391/391 [00:09<00:00, 42.71it/s, loss=0.6311, acc=80.55%, lr=0.100000]\n",
      "Epoch 34/200 [Test]: 100%|██████████| 79/79 [00:01<00:00, 71.72it/s, loss=2.2134, acc=51.21%] \n"
     ]
    },
    {
     "name": "stdout",
     "output_type": "stream",
     "text": [
      "Epoch: 34/200 | Train Loss: 0.6311 | Train Acc: 80.55% | Test Loss: 2.2134 | Test Acc: 51.21%\n"
     ]
    },
    {
     "name": "stderr",
     "output_type": "stream",
     "text": [
      "Epoch 35/200 [Train]: 100%|██████████| 391/391 [00:09<00:00, 41.96it/s, loss=0.5930, acc=81.62%, lr=0.100000]\n",
      "Epoch 35/200 [Test]: 100%|██████████| 79/79 [00:01<00:00, 69.99it/s, loss=2.2130, acc=51.28%]\n"
     ]
    },
    {
     "name": "stdout",
     "output_type": "stream",
     "text": [
      "Epoch: 35/200 | Train Loss: 0.5930 | Train Acc: 81.62% | Test Loss: 2.2130 | Test Acc: 51.28%\n"
     ]
    },
    {
     "name": "stderr",
     "output_type": "stream",
     "text": [
      "Epoch 36/200 [Train]: 100%|██████████| 391/391 [00:08<00:00, 43.86it/s, loss=0.5742, acc=82.20%, lr=0.100000]\n",
      "Epoch 36/200 [Test]: 100%|██████████| 79/79 [00:00<00:00, 90.58it/s, loss=2.1720, acc=51.75%] \n"
     ]
    },
    {
     "name": "stdout",
     "output_type": "stream",
     "text": [
      "Checkpoint saved! New best accuracy: 51.75%\n",
      "Epoch: 36/200 | Train Loss: 0.5742 | Train Acc: 82.20% | Test Loss: 2.1720 | Test Acc: 51.75%\n"
     ]
    },
    {
     "name": "stderr",
     "output_type": "stream",
     "text": [
      "Epoch 37/200 [Train]: 100%|██████████| 391/391 [00:09<00:00, 42.35it/s, loss=0.5407, acc=82.87%, lr=0.100000]\n",
      "Epoch 37/200 [Test]: 100%|██████████| 79/79 [00:01<00:00, 65.52it/s, loss=2.1767, acc=52.84%]\n"
     ]
    },
    {
     "name": "stdout",
     "output_type": "stream",
     "text": [
      "Checkpoint saved! New best accuracy: 52.84%\n",
      "Epoch: 37/200 | Train Loss: 0.5407 | Train Acc: 82.87% | Test Loss: 2.1767 | Test Acc: 52.84%\n"
     ]
    },
    {
     "name": "stderr",
     "output_type": "stream",
     "text": [
      "Epoch 38/200 [Train]: 100%|██████████| 391/391 [00:08<00:00, 43.86it/s, loss=0.5225, acc=83.45%, lr=0.100000]\n",
      "Epoch 38/200 [Test]: 100%|██████████| 79/79 [00:01<00:00, 54.38it/s, loss=2.2669, acc=51.25%]\n"
     ]
    },
    {
     "name": "stdout",
     "output_type": "stream",
     "text": [
      "Epoch: 38/200 | Train Loss: 0.5225 | Train Acc: 83.45% | Test Loss: 2.2669 | Test Acc: 51.25%\n"
     ]
    },
    {
     "name": "stderr",
     "output_type": "stream",
     "text": [
      "Epoch 39/200 [Train]: 100%|██████████| 391/391 [00:09<00:00, 43.13it/s, loss=0.4903, acc=84.59%, lr=0.100000]\n",
      "Epoch 39/200 [Test]: 100%|██████████| 79/79 [00:01<00:00, 64.07it/s, loss=2.3377, acc=51.06%]\n"
     ]
    },
    {
     "name": "stdout",
     "output_type": "stream",
     "text": [
      "Epoch: 39/200 | Train Loss: 0.4903 | Train Acc: 84.59% | Test Loss: 2.3377 | Test Acc: 51.06%\n"
     ]
    },
    {
     "name": "stderr",
     "output_type": "stream",
     "text": [
      "Epoch 40/200 [Train]: 100%|██████████| 391/391 [00:09<00:00, 43.39it/s, loss=0.4742, acc=85.02%, lr=0.100000]\n",
      "Epoch 40/200 [Test]: 100%|██████████| 79/79 [00:01<00:00, 54.82it/s, loss=2.2827, acc=51.69%]\n"
     ]
    },
    {
     "name": "stdout",
     "output_type": "stream",
     "text": [
      "Epoch: 40/200 | Train Loss: 0.4742 | Train Acc: 85.02% | Test Loss: 2.2827 | Test Acc: 51.69%\n"
     ]
    },
    {
     "name": "stderr",
     "output_type": "stream",
     "text": [
      "Epoch 41/200 [Train]: 100%|██████████| 391/391 [00:08<00:00, 44.40it/s, loss=0.4494, acc=85.65%, lr=0.100000]\n",
      "Epoch 41/200 [Test]: 100%|██████████| 79/79 [00:01<00:00, 54.41it/s, loss=2.3993, acc=50.63%]\n"
     ]
    },
    {
     "name": "stdout",
     "output_type": "stream",
     "text": [
      "Epoch: 41/200 | Train Loss: 0.4494 | Train Acc: 85.65% | Test Loss: 2.3993 | Test Acc: 50.63%\n"
     ]
    },
    {
     "name": "stderr",
     "output_type": "stream",
     "text": [
      "Epoch 42/200 [Train]: 100%|██████████| 391/391 [00:09<00:00, 42.73it/s, loss=0.4495, acc=85.70%, lr=0.100000]\n",
      "Epoch 42/200 [Test]: 100%|██████████| 79/79 [00:01<00:00, 61.05it/s, loss=2.4015, acc=50.96%]\n"
     ]
    },
    {
     "name": "stdout",
     "output_type": "stream",
     "text": [
      "Epoch: 42/200 | Train Loss: 0.4495 | Train Acc: 85.70% | Test Loss: 2.4015 | Test Acc: 50.96%\n"
     ]
    },
    {
     "name": "stderr",
     "output_type": "stream",
     "text": [
      "Epoch 43/200 [Train]: 100%|██████████| 391/391 [00:08<00:00, 43.61it/s, loss=0.4153, acc=86.81%, lr=0.100000]\n",
      "Epoch 43/200 [Test]: 100%|██████████| 79/79 [00:01<00:00, 55.33it/s, loss=2.4142, acc=50.78%]\n"
     ]
    },
    {
     "name": "stdout",
     "output_type": "stream",
     "text": [
      "Epoch: 43/200 | Train Loss: 0.4153 | Train Acc: 86.81% | Test Loss: 2.4142 | Test Acc: 50.78%\n"
     ]
    },
    {
     "name": "stderr",
     "output_type": "stream",
     "text": [
      "Epoch 44/200 [Train]: 100%|██████████| 391/391 [00:09<00:00, 43.34it/s, loss=0.3973, acc=87.43%, lr=0.100000]\n",
      "Epoch 44/200 [Test]: 100%|██████████| 79/79 [00:01<00:00, 52.62it/s, loss=2.4488, acc=50.64%]\n"
     ]
    },
    {
     "name": "stdout",
     "output_type": "stream",
     "text": [
      "Epoch: 44/200 | Train Loss: 0.3973 | Train Acc: 87.43% | Test Loss: 2.4488 | Test Acc: 50.64%\n"
     ]
    },
    {
     "name": "stderr",
     "output_type": "stream",
     "text": [
      "Epoch 45/200 [Train]: 100%|██████████| 391/391 [00:08<00:00, 43.97it/s, loss=0.3905, acc=87.59%, lr=0.100000]\n",
      "Epoch 45/200 [Test]: 100%|██████████| 79/79 [00:01<00:00, 64.33it/s, loss=2.3809, acc=51.73%]\n"
     ]
    },
    {
     "name": "stdout",
     "output_type": "stream",
     "text": [
      "Epoch: 45/200 | Train Loss: 0.3905 | Train Acc: 87.59% | Test Loss: 2.3809 | Test Acc: 51.73%\n"
     ]
    },
    {
     "name": "stderr",
     "output_type": "stream",
     "text": [
      "Epoch 46/200 [Train]: 100%|██████████| 391/391 [00:09<00:00, 42.87it/s, loss=0.3739, acc=87.98%, lr=0.100000]\n",
      "Epoch 46/200 [Test]: 100%|██████████| 79/79 [00:01<00:00, 63.55it/s, loss=2.5537, acc=50.54%]\n"
     ]
    },
    {
     "name": "stdout",
     "output_type": "stream",
     "text": [
      "Epoch: 46/200 | Train Loss: 0.3739 | Train Acc: 87.98% | Test Loss: 2.5537 | Test Acc: 50.54%\n"
     ]
    },
    {
     "name": "stderr",
     "output_type": "stream",
     "text": [
      "Epoch 47/200 [Train]: 100%|██████████| 391/391 [00:08<00:00, 44.26it/s, loss=0.3745, acc=88.13%, lr=0.100000]\n",
      "Epoch 47/200 [Test]: 100%|██████████| 79/79 [00:01<00:00, 70.23it/s, loss=2.5207, acc=50.74%] \n"
     ]
    },
    {
     "name": "stdout",
     "output_type": "stream",
     "text": [
      "Epoch: 47/200 | Train Loss: 0.3745 | Train Acc: 88.13% | Test Loss: 2.5207 | Test Acc: 50.74%\n"
     ]
    },
    {
     "name": "stderr",
     "output_type": "stream",
     "text": [
      "Epoch 48/200 [Train]: 100%|██████████| 391/391 [00:09<00:00, 42.36it/s, loss=0.3637, acc=88.47%, lr=0.100000]\n",
      "Epoch 48/200 [Test]: 100%|██████████| 79/79 [00:00<00:00, 92.40it/s, loss=2.6354, acc=49.08%] \n"
     ]
    },
    {
     "name": "stdout",
     "output_type": "stream",
     "text": [
      "Epoch: 48/200 | Train Loss: 0.3637 | Train Acc: 88.47% | Test Loss: 2.6354 | Test Acc: 49.08%\n"
     ]
    },
    {
     "name": "stderr",
     "output_type": "stream",
     "text": [
      "Epoch 49/200 [Train]: 100%|██████████| 391/391 [00:09<00:00, 43.37it/s, loss=0.3498, acc=89.00%, lr=0.100000]\n",
      "Epoch 49/200 [Test]: 100%|██████████| 79/79 [00:01<00:00, 63.04it/s, loss=2.5884, acc=50.08%]\n"
     ]
    },
    {
     "name": "stdout",
     "output_type": "stream",
     "text": [
      "Epoch: 49/200 | Train Loss: 0.3498 | Train Acc: 89.00% | Test Loss: 2.5884 | Test Acc: 50.08%\n"
     ]
    },
    {
     "name": "stderr",
     "output_type": "stream",
     "text": [
      "Epoch 50/200 [Train]: 100%|██████████| 391/391 [00:09<00:00, 42.89it/s, loss=0.3459, acc=89.12%, lr=0.100000]\n",
      "Epoch 50/200 [Test]: 100%|██████████| 79/79 [00:00<00:00, 85.51it/s, loss=2.5021, acc=51.33%] \n"
     ]
    },
    {
     "name": "stdout",
     "output_type": "stream",
     "text": [
      "Epoch: 50/200 | Train Loss: 0.3459 | Train Acc: 89.12% | Test Loss: 2.5021 | Test Acc: 51.33%\n"
     ]
    },
    {
     "name": "stderr",
     "output_type": "stream",
     "text": [
      "Epoch 51/200 [Train]: 100%|██████████| 391/391 [00:09<00:00, 43.16it/s, loss=0.3233, acc=89.81%, lr=0.100000]\n",
      "Epoch 51/200 [Test]: 100%|██████████| 79/79 [00:01<00:00, 59.61it/s, loss=2.4280, acc=52.04%]\n"
     ]
    },
    {
     "name": "stdout",
     "output_type": "stream",
     "text": [
      "Epoch: 51/200 | Train Loss: 0.3233 | Train Acc: 89.81% | Test Loss: 2.4280 | Test Acc: 52.04%\n"
     ]
    },
    {
     "name": "stderr",
     "output_type": "stream",
     "text": [
      "Epoch 52/200 [Train]: 100%|██████████| 391/391 [00:09<00:00, 42.16it/s, loss=0.3285, acc=89.71%, lr=0.100000]\n",
      "Epoch 52/200 [Test]: 100%|██████████| 79/79 [00:01<00:00, 76.36it/s, loss=2.4054, acc=52.00%] \n"
     ]
    },
    {
     "name": "stdout",
     "output_type": "stream",
     "text": [
      "Epoch: 52/200 | Train Loss: 0.3285 | Train Acc: 89.71% | Test Loss: 2.4054 | Test Acc: 52.00%\n"
     ]
    },
    {
     "name": "stderr",
     "output_type": "stream",
     "text": [
      "Epoch 53/200 [Train]: 100%|██████████| 391/391 [00:09<00:00, 42.67it/s, loss=0.3262, acc=89.77%, lr=0.100000]\n",
      "Epoch 53/200 [Test]: 100%|██████████| 79/79 [00:00<00:00, 89.93it/s, loss=2.4166, acc=52.25%] \n"
     ]
    },
    {
     "name": "stdout",
     "output_type": "stream",
     "text": [
      "Epoch: 53/200 | Train Loss: 0.3262 | Train Acc: 89.77% | Test Loss: 2.4166 | Test Acc: 52.25%\n"
     ]
    },
    {
     "name": "stderr",
     "output_type": "stream",
     "text": [
      "Epoch 54/200 [Train]: 100%|██████████| 391/391 [00:09<00:00, 42.24it/s, loss=0.3151, acc=90.02%, lr=0.100000]\n",
      "Epoch 54/200 [Test]: 100%|██████████| 79/79 [00:01<00:00, 68.68it/s, loss=2.5426, acc=50.73%]\n"
     ]
    },
    {
     "name": "stdout",
     "output_type": "stream",
     "text": [
      "Epoch: 54/200 | Train Loss: 0.3151 | Train Acc: 90.02% | Test Loss: 2.5426 | Test Acc: 50.73%\n"
     ]
    },
    {
     "name": "stderr",
     "output_type": "stream",
     "text": [
      "Epoch 55/200 [Train]: 100%|██████████| 391/391 [00:09<00:00, 42.10it/s, loss=0.3158, acc=90.12%, lr=0.100000]\n",
      "Epoch 55/200 [Test]: 100%|██████████| 79/79 [00:01<00:00, 57.66it/s, loss=2.6362, acc=48.89%]\n"
     ]
    },
    {
     "name": "stdout",
     "output_type": "stream",
     "text": [
      "Epoch: 55/200 | Train Loss: 0.3158 | Train Acc: 90.12% | Test Loss: 2.6362 | Test Acc: 48.89%\n"
     ]
    },
    {
     "name": "stderr",
     "output_type": "stream",
     "text": [
      "Epoch 56/200 [Train]: 100%|██████████| 391/391 [00:09<00:00, 40.79it/s, loss=0.3124, acc=90.19%, lr=0.100000]\n",
      "Epoch 56/200 [Test]: 100%|██████████| 79/79 [00:01<00:00, 58.50it/s, loss=2.4423, acc=51.29%]\n"
     ]
    },
    {
     "name": "stdout",
     "output_type": "stream",
     "text": [
      "Epoch: 56/200 | Train Loss: 0.3124 | Train Acc: 90.19% | Test Loss: 2.4423 | Test Acc: 51.29%\n"
     ]
    },
    {
     "name": "stderr",
     "output_type": "stream",
     "text": [
      "Epoch 57/200 [Train]: 100%|██████████| 391/391 [00:09<00:00, 41.13it/s, loss=0.3088, acc=90.12%, lr=0.100000]\n",
      "Epoch 57/200 [Test]: 100%|██████████| 79/79 [00:00<00:00, 91.97it/s, loss=2.4306, acc=52.05%] \n"
     ]
    },
    {
     "name": "stdout",
     "output_type": "stream",
     "text": [
      "Epoch: 57/200 | Train Loss: 0.3088 | Train Acc: 90.12% | Test Loss: 2.4306 | Test Acc: 52.05%\n"
     ]
    },
    {
     "name": "stderr",
     "output_type": "stream",
     "text": [
      "Epoch 58/200 [Train]: 100%|██████████| 391/391 [00:09<00:00, 41.22it/s, loss=0.2878, acc=90.93%, lr=0.100000]\n",
      "Epoch 58/200 [Test]: 100%|██████████| 79/79 [00:01<00:00, 64.13it/s, loss=2.6545, acc=50.18%]\n"
     ]
    },
    {
     "name": "stdout",
     "output_type": "stream",
     "text": [
      "Epoch: 58/200 | Train Loss: 0.2878 | Train Acc: 90.93% | Test Loss: 2.6545 | Test Acc: 50.18%\n"
     ]
    },
    {
     "name": "stderr",
     "output_type": "stream",
     "text": [
      "Epoch 59/200 [Train]: 100%|██████████| 391/391 [00:09<00:00, 43.06it/s, loss=0.2883, acc=90.95%, lr=0.100000]\n",
      "Epoch 59/200 [Test]: 100%|██████████| 79/79 [00:01<00:00, 56.49it/s, loss=2.6146, acc=50.24%]\n"
     ]
    },
    {
     "name": "stdout",
     "output_type": "stream",
     "text": [
      "Epoch: 59/200 | Train Loss: 0.2883 | Train Acc: 90.95% | Test Loss: 2.6146 | Test Acc: 50.24%\n"
     ]
    },
    {
     "name": "stderr",
     "output_type": "stream",
     "text": [
      "Epoch 60/200 [Train]: 100%|██████████| 391/391 [00:09<00:00, 41.92it/s, loss=0.2897, acc=90.76%, lr=0.100000]\n",
      "Epoch 60/200 [Test]: 100%|██████████| 79/79 [00:01<00:00, 67.26it/s, loss=2.4924, acc=50.58%]\n"
     ]
    },
    {
     "name": "stdout",
     "output_type": "stream",
     "text": [
      "Epoch: 60/200 | Train Loss: 0.2897 | Train Acc: 90.76% | Test Loss: 2.4924 | Test Acc: 50.58%\n"
     ]
    },
    {
     "name": "stderr",
     "output_type": "stream",
     "text": [
      "Epoch 61/200 [Train]: 100%|██████████| 391/391 [00:09<00:00, 42.78it/s, loss=0.2966, acc=90.65%, lr=0.100000]\n",
      "Epoch 61/200 [Test]: 100%|██████████| 79/79 [00:01<00:00, 60.52it/s, loss=2.4710, acc=52.71%]\n"
     ]
    },
    {
     "name": "stdout",
     "output_type": "stream",
     "text": [
      "Epoch: 61/200 | Train Loss: 0.2966 | Train Acc: 90.65% | Test Loss: 2.4710 | Test Acc: 52.71%\n"
     ]
    },
    {
     "name": "stderr",
     "output_type": "stream",
     "text": [
      "Epoch 62/200 [Train]: 100%|██████████| 391/391 [00:09<00:00, 43.24it/s, loss=0.2854, acc=91.01%, lr=0.100000]\n",
      "Epoch 62/200 [Test]: 100%|██████████| 79/79 [00:01<00:00, 64.70it/s, loss=2.5402, acc=50.96%]\n"
     ]
    },
    {
     "name": "stdout",
     "output_type": "stream",
     "text": [
      "Epoch: 62/200 | Train Loss: 0.2854 | Train Acc: 91.01% | Test Loss: 2.5402 | Test Acc: 50.96%\n"
     ]
    },
    {
     "name": "stderr",
     "output_type": "stream",
     "text": [
      "Epoch 63/200 [Train]: 100%|██████████| 391/391 [00:09<00:00, 42.36it/s, loss=0.2760, acc=91.38%, lr=0.100000]\n",
      "Epoch 63/200 [Test]: 100%|██████████| 79/79 [00:01<00:00, 57.33it/s, loss=2.5315, acc=51.43%]\n"
     ]
    },
    {
     "name": "stdout",
     "output_type": "stream",
     "text": [
      "Epoch: 63/200 | Train Loss: 0.2760 | Train Acc: 91.38% | Test Loss: 2.5315 | Test Acc: 51.43%\n"
     ]
    },
    {
     "name": "stderr",
     "output_type": "stream",
     "text": [
      "Epoch 64/200 [Train]: 100%|██████████| 391/391 [00:09<00:00, 43.33it/s, loss=0.2824, acc=91.29%, lr=0.100000]\n",
      "Epoch 64/200 [Test]: 100%|██████████| 79/79 [00:02<00:00, 39.08it/s, loss=2.4919, acc=51.85%]\n"
     ]
    },
    {
     "name": "stdout",
     "output_type": "stream",
     "text": [
      "Epoch: 64/200 | Train Loss: 0.2824 | Train Acc: 91.29% | Test Loss: 2.4919 | Test Acc: 51.85%\n"
     ]
    },
    {
     "name": "stderr",
     "output_type": "stream",
     "text": [
      "Epoch 65/200 [Train]: 100%|██████████| 391/391 [00:10<00:00, 37.85it/s, loss=0.2698, acc=91.49%, lr=0.100000]\n",
      "Epoch 65/200 [Test]: 100%|██████████| 79/79 [00:01<00:00, 46.18it/s, loss=2.5967, acc=50.21%]\n"
     ]
    },
    {
     "name": "stdout",
     "output_type": "stream",
     "text": [
      "Epoch: 65/200 | Train Loss: 0.2698 | Train Acc: 91.49% | Test Loss: 2.5967 | Test Acc: 50.21%\n"
     ]
    },
    {
     "name": "stderr",
     "output_type": "stream",
     "text": [
      "Epoch 66/200 [Train]: 100%|██████████| 391/391 [00:09<00:00, 41.89it/s, loss=0.2685, acc=91.62%, lr=0.100000]\n",
      "Epoch 66/200 [Test]: 100%|██████████| 79/79 [00:01<00:00, 61.98it/s, loss=2.4726, acc=51.92%]\n"
     ]
    },
    {
     "name": "stdout",
     "output_type": "stream",
     "text": [
      "Epoch: 66/200 | Train Loss: 0.2685 | Train Acc: 91.62% | Test Loss: 2.4726 | Test Acc: 51.92%\n"
     ]
    },
    {
     "name": "stderr",
     "output_type": "stream",
     "text": [
      "Epoch 67/200 [Train]: 100%|██████████| 391/391 [00:09<00:00, 43.13it/s, loss=0.2680, acc=91.68%, lr=0.100000]\n",
      "Epoch 67/200 [Test]: 100%|██████████| 79/79 [00:01<00:00, 57.13it/s, loss=2.4860, acc=51.53%]\n"
     ]
    },
    {
     "name": "stdout",
     "output_type": "stream",
     "text": [
      "Epoch: 67/200 | Train Loss: 0.2680 | Train Acc: 91.68% | Test Loss: 2.4860 | Test Acc: 51.53%\n"
     ]
    },
    {
     "name": "stderr",
     "output_type": "stream",
     "text": [
      "Epoch 68/200 [Train]: 100%|██████████| 391/391 [00:08<00:00, 44.87it/s, loss=0.2725, acc=91.42%, lr=0.100000]\n",
      "Epoch 68/200 [Test]: 100%|██████████| 79/79 [00:01<00:00, 69.07it/s, loss=2.5968, acc=50.65%]\n"
     ]
    },
    {
     "name": "stdout",
     "output_type": "stream",
     "text": [
      "Epoch: 68/200 | Train Loss: 0.2725 | Train Acc: 91.42% | Test Loss: 2.5968 | Test Acc: 50.65%\n"
     ]
    },
    {
     "name": "stderr",
     "output_type": "stream",
     "text": [
      "Epoch 69/200 [Train]: 100%|██████████| 391/391 [00:09<00:00, 41.79it/s, loss=0.2845, acc=91.09%, lr=0.100000]\n",
      "Epoch 69/200 [Test]: 100%|██████████| 79/79 [00:00<00:00, 81.76it/s, loss=2.6440, acc=50.27%] \n"
     ]
    },
    {
     "name": "stdout",
     "output_type": "stream",
     "text": [
      "Epoch: 69/200 | Train Loss: 0.2845 | Train Acc: 91.09% | Test Loss: 2.6440 | Test Acc: 50.27%\n"
     ]
    },
    {
     "name": "stderr",
     "output_type": "stream",
     "text": [
      "Epoch 70/200 [Train]: 100%|██████████| 391/391 [00:09<00:00, 43.29it/s, loss=0.2675, acc=91.72%, lr=0.100000]\n",
      "Epoch 70/200 [Test]: 100%|██████████| 79/79 [00:00<00:00, 79.93it/s, loss=2.6533, acc=50.40%] \n"
     ]
    },
    {
     "name": "stdout",
     "output_type": "stream",
     "text": [
      "Epoch: 70/200 | Train Loss: 0.2675 | Train Acc: 91.72% | Test Loss: 2.6533 | Test Acc: 50.40%\n"
     ]
    },
    {
     "name": "stderr",
     "output_type": "stream",
     "text": [
      "Epoch 71/200 [Train]: 100%|██████████| 391/391 [00:08<00:00, 43.51it/s, loss=0.2690, acc=91.57%, lr=0.100000]\n",
      "Epoch 71/200 [Test]: 100%|██████████| 79/79 [00:00<00:00, 90.37it/s, loss=2.5542, acc=50.56%] \n"
     ]
    },
    {
     "name": "stdout",
     "output_type": "stream",
     "text": [
      "Epoch: 71/200 | Train Loss: 0.2690 | Train Acc: 91.57% | Test Loss: 2.5542 | Test Acc: 50.56%\n"
     ]
    },
    {
     "name": "stderr",
     "output_type": "stream",
     "text": [
      "Epoch 72/200 [Train]: 100%|██████████| 391/391 [00:08<00:00, 45.21it/s, loss=0.2583, acc=91.95%, lr=0.100000]\n",
      "Epoch 72/200 [Test]: 100%|██████████| 79/79 [00:00<00:00, 83.60it/s, loss=2.5136, acc=51.61%] \n"
     ]
    },
    {
     "name": "stdout",
     "output_type": "stream",
     "text": [
      "Epoch: 72/200 | Train Loss: 0.2583 | Train Acc: 91.95% | Test Loss: 2.5136 | Test Acc: 51.61%\n"
     ]
    },
    {
     "name": "stderr",
     "output_type": "stream",
     "text": [
      "Epoch 73/200 [Train]: 100%|██████████| 391/391 [00:09<00:00, 43.25it/s, loss=0.2797, acc=91.25%, lr=0.100000]\n",
      "Epoch 73/200 [Test]: 100%|██████████| 79/79 [00:00<00:00, 80.82it/s, loss=2.4814, acc=52.00%] \n"
     ]
    },
    {
     "name": "stdout",
     "output_type": "stream",
     "text": [
      "Epoch: 73/200 | Train Loss: 0.2797 | Train Acc: 91.25% | Test Loss: 2.4814 | Test Acc: 52.00%\n"
     ]
    },
    {
     "name": "stderr",
     "output_type": "stream",
     "text": [
      "Epoch 74/200 [Train]: 100%|██████████| 391/391 [00:08<00:00, 44.22it/s, loss=0.2598, acc=91.96%, lr=0.100000]\n",
      "Epoch 74/200 [Test]: 100%|██████████| 79/79 [00:01<00:00, 73.98it/s, loss=2.5277, acc=51.79%] \n"
     ]
    },
    {
     "name": "stdout",
     "output_type": "stream",
     "text": [
      "Epoch: 74/200 | Train Loss: 0.2598 | Train Acc: 91.96% | Test Loss: 2.5277 | Test Acc: 51.79%\n"
     ]
    },
    {
     "name": "stderr",
     "output_type": "stream",
     "text": [
      "Epoch 75/200 [Train]: 100%|██████████| 391/391 [00:09<00:00, 41.88it/s, loss=0.2534, acc=92.00%, lr=0.100000]\n",
      "Epoch 75/200 [Test]: 100%|██████████| 79/79 [00:00<00:00, 87.10it/s, loss=2.5230, acc=51.33%] \n"
     ]
    },
    {
     "name": "stdout",
     "output_type": "stream",
     "text": [
      "Epoch: 75/200 | Train Loss: 0.2534 | Train Acc: 92.00% | Test Loss: 2.5230 | Test Acc: 51.33%\n"
     ]
    },
    {
     "name": "stderr",
     "output_type": "stream",
     "text": [
      "Epoch 76/200 [Train]: 100%|██████████| 391/391 [00:08<00:00, 44.44it/s, loss=0.2543, acc=91.98%, lr=0.100000]\n",
      "Epoch 76/200 [Test]: 100%|██████████| 79/79 [00:00<00:00, 79.00it/s, loss=2.4243, acc=52.33%] \n"
     ]
    },
    {
     "name": "stdout",
     "output_type": "stream",
     "text": [
      "Epoch: 76/200 | Train Loss: 0.2543 | Train Acc: 91.98% | Test Loss: 2.4243 | Test Acc: 52.33%\n"
     ]
    },
    {
     "name": "stderr",
     "output_type": "stream",
     "text": [
      "Epoch 77/200 [Train]: 100%|██████████| 391/391 [00:09<00:00, 42.68it/s, loss=0.2533, acc=92.00%, lr=0.100000]\n",
      "Epoch 77/200 [Test]: 100%|██████████| 79/79 [00:00<00:00, 83.98it/s, loss=2.5688, acc=51.50%] \n"
     ]
    },
    {
     "name": "stdout",
     "output_type": "stream",
     "text": [
      "Epoch: 77/200 | Train Loss: 0.2533 | Train Acc: 92.00% | Test Loss: 2.5688 | Test Acc: 51.50%\n"
     ]
    },
    {
     "name": "stderr",
     "output_type": "stream",
     "text": [
      "Epoch 78/200 [Train]: 100%|██████████| 391/391 [00:09<00:00, 43.24it/s, loss=0.2532, acc=92.24%, lr=0.100000]\n",
      "Epoch 78/200 [Test]: 100%|██████████| 79/79 [00:01<00:00, 77.38it/s, loss=2.5306, acc=51.63%]\n"
     ]
    },
    {
     "name": "stdout",
     "output_type": "stream",
     "text": [
      "Epoch: 78/200 | Train Loss: 0.2532 | Train Acc: 92.24% | Test Loss: 2.5306 | Test Acc: 51.63%\n"
     ]
    },
    {
     "name": "stderr",
     "output_type": "stream",
     "text": [
      "Epoch 79/200 [Train]: 100%|██████████| 391/391 [00:09<00:00, 42.26it/s, loss=0.2552, acc=91.97%, lr=0.100000]\n",
      "Epoch 79/200 [Test]: 100%|██████████| 79/79 [00:00<00:00, 86.48it/s, loss=2.6383, acc=49.93%] \n"
     ]
    },
    {
     "name": "stdout",
     "output_type": "stream",
     "text": [
      "Epoch: 79/200 | Train Loss: 0.2552 | Train Acc: 91.97% | Test Loss: 2.6383 | Test Acc: 49.93%\n"
     ]
    },
    {
     "name": "stderr",
     "output_type": "stream",
     "text": [
      "Epoch 80/200 [Train]: 100%|██████████| 391/391 [00:08<00:00, 44.42it/s, loss=0.2642, acc=91.64%, lr=0.100000]\n",
      "Epoch 80/200 [Test]: 100%|██████████| 79/79 [00:01<00:00, 67.85it/s, loss=2.5188, acc=52.32%]\n"
     ]
    },
    {
     "name": "stdout",
     "output_type": "stream",
     "text": [
      "Epoch: 80/200 | Train Loss: 0.2642 | Train Acc: 91.64% | Test Loss: 2.5188 | Test Acc: 52.32%\n"
     ]
    },
    {
     "name": "stderr",
     "output_type": "stream",
     "text": [
      "Epoch 81/200 [Train]: 100%|██████████| 391/391 [00:09<00:00, 42.59it/s, loss=0.0966, acc=97.37%, lr=0.010000]\n",
      "Epoch 81/200 [Test]: 100%|██████████| 79/79 [00:00<00:00, 90.97it/s, loss=2.1330, acc=57.25%] \n"
     ]
    },
    {
     "name": "stdout",
     "output_type": "stream",
     "text": [
      "Checkpoint saved! New best accuracy: 57.25%\n",
      "Epoch: 81/200 | Train Loss: 0.0966 | Train Acc: 97.37% | Test Loss: 2.1330 | Test Acc: 57.25%\n"
     ]
    },
    {
     "name": "stderr",
     "output_type": "stream",
     "text": [
      "Epoch 82/200 [Train]: 100%|██████████| 391/391 [00:09<00:00, 42.61it/s, loss=0.0462, acc=98.97%, lr=0.010000]\n",
      "Epoch 82/200 [Test]: 100%|██████████| 79/79 [00:01<00:00, 60.59it/s, loss=2.1132, acc=57.77%]\n"
     ]
    },
    {
     "name": "stdout",
     "output_type": "stream",
     "text": [
      "Checkpoint saved! New best accuracy: 57.77%\n",
      "Epoch: 82/200 | Train Loss: 0.0462 | Train Acc: 98.97% | Test Loss: 2.1132 | Test Acc: 57.77%\n"
     ]
    },
    {
     "name": "stderr",
     "output_type": "stream",
     "text": [
      "Epoch 83/200 [Train]: 100%|██████████| 391/391 [00:08<00:00, 44.24it/s, loss=0.0337, acc=99.35%, lr=0.010000]\n",
      "Epoch 83/200 [Test]: 100%|██████████| 79/79 [00:01<00:00, 65.32it/s, loss=2.0995, acc=58.12%]\n"
     ]
    },
    {
     "name": "stdout",
     "output_type": "stream",
     "text": [
      "Checkpoint saved! New best accuracy: 58.12%\n",
      "Epoch: 83/200 | Train Loss: 0.0337 | Train Acc: 99.35% | Test Loss: 2.0995 | Test Acc: 58.12%\n"
     ]
    },
    {
     "name": "stderr",
     "output_type": "stream",
     "text": [
      "Epoch 84/200 [Train]: 100%|██████████| 391/391 [00:08<00:00, 43.76it/s, loss=0.0270, acc=99.50%, lr=0.010000]\n",
      "Epoch 84/200 [Test]: 100%|██████████| 79/79 [00:01<00:00, 78.28it/s, loss=2.0912, acc=58.32%]\n"
     ]
    },
    {
     "name": "stdout",
     "output_type": "stream",
     "text": [
      "Checkpoint saved! New best accuracy: 58.32%\n",
      "Epoch: 84/200 | Train Loss: 0.0270 | Train Acc: 99.50% | Test Loss: 2.0912 | Test Acc: 58.32%\n"
     ]
    },
    {
     "name": "stderr",
     "output_type": "stream",
     "text": [
      "Epoch 85/200 [Train]: 100%|██████████| 391/391 [00:12<00:00, 31.00it/s, loss=0.0223, acc=99.67%, lr=0.010000]\n",
      "Epoch 85/200 [Test]: 100%|██████████| 79/79 [00:02<00:00, 34.24it/s, loss=2.0854, acc=58.65%]\n"
     ]
    },
    {
     "name": "stdout",
     "output_type": "stream",
     "text": [
      "Checkpoint saved! New best accuracy: 58.65%\n",
      "Epoch: 85/200 | Train Loss: 0.0223 | Train Acc: 99.67% | Test Loss: 2.0854 | Test Acc: 58.65%\n"
     ]
    },
    {
     "name": "stderr",
     "output_type": "stream",
     "text": [
      "Epoch 86/200 [Train]: 100%|██████████| 391/391 [00:12<00:00, 30.20it/s, loss=0.0201, acc=99.69%, lr=0.010000]\n",
      "Epoch 86/200 [Test]: 100%|██████████| 79/79 [00:01<00:00, 39.63it/s, loss=2.0820, acc=58.63%]\n"
     ]
    },
    {
     "name": "stdout",
     "output_type": "stream",
     "text": [
      "Epoch: 86/200 | Train Loss: 0.0201 | Train Acc: 99.69% | Test Loss: 2.0820 | Test Acc: 58.63%\n"
     ]
    },
    {
     "name": "stderr",
     "output_type": "stream",
     "text": [
      "Epoch 87/200 [Train]: 100%|██████████| 391/391 [00:10<00:00, 38.00it/s, loss=0.0187, acc=99.70%, lr=0.010000]\n",
      "Epoch 87/200 [Test]: 100%|██████████| 79/79 [00:01<00:00, 67.84it/s, loss=2.0734, acc=58.78%]\n"
     ]
    },
    {
     "name": "stdout",
     "output_type": "stream",
     "text": [
      "Checkpoint saved! New best accuracy: 58.78%\n",
      "Epoch: 87/200 | Train Loss: 0.0187 | Train Acc: 99.70% | Test Loss: 2.0734 | Test Acc: 58.78%\n"
     ]
    },
    {
     "name": "stderr",
     "output_type": "stream",
     "text": [
      "Epoch 88/200 [Train]: 100%|██████████| 391/391 [00:09<00:00, 42.72it/s, loss=0.0162, acc=99.80%, lr=0.010000]\n",
      "Epoch 88/200 [Test]: 100%|██████████| 79/79 [00:00<00:00, 84.40it/s, loss=2.0746, acc=58.91%] \n"
     ]
    },
    {
     "name": "stdout",
     "output_type": "stream",
     "text": [
      "Checkpoint saved! New best accuracy: 58.91%\n",
      "Epoch: 88/200 | Train Loss: 0.0162 | Train Acc: 99.80% | Test Loss: 2.0746 | Test Acc: 58.91%\n"
     ]
    },
    {
     "name": "stderr",
     "output_type": "stream",
     "text": [
      "Epoch 89/200 [Train]: 100%|██████████| 391/391 [00:08<00:00, 46.11it/s, loss=0.0150, acc=99.82%, lr=0.010000]\n",
      "Epoch 89/200 [Test]: 100%|██████████| 79/79 [00:01<00:00, 77.73it/s, loss=2.0712, acc=58.84%] \n"
     ]
    },
    {
     "name": "stdout",
     "output_type": "stream",
     "text": [
      "Epoch: 89/200 | Train Loss: 0.0150 | Train Acc: 99.82% | Test Loss: 2.0712 | Test Acc: 58.84%\n"
     ]
    },
    {
     "name": "stderr",
     "output_type": "stream",
     "text": [
      "Epoch 90/200 [Train]: 100%|██████████| 391/391 [00:08<00:00, 45.01it/s, loss=0.0141, acc=99.80%, lr=0.010000]\n",
      "Epoch 90/200 [Test]: 100%|██████████| 79/79 [00:01<00:00, 76.36it/s, loss=2.0650, acc=58.91%]\n"
     ]
    },
    {
     "name": "stdout",
     "output_type": "stream",
     "text": [
      "Epoch: 90/200 | Train Loss: 0.0141 | Train Acc: 99.80% | Test Loss: 2.0650 | Test Acc: 58.91%\n"
     ]
    },
    {
     "name": "stderr",
     "output_type": "stream",
     "text": [
      "Epoch 91/200 [Train]: 100%|██████████| 391/391 [00:08<00:00, 45.21it/s, loss=0.0135, acc=99.83%, lr=0.010000]\n",
      "Epoch 91/200 [Test]: 100%|██████████| 79/79 [00:01<00:00, 78.00it/s, loss=2.0668, acc=59.00%] \n"
     ]
    },
    {
     "name": "stdout",
     "output_type": "stream",
     "text": [
      "Checkpoint saved! New best accuracy: 59.00%\n",
      "Epoch: 91/200 | Train Loss: 0.0135 | Train Acc: 99.83% | Test Loss: 2.0668 | Test Acc: 59.00%\n"
     ]
    },
    {
     "name": "stderr",
     "output_type": "stream",
     "text": [
      "Epoch 92/200 [Train]: 100%|██████████| 391/391 [00:08<00:00, 46.59it/s, loss=0.0127, acc=99.84%, lr=0.010000]\n",
      "Epoch 92/200 [Test]: 100%|██████████| 79/79 [00:01<00:00, 73.88it/s, loss=2.0608, acc=59.17%] \n"
     ]
    },
    {
     "name": "stdout",
     "output_type": "stream",
     "text": [
      "Checkpoint saved! New best accuracy: 59.17%\n",
      "Epoch: 92/200 | Train Loss: 0.0127 | Train Acc: 99.84% | Test Loss: 2.0608 | Test Acc: 59.17%\n"
     ]
    },
    {
     "name": "stderr",
     "output_type": "stream",
     "text": [
      "Epoch 93/200 [Train]: 100%|██████████| 391/391 [00:08<00:00, 45.06it/s, loss=0.0117, acc=99.87%, lr=0.010000]\n",
      "Epoch 93/200 [Test]: 100%|██████████| 79/79 [00:01<00:00, 76.88it/s, loss=2.0523, acc=59.13%] \n"
     ]
    },
    {
     "name": "stdout",
     "output_type": "stream",
     "text": [
      "Epoch: 93/200 | Train Loss: 0.0117 | Train Acc: 99.87% | Test Loss: 2.0523 | Test Acc: 59.13%\n"
     ]
    },
    {
     "name": "stderr",
     "output_type": "stream",
     "text": [
      "Epoch 94/200 [Train]: 100%|██████████| 391/391 [00:08<00:00, 46.31it/s, loss=0.0106, acc=99.90%, lr=0.010000]\n",
      "Epoch 94/200 [Test]: 100%|██████████| 79/79 [00:00<00:00, 85.26it/s, loss=2.0529, acc=59.04%] \n"
     ]
    },
    {
     "name": "stdout",
     "output_type": "stream",
     "text": [
      "Epoch: 94/200 | Train Loss: 0.0106 | Train Acc: 99.90% | Test Loss: 2.0529 | Test Acc: 59.04%\n"
     ]
    },
    {
     "name": "stderr",
     "output_type": "stream",
     "text": [
      "Epoch 95/200 [Train]: 100%|██████████| 391/391 [00:08<00:00, 45.34it/s, loss=0.0106, acc=99.89%, lr=0.010000]\n",
      "Epoch 95/200 [Test]: 100%|██████████| 79/79 [00:00<00:00, 79.06it/s, loss=2.0537, acc=59.14%] \n"
     ]
    },
    {
     "name": "stdout",
     "output_type": "stream",
     "text": [
      "Epoch: 95/200 | Train Loss: 0.0106 | Train Acc: 99.89% | Test Loss: 2.0537 | Test Acc: 59.14%\n"
     ]
    },
    {
     "name": "stderr",
     "output_type": "stream",
     "text": [
      "Epoch 96/200 [Train]: 100%|██████████| 391/391 [00:08<00:00, 47.60it/s, loss=0.0101, acc=99.90%, lr=0.010000]\n",
      "Epoch 96/200 [Test]: 100%|██████████| 79/79 [00:00<00:00, 81.17it/s, loss=2.0479, acc=59.13%] \n"
     ]
    },
    {
     "name": "stdout",
     "output_type": "stream",
     "text": [
      "Epoch: 96/200 | Train Loss: 0.0101 | Train Acc: 99.90% | Test Loss: 2.0479 | Test Acc: 59.13%\n"
     ]
    },
    {
     "name": "stderr",
     "output_type": "stream",
     "text": [
      "Epoch 97/200 [Train]: 100%|██████████| 391/391 [00:08<00:00, 45.05it/s, loss=0.0095, acc=99.92%, lr=0.010000]\n",
      "Epoch 97/200 [Test]: 100%|██████████| 79/79 [00:01<00:00, 66.98it/s, loss=2.0331, acc=59.28%]\n"
     ]
    },
    {
     "name": "stdout",
     "output_type": "stream",
     "text": [
      "Checkpoint saved! New best accuracy: 59.28%\n",
      "Epoch: 97/200 | Train Loss: 0.0095 | Train Acc: 99.92% | Test Loss: 2.0331 | Test Acc: 59.28%\n"
     ]
    },
    {
     "name": "stderr",
     "output_type": "stream",
     "text": [
      "Epoch 98/200 [Train]: 100%|██████████| 391/391 [00:08<00:00, 44.03it/s, loss=0.0094, acc=99.89%, lr=0.010000]\n",
      "Epoch 98/200 [Test]: 100%|██████████| 79/79 [00:01<00:00, 53.99it/s, loss=2.0336, acc=59.35%]\n"
     ]
    },
    {
     "name": "stdout",
     "output_type": "stream",
     "text": [
      "Checkpoint saved! New best accuracy: 59.35%\n",
      "Epoch: 98/200 | Train Loss: 0.0094 | Train Acc: 99.89% | Test Loss: 2.0336 | Test Acc: 59.35%\n"
     ]
    },
    {
     "name": "stderr",
     "output_type": "stream",
     "text": [
      "Epoch 99/200 [Train]: 100%|██████████| 391/391 [00:08<00:00, 44.77it/s, loss=0.0093, acc=99.91%, lr=0.010000]\n",
      "Epoch 99/200 [Test]: 100%|██████████| 79/79 [00:00<00:00, 80.02it/s, loss=2.0281, acc=59.38%] \n"
     ]
    },
    {
     "name": "stdout",
     "output_type": "stream",
     "text": [
      "Checkpoint saved! New best accuracy: 59.38%\n",
      "Epoch: 99/200 | Train Loss: 0.0093 | Train Acc: 99.91% | Test Loss: 2.0281 | Test Acc: 59.38%\n"
     ]
    },
    {
     "name": "stderr",
     "output_type": "stream",
     "text": [
      "Epoch 100/200 [Train]: 100%|██████████| 391/391 [00:08<00:00, 45.04it/s, loss=0.0089, acc=99.90%, lr=0.010000]\n",
      "Epoch 100/200 [Test]: 100%|██████████| 79/79 [00:01<00:00, 72.39it/s, loss=2.0186, acc=59.39%]\n"
     ]
    },
    {
     "name": "stdout",
     "output_type": "stream",
     "text": [
      "Checkpoint saved! New best accuracy: 59.39%\n",
      "Epoch: 100/200 | Train Loss: 0.0089 | Train Acc: 99.90% | Test Loss: 2.0186 | Test Acc: 59.39%\n"
     ]
    },
    {
     "name": "stderr",
     "output_type": "stream",
     "text": [
      "Epoch 101/200 [Train]: 100%|██████████| 391/391 [00:08<00:00, 44.03it/s, loss=0.0084, acc=99.92%, lr=0.010000]\n",
      "Epoch 101/200 [Test]: 100%|██████████| 79/79 [00:01<00:00, 66.81it/s, loss=2.0062, acc=59.38%]\n"
     ]
    },
    {
     "name": "stdout",
     "output_type": "stream",
     "text": [
      "Epoch: 101/200 | Train Loss: 0.0084 | Train Acc: 99.92% | Test Loss: 2.0062 | Test Acc: 59.38%\n"
     ]
    },
    {
     "name": "stderr",
     "output_type": "stream",
     "text": [
      "Epoch 102/200 [Train]: 100%|██████████| 391/391 [00:08<00:00, 45.54it/s, loss=0.0080, acc=99.94%, lr=0.010000]\n",
      "Epoch 102/200 [Test]: 100%|██████████| 79/79 [00:01<00:00, 59.19it/s, loss=2.0168, acc=59.33%]\n"
     ]
    },
    {
     "name": "stdout",
     "output_type": "stream",
     "text": [
      "Epoch: 102/200 | Train Loss: 0.0080 | Train Acc: 99.94% | Test Loss: 2.0168 | Test Acc: 59.33%\n"
     ]
    },
    {
     "name": "stderr",
     "output_type": "stream",
     "text": [
      "Epoch 103/200 [Train]: 100%|██████████| 391/391 [00:08<00:00, 46.33it/s, loss=0.0081, acc=99.92%, lr=0.010000]\n",
      "Epoch 103/200 [Test]: 100%|██████████| 79/79 [00:00<00:00, 81.39it/s, loss=2.0059, acc=59.30%]\n"
     ]
    },
    {
     "name": "stdout",
     "output_type": "stream",
     "text": [
      "Epoch: 103/200 | Train Loss: 0.0081 | Train Acc: 99.92% | Test Loss: 2.0059 | Test Acc: 59.30%\n"
     ]
    },
    {
     "name": "stderr",
     "output_type": "stream",
     "text": [
      "Epoch 104/200 [Train]: 100%|██████████| 391/391 [00:09<00:00, 43.40it/s, loss=0.0078, acc=99.93%, lr=0.010000]\n",
      "Epoch 104/200 [Test]: 100%|██████████| 79/79 [00:01<00:00, 54.25it/s, loss=2.0104, acc=59.33%]\n"
     ]
    },
    {
     "name": "stdout",
     "output_type": "stream",
     "text": [
      "Epoch: 104/200 | Train Loss: 0.0078 | Train Acc: 99.93% | Test Loss: 2.0104 | Test Acc: 59.33%\n"
     ]
    },
    {
     "name": "stderr",
     "output_type": "stream",
     "text": [
      "Epoch 105/200 [Train]: 100%|██████████| 391/391 [00:08<00:00, 43.52it/s, loss=0.0077, acc=99.93%, lr=0.010000]\n",
      "Epoch 105/200 [Test]: 100%|██████████| 79/79 [00:01<00:00, 60.78it/s, loss=1.9949, acc=59.43%]\n"
     ]
    },
    {
     "name": "stdout",
     "output_type": "stream",
     "text": [
      "Checkpoint saved! New best accuracy: 59.43%\n",
      "Epoch: 105/200 | Train Loss: 0.0077 | Train Acc: 99.93% | Test Loss: 1.9949 | Test Acc: 59.43%\n"
     ]
    },
    {
     "name": "stderr",
     "output_type": "stream",
     "text": [
      "Epoch 106/200 [Train]: 100%|██████████| 391/391 [00:08<00:00, 44.95it/s, loss=0.0077, acc=99.94%, lr=0.010000]\n",
      "Epoch 106/200 [Test]: 100%|██████████| 79/79 [00:01<00:00, 59.47it/s, loss=1.9849, acc=59.35%]\n"
     ]
    },
    {
     "name": "stdout",
     "output_type": "stream",
     "text": [
      "Epoch: 106/200 | Train Loss: 0.0077 | Train Acc: 99.94% | Test Loss: 1.9849 | Test Acc: 59.35%\n"
     ]
    },
    {
     "name": "stderr",
     "output_type": "stream",
     "text": [
      "Epoch 107/200 [Train]: 100%|██████████| 391/391 [00:08<00:00, 43.46it/s, loss=0.0076, acc=99.93%, lr=0.010000]\n",
      "Epoch 107/200 [Test]: 100%|██████████| 79/79 [00:01<00:00, 56.16it/s, loss=1.9894, acc=59.46%]\n"
     ]
    },
    {
     "name": "stdout",
     "output_type": "stream",
     "text": [
      "Checkpoint saved! New best accuracy: 59.46%\n",
      "Epoch: 107/200 | Train Loss: 0.0076 | Train Acc: 99.93% | Test Loss: 1.9894 | Test Acc: 59.46%\n"
     ]
    },
    {
     "name": "stderr",
     "output_type": "stream",
     "text": [
      "Epoch 108/200 [Train]: 100%|██████████| 391/391 [00:08<00:00, 44.51it/s, loss=0.0076, acc=99.94%, lr=0.010000]\n",
      "Epoch 108/200 [Test]: 100%|██████████| 79/79 [00:01<00:00, 57.76it/s, loss=1.9833, acc=59.49%]\n"
     ]
    },
    {
     "name": "stdout",
     "output_type": "stream",
     "text": [
      "Checkpoint saved! New best accuracy: 59.49%\n",
      "Epoch: 108/200 | Train Loss: 0.0076 | Train Acc: 99.94% | Test Loss: 1.9833 | Test Acc: 59.49%\n"
     ]
    },
    {
     "name": "stderr",
     "output_type": "stream",
     "text": [
      "Epoch 109/200 [Train]: 100%|██████████| 391/391 [00:09<00:00, 42.81it/s, loss=0.0073, acc=99.93%, lr=0.010000]\n",
      "Epoch 109/200 [Test]: 100%|██████████| 79/79 [00:01<00:00, 70.09it/s, loss=1.9795, acc=59.62%] \n"
     ]
    },
    {
     "name": "stdout",
     "output_type": "stream",
     "text": [
      "Checkpoint saved! New best accuracy: 59.62%\n",
      "Epoch: 109/200 | Train Loss: 0.0073 | Train Acc: 99.93% | Test Loss: 1.9795 | Test Acc: 59.62%\n"
     ]
    },
    {
     "name": "stderr",
     "output_type": "stream",
     "text": [
      "Epoch 110/200 [Train]: 100%|██████████| 391/391 [00:08<00:00, 43.80it/s, loss=0.0072, acc=99.94%, lr=0.010000]\n",
      "Epoch 110/200 [Test]: 100%|██████████| 79/79 [00:01<00:00, 73.83it/s, loss=1.9693, acc=59.40%] \n"
     ]
    },
    {
     "name": "stdout",
     "output_type": "stream",
     "text": [
      "Epoch: 110/200 | Train Loss: 0.0072 | Train Acc: 99.94% | Test Loss: 1.9693 | Test Acc: 59.40%\n"
     ]
    },
    {
     "name": "stderr",
     "output_type": "stream",
     "text": [
      "Epoch 111/200 [Train]: 100%|██████████| 391/391 [00:09<00:00, 42.73it/s, loss=0.0070, acc=99.94%, lr=0.010000]\n",
      "Epoch 111/200 [Test]: 100%|██████████| 79/79 [00:00<00:00, 93.37it/s, loss=1.9571, acc=59.68%] \n"
     ]
    },
    {
     "name": "stdout",
     "output_type": "stream",
     "text": [
      "Checkpoint saved! New best accuracy: 59.68%\n",
      "Epoch: 111/200 | Train Loss: 0.0070 | Train Acc: 99.94% | Test Loss: 1.9571 | Test Acc: 59.68%\n"
     ]
    },
    {
     "name": "stderr",
     "output_type": "stream",
     "text": [
      "Epoch 112/200 [Train]: 100%|██████████| 391/391 [00:08<00:00, 43.61it/s, loss=0.0068, acc=99.96%, lr=0.010000]\n",
      "Epoch 112/200 [Test]: 100%|██████████| 79/79 [00:01<00:00, 65.53it/s, loss=1.9610, acc=59.44%]\n"
     ]
    },
    {
     "name": "stdout",
     "output_type": "stream",
     "text": [
      "Epoch: 112/200 | Train Loss: 0.0068 | Train Acc: 99.96% | Test Loss: 1.9610 | Test Acc: 59.44%\n"
     ]
    },
    {
     "name": "stderr",
     "output_type": "stream",
     "text": [
      "Epoch 113/200 [Train]: 100%|██████████| 391/391 [00:09<00:00, 42.20it/s, loss=0.0067, acc=99.94%, lr=0.010000]\n",
      "Epoch 113/200 [Test]: 100%|██████████| 79/79 [00:00<00:00, 81.70it/s, loss=1.9679, acc=59.41%] \n"
     ]
    },
    {
     "name": "stdout",
     "output_type": "stream",
     "text": [
      "Epoch: 113/200 | Train Loss: 0.0067 | Train Acc: 99.94% | Test Loss: 1.9679 | Test Acc: 59.41%\n"
     ]
    },
    {
     "name": "stderr",
     "output_type": "stream",
     "text": [
      "Epoch 114/200 [Train]: 100%|██████████| 391/391 [00:08<00:00, 43.63it/s, loss=0.0067, acc=99.94%, lr=0.010000]\n",
      "Epoch 114/200 [Test]: 100%|██████████| 79/79 [00:01<00:00, 66.82it/s, loss=1.9552, acc=59.50%] \n"
     ]
    },
    {
     "name": "stdout",
     "output_type": "stream",
     "text": [
      "Epoch: 114/200 | Train Loss: 0.0067 | Train Acc: 99.94% | Test Loss: 1.9552 | Test Acc: 59.50%\n"
     ]
    },
    {
     "name": "stderr",
     "output_type": "stream",
     "text": [
      "Epoch 115/200 [Train]: 100%|██████████| 391/391 [00:09<00:00, 42.55it/s, loss=0.0066, acc=99.95%, lr=0.010000]\n",
      "Epoch 115/200 [Test]: 100%|██████████| 79/79 [00:00<00:00, 84.59it/s, loss=1.9551, acc=59.44%] \n"
     ]
    },
    {
     "name": "stdout",
     "output_type": "stream",
     "text": [
      "Epoch: 115/200 | Train Loss: 0.0066 | Train Acc: 99.95% | Test Loss: 1.9551 | Test Acc: 59.44%\n"
     ]
    },
    {
     "name": "stderr",
     "output_type": "stream",
     "text": [
      "Epoch 116/200 [Train]: 100%|██████████| 391/391 [00:08<00:00, 44.15it/s, loss=0.0066, acc=99.95%, lr=0.010000]\n",
      "Epoch 116/200 [Test]: 100%|██████████| 79/79 [00:01<00:00, 70.92it/s, loss=1.9505, acc=59.52%]\n"
     ]
    },
    {
     "name": "stdout",
     "output_type": "stream",
     "text": [
      "Epoch: 116/200 | Train Loss: 0.0066 | Train Acc: 99.95% | Test Loss: 1.9505 | Test Acc: 59.52%\n"
     ]
    },
    {
     "name": "stderr",
     "output_type": "stream",
     "text": [
      "Epoch 117/200 [Train]: 100%|██████████| 391/391 [00:08<00:00, 43.77it/s, loss=0.0063, acc=99.96%, lr=0.010000]\n",
      "Epoch 117/200 [Test]: 100%|██████████| 79/79 [00:00<00:00, 84.87it/s, loss=1.9397, acc=59.65%] \n"
     ]
    },
    {
     "name": "stdout",
     "output_type": "stream",
     "text": [
      "Epoch: 117/200 | Train Loss: 0.0063 | Train Acc: 99.96% | Test Loss: 1.9397 | Test Acc: 59.65%\n"
     ]
    },
    {
     "name": "stderr",
     "output_type": "stream",
     "text": [
      "Epoch 118/200 [Train]: 100%|██████████| 391/391 [00:09<00:00, 42.46it/s, loss=0.0063, acc=99.96%, lr=0.010000]\n",
      "Epoch 118/200 [Test]: 100%|██████████| 79/79 [00:00<00:00, 82.37it/s, loss=1.9326, acc=59.64%] \n"
     ]
    },
    {
     "name": "stdout",
     "output_type": "stream",
     "text": [
      "Epoch: 118/200 | Train Loss: 0.0063 | Train Acc: 99.96% | Test Loss: 1.9326 | Test Acc: 59.64%\n"
     ]
    },
    {
     "name": "stderr",
     "output_type": "stream",
     "text": [
      "Epoch 119/200 [Train]: 100%|██████████| 391/391 [00:09<00:00, 42.90it/s, loss=0.0061, acc=99.95%, lr=0.010000]\n",
      "Epoch 119/200 [Test]: 100%|██████████| 79/79 [00:00<00:00, 79.41it/s, loss=1.9309, acc=59.71%] \n"
     ]
    },
    {
     "name": "stdout",
     "output_type": "stream",
     "text": [
      "Checkpoint saved! New best accuracy: 59.71%\n",
      "Epoch: 119/200 | Train Loss: 0.0061 | Train Acc: 99.95% | Test Loss: 1.9309 | Test Acc: 59.71%\n"
     ]
    },
    {
     "name": "stderr",
     "output_type": "stream",
     "text": [
      "Epoch 120/200 [Train]: 100%|██████████| 391/391 [00:08<00:00, 46.19it/s, loss=0.0062, acc=99.95%, lr=0.010000]\n",
      "Epoch 120/200 [Test]: 100%|██████████| 79/79 [00:01<00:00, 76.51it/s, loss=1.9260, acc=59.66%] \n"
     ]
    },
    {
     "name": "stdout",
     "output_type": "stream",
     "text": [
      "Epoch: 120/200 | Train Loss: 0.0062 | Train Acc: 99.95% | Test Loss: 1.9260 | Test Acc: 59.66%\n"
     ]
    },
    {
     "name": "stderr",
     "output_type": "stream",
     "text": [
      "Epoch 121/200 [Train]: 100%|██████████| 391/391 [00:08<00:00, 44.95it/s, loss=0.0062, acc=99.94%, lr=0.010000]\n",
      "Epoch 121/200 [Test]: 100%|██████████| 79/79 [00:01<00:00, 72.89it/s, loss=1.9236, acc=59.60%]\n"
     ]
    },
    {
     "name": "stdout",
     "output_type": "stream",
     "text": [
      "Epoch: 121/200 | Train Loss: 0.0062 | Train Acc: 99.94% | Test Loss: 1.9236 | Test Acc: 59.60%\n"
     ]
    },
    {
     "name": "stderr",
     "output_type": "stream",
     "text": [
      "Epoch 122/200 [Train]: 100%|██████████| 391/391 [00:08<00:00, 43.47it/s, loss=0.0062, acc=99.96%, lr=0.010000]\n",
      "Epoch 122/200 [Test]: 100%|██████████| 79/79 [00:01<00:00, 74.03it/s, loss=1.9101, acc=59.68%]\n"
     ]
    },
    {
     "name": "stdout",
     "output_type": "stream",
     "text": [
      "Epoch: 122/200 | Train Loss: 0.0062 | Train Acc: 99.96% | Test Loss: 1.9101 | Test Acc: 59.68%\n"
     ]
    },
    {
     "name": "stderr",
     "output_type": "stream",
     "text": [
      "Epoch 123/200 [Train]: 100%|██████████| 391/391 [00:09<00:00, 42.82it/s, loss=0.0061, acc=99.96%, lr=0.010000]\n",
      "Epoch 123/200 [Test]: 100%|██████████| 79/79 [00:01<00:00, 60.69it/s, loss=1.9226, acc=59.88%]\n"
     ]
    },
    {
     "name": "stdout",
     "output_type": "stream",
     "text": [
      "Checkpoint saved! New best accuracy: 59.88%\n",
      "Epoch: 123/200 | Train Loss: 0.0061 | Train Acc: 99.96% | Test Loss: 1.9226 | Test Acc: 59.88%\n"
     ]
    },
    {
     "name": "stderr",
     "output_type": "stream",
     "text": [
      "Epoch 124/200 [Train]: 100%|██████████| 391/391 [00:08<00:00, 44.64it/s, loss=0.0062, acc=99.95%, lr=0.010000]\n",
      "Epoch 124/200 [Test]: 100%|██████████| 79/79 [00:01<00:00, 62.40it/s, loss=1.9119, acc=59.65%]\n"
     ]
    },
    {
     "name": "stdout",
     "output_type": "stream",
     "text": [
      "Epoch: 124/200 | Train Loss: 0.0062 | Train Acc: 99.95% | Test Loss: 1.9119 | Test Acc: 59.65%\n"
     ]
    },
    {
     "name": "stderr",
     "output_type": "stream",
     "text": [
      "Epoch 125/200 [Train]: 100%|██████████| 391/391 [00:08<00:00, 43.97it/s, loss=0.0058, acc=99.95%, lr=0.010000]\n",
      "Epoch 125/200 [Test]: 100%|██████████| 79/79 [00:01<00:00, 70.72it/s, loss=1.9100, acc=59.84%]\n"
     ]
    },
    {
     "name": "stdout",
     "output_type": "stream",
     "text": [
      "Epoch: 125/200 | Train Loss: 0.0058 | Train Acc: 99.95% | Test Loss: 1.9100 | Test Acc: 59.84%\n"
     ]
    },
    {
     "name": "stderr",
     "output_type": "stream",
     "text": [
      "Epoch 126/200 [Train]: 100%|██████████| 391/391 [00:08<00:00, 44.85it/s, loss=0.0061, acc=99.95%, lr=0.010000]\n",
      "Epoch 126/200 [Test]: 100%|██████████| 79/79 [00:01<00:00, 68.38it/s, loss=1.9026, acc=59.69%]\n"
     ]
    },
    {
     "name": "stdout",
     "output_type": "stream",
     "text": [
      "Epoch: 126/200 | Train Loss: 0.0061 | Train Acc: 99.95% | Test Loss: 1.9026 | Test Acc: 59.69%\n"
     ]
    },
    {
     "name": "stderr",
     "output_type": "stream",
     "text": [
      "Epoch 127/200 [Train]: 100%|██████████| 391/391 [00:08<00:00, 45.61it/s, loss=0.0059, acc=99.95%, lr=0.010000]\n",
      "Epoch 127/200 [Test]: 100%|██████████| 79/79 [00:00<00:00, 84.40it/s, loss=1.9141, acc=59.85%] \n"
     ]
    },
    {
     "name": "stdout",
     "output_type": "stream",
     "text": [
      "Epoch: 127/200 | Train Loss: 0.0059 | Train Acc: 99.95% | Test Loss: 1.9141 | Test Acc: 59.85%\n"
     ]
    },
    {
     "name": "stderr",
     "output_type": "stream",
     "text": [
      "Epoch 128/200 [Train]: 100%|██████████| 391/391 [00:08<00:00, 44.65it/s, loss=0.0056, acc=99.97%, lr=0.010000]\n",
      "Epoch 128/200 [Test]: 100%|██████████| 79/79 [00:01<00:00, 77.89it/s, loss=1.9013, acc=59.95%]\n"
     ]
    },
    {
     "name": "stdout",
     "output_type": "stream",
     "text": [
      "Checkpoint saved! New best accuracy: 59.95%\n",
      "Epoch: 128/200 | Train Loss: 0.0056 | Train Acc: 99.97% | Test Loss: 1.9013 | Test Acc: 59.95%\n"
     ]
    },
    {
     "name": "stderr",
     "output_type": "stream",
     "text": [
      "Epoch 129/200 [Train]: 100%|██████████| 391/391 [00:08<00:00, 45.11it/s, loss=0.0058, acc=99.95%, lr=0.010000]\n",
      "Epoch 129/200 [Test]: 100%|██████████| 79/79 [00:01<00:00, 78.47it/s, loss=1.8966, acc=59.85%]\n"
     ]
    },
    {
     "name": "stdout",
     "output_type": "stream",
     "text": [
      "Epoch: 129/200 | Train Loss: 0.0058 | Train Acc: 99.95% | Test Loss: 1.8966 | Test Acc: 59.85%\n"
     ]
    },
    {
     "name": "stderr",
     "output_type": "stream",
     "text": [
      "Epoch 130/200 [Train]: 100%|██████████| 391/391 [00:09<00:00, 42.89it/s, loss=0.0059, acc=99.96%, lr=0.010000]\n",
      "Epoch 130/200 [Test]: 100%|██████████| 79/79 [00:01<00:00, 54.49it/s, loss=1.8950, acc=59.69%]\n"
     ]
    },
    {
     "name": "stdout",
     "output_type": "stream",
     "text": [
      "Epoch: 130/200 | Train Loss: 0.0059 | Train Acc: 99.96% | Test Loss: 1.8950 | Test Acc: 59.69%\n"
     ]
    },
    {
     "name": "stderr",
     "output_type": "stream",
     "text": [
      "Epoch 131/200 [Train]: 100%|██████████| 391/391 [00:08<00:00, 44.70it/s, loss=0.0059, acc=99.95%, lr=0.010000]\n",
      "Epoch 131/200 [Test]: 100%|██████████| 79/79 [00:01<00:00, 65.01it/s, loss=1.8875, acc=59.79%]\n"
     ]
    },
    {
     "name": "stdout",
     "output_type": "stream",
     "text": [
      "Epoch: 131/200 | Train Loss: 0.0059 | Train Acc: 99.95% | Test Loss: 1.8875 | Test Acc: 59.79%\n"
     ]
    },
    {
     "name": "stderr",
     "output_type": "stream",
     "text": [
      "Epoch 132/200 [Train]: 100%|██████████| 391/391 [00:09<00:00, 43.38it/s, loss=0.0058, acc=99.96%, lr=0.010000]\n",
      "Epoch 132/200 [Test]: 100%|██████████| 79/79 [00:01<00:00, 59.43it/s, loss=1.8877, acc=59.71%]\n"
     ]
    },
    {
     "name": "stdout",
     "output_type": "stream",
     "text": [
      "Epoch: 132/200 | Train Loss: 0.0058 | Train Acc: 99.96% | Test Loss: 1.8877 | Test Acc: 59.71%\n"
     ]
    },
    {
     "name": "stderr",
     "output_type": "stream",
     "text": [
      "Epoch 133/200 [Train]: 100%|██████████| 391/391 [00:09<00:00, 43.37it/s, loss=0.0059, acc=99.95%, lr=0.010000]\n",
      "Epoch 133/200 [Test]: 100%|██████████| 79/79 [00:01<00:00, 64.32it/s, loss=1.8815, acc=59.62%]\n"
     ]
    },
    {
     "name": "stdout",
     "output_type": "stream",
     "text": [
      "Epoch: 133/200 | Train Loss: 0.0059 | Train Acc: 99.95% | Test Loss: 1.8815 | Test Acc: 59.62%\n"
     ]
    },
    {
     "name": "stderr",
     "output_type": "stream",
     "text": [
      "Epoch 134/200 [Train]: 100%|██████████| 391/391 [00:08<00:00, 43.68it/s, loss=0.0055, acc=99.97%, lr=0.010000]\n",
      "Epoch 134/200 [Test]: 100%|██████████| 79/79 [00:01<00:00, 71.20it/s, loss=1.8736, acc=59.67%] \n"
     ]
    },
    {
     "name": "stdout",
     "output_type": "stream",
     "text": [
      "Epoch: 134/200 | Train Loss: 0.0055 | Train Acc: 99.97% | Test Loss: 1.8736 | Test Acc: 59.67%\n"
     ]
    },
    {
     "name": "stderr",
     "output_type": "stream",
     "text": [
      "Epoch 135/200 [Train]: 100%|██████████| 391/391 [00:08<00:00, 44.56it/s, loss=0.0054, acc=99.97%, lr=0.010000]\n",
      "Epoch 135/200 [Test]: 100%|██████████| 79/79 [00:01<00:00, 68.28it/s, loss=1.8681, acc=59.87%]\n"
     ]
    },
    {
     "name": "stdout",
     "output_type": "stream",
     "text": [
      "Epoch: 135/200 | Train Loss: 0.0054 | Train Acc: 99.97% | Test Loss: 1.8681 | Test Acc: 59.87%\n"
     ]
    },
    {
     "name": "stderr",
     "output_type": "stream",
     "text": [
      "Epoch 136/200 [Train]: 100%|██████████| 391/391 [00:09<00:00, 41.37it/s, loss=0.0058, acc=99.96%, lr=0.010000]\n",
      "Epoch 136/200 [Test]: 100%|██████████| 79/79 [00:00<00:00, 95.08it/s, loss=1.8664, acc=59.82%] \n"
     ]
    },
    {
     "name": "stdout",
     "output_type": "stream",
     "text": [
      "Epoch: 136/200 | Train Loss: 0.0058 | Train Acc: 99.96% | Test Loss: 1.8664 | Test Acc: 59.82%\n"
     ]
    },
    {
     "name": "stderr",
     "output_type": "stream",
     "text": [
      "Epoch 137/200 [Train]: 100%|██████████| 391/391 [00:09<00:00, 43.36it/s, loss=0.0055, acc=99.96%, lr=0.010000]\n",
      "Epoch 137/200 [Test]: 100%|██████████| 79/79 [00:01<00:00, 73.44it/s, loss=1.8621, acc=59.95%]\n"
     ]
    },
    {
     "name": "stdout",
     "output_type": "stream",
     "text": [
      "Epoch: 137/200 | Train Loss: 0.0055 | Train Acc: 99.96% | Test Loss: 1.8621 | Test Acc: 59.95%\n"
     ]
    },
    {
     "name": "stderr",
     "output_type": "stream",
     "text": [
      "Epoch 138/200 [Train]: 100%|██████████| 391/391 [00:09<00:00, 43.08it/s, loss=0.0054, acc=99.97%, lr=0.010000]\n",
      "Epoch 138/200 [Test]: 100%|██████████| 79/79 [00:00<00:00, 82.63it/s, loss=1.8656, acc=60.14%] \n"
     ]
    },
    {
     "name": "stdout",
     "output_type": "stream",
     "text": [
      "Checkpoint saved! New best accuracy: 60.14%\n",
      "Epoch: 138/200 | Train Loss: 0.0054 | Train Acc: 99.97% | Test Loss: 1.8656 | Test Acc: 60.14%\n"
     ]
    },
    {
     "name": "stderr",
     "output_type": "stream",
     "text": [
      "Epoch 139/200 [Train]: 100%|██████████| 391/391 [00:09<00:00, 43.17it/s, loss=0.0055, acc=99.96%, lr=0.010000]\n",
      "Epoch 139/200 [Test]: 100%|██████████| 79/79 [00:01<00:00, 72.41it/s, loss=1.8584, acc=59.88%]\n"
     ]
    },
    {
     "name": "stdout",
     "output_type": "stream",
     "text": [
      "Epoch: 139/200 | Train Loss: 0.0055 | Train Acc: 99.96% | Test Loss: 1.8584 | Test Acc: 59.88%\n"
     ]
    },
    {
     "name": "stderr",
     "output_type": "stream",
     "text": [
      "Epoch 140/200 [Train]: 100%|██████████| 391/391 [00:08<00:00, 44.42it/s, loss=0.0055, acc=99.96%, lr=0.010000]\n",
      "Epoch 140/200 [Test]: 100%|██████████| 79/79 [00:00<00:00, 88.33it/s, loss=1.8632, acc=59.98%] \n"
     ]
    },
    {
     "name": "stdout",
     "output_type": "stream",
     "text": [
      "Epoch: 140/200 | Train Loss: 0.0055 | Train Acc: 99.96% | Test Loss: 1.8632 | Test Acc: 59.98%\n"
     ]
    },
    {
     "name": "stderr",
     "output_type": "stream",
     "text": [
      "Epoch 141/200 [Train]: 100%|██████████| 391/391 [00:09<00:00, 42.81it/s, loss=0.0056, acc=99.95%, lr=0.010000]\n",
      "Epoch 141/200 [Test]: 100%|██████████| 79/79 [00:01<00:00, 66.15it/s, loss=1.8612, acc=59.98%]\n"
     ]
    },
    {
     "name": "stdout",
     "output_type": "stream",
     "text": [
      "Epoch: 141/200 | Train Loss: 0.0056 | Train Acc: 99.95% | Test Loss: 1.8612 | Test Acc: 59.98%\n"
     ]
    },
    {
     "name": "stderr",
     "output_type": "stream",
     "text": [
      "Epoch 142/200 [Train]: 100%|██████████| 391/391 [00:08<00:00, 43.67it/s, loss=0.0053, acc=99.97%, lr=0.010000]\n",
      "Epoch 142/200 [Test]: 100%|██████████| 79/79 [00:01<00:00, 70.97it/s, loss=1.8415, acc=59.93%] \n"
     ]
    },
    {
     "name": "stdout",
     "output_type": "stream",
     "text": [
      "Epoch: 142/200 | Train Loss: 0.0053 | Train Acc: 99.97% | Test Loss: 1.8415 | Test Acc: 59.93%\n"
     ]
    },
    {
     "name": "stderr",
     "output_type": "stream",
     "text": [
      "Epoch 143/200 [Train]: 100%|██████████| 391/391 [00:09<00:00, 42.75it/s, loss=0.0056, acc=99.96%, lr=0.010000]\n",
      "Epoch 143/200 [Test]: 100%|██████████| 79/79 [00:01<00:00, 62.04it/s, loss=1.8497, acc=59.98%]\n"
     ]
    },
    {
     "name": "stdout",
     "output_type": "stream",
     "text": [
      "Epoch: 143/200 | Train Loss: 0.0056 | Train Acc: 99.96% | Test Loss: 1.8497 | Test Acc: 59.98%\n"
     ]
    },
    {
     "name": "stderr",
     "output_type": "stream",
     "text": [
      "Epoch 144/200 [Train]: 100%|██████████| 391/391 [00:08<00:00, 44.08it/s, loss=0.0053, acc=99.97%, lr=0.010000]\n",
      "Epoch 144/200 [Test]: 100%|██████████| 79/79 [00:01<00:00, 43.55it/s, loss=1.8489, acc=59.89%]\n"
     ]
    },
    {
     "name": "stdout",
     "output_type": "stream",
     "text": [
      "Epoch: 144/200 | Train Loss: 0.0053 | Train Acc: 99.97% | Test Loss: 1.8489 | Test Acc: 59.89%\n"
     ]
    },
    {
     "name": "stderr",
     "output_type": "stream",
     "text": [
      "Epoch 145/200 [Train]: 100%|██████████| 391/391 [00:09<00:00, 42.76it/s, loss=0.0054, acc=99.96%, lr=0.010000]\n",
      "Epoch 145/200 [Test]: 100%|██████████| 79/79 [00:01<00:00, 53.24it/s, loss=1.8450, acc=60.30%]\n"
     ]
    },
    {
     "name": "stdout",
     "output_type": "stream",
     "text": [
      "Checkpoint saved! New best accuracy: 60.30%\n",
      "Epoch: 145/200 | Train Loss: 0.0054 | Train Acc: 99.96% | Test Loss: 1.8450 | Test Acc: 60.30%\n"
     ]
    },
    {
     "name": "stderr",
     "output_type": "stream",
     "text": [
      "Epoch 146/200 [Train]: 100%|██████████| 391/391 [00:08<00:00, 43.95it/s, loss=0.0057, acc=99.96%, lr=0.010000]\n",
      "Epoch 146/200 [Test]: 100%|██████████| 79/79 [00:01<00:00, 59.94it/s, loss=1.8350, acc=59.93%]\n"
     ]
    },
    {
     "name": "stdout",
     "output_type": "stream",
     "text": [
      "Epoch: 146/200 | Train Loss: 0.0057 | Train Acc: 99.96% | Test Loss: 1.8350 | Test Acc: 59.93%\n"
     ]
    },
    {
     "name": "stderr",
     "output_type": "stream",
     "text": [
      "Epoch 147/200 [Train]: 100%|██████████| 391/391 [00:08<00:00, 45.47it/s, loss=0.0052, acc=99.97%, lr=0.010000]\n",
      "Epoch 147/200 [Test]: 100%|██████████| 79/79 [00:01<00:00, 61.96it/s, loss=1.8395, acc=60.13%]\n"
     ]
    },
    {
     "name": "stdout",
     "output_type": "stream",
     "text": [
      "Epoch: 147/200 | Train Loss: 0.0052 | Train Acc: 99.97% | Test Loss: 1.8395 | Test Acc: 60.13%\n"
     ]
    },
    {
     "name": "stderr",
     "output_type": "stream",
     "text": [
      "Epoch 148/200 [Train]: 100%|██████████| 391/391 [00:09<00:00, 43.42it/s, loss=0.0053, acc=99.97%, lr=0.010000]\n",
      "Epoch 148/200 [Test]: 100%|██████████| 79/79 [00:01<00:00, 60.12it/s, loss=1.8298, acc=60.06%]\n"
     ]
    },
    {
     "name": "stdout",
     "output_type": "stream",
     "text": [
      "Epoch: 148/200 | Train Loss: 0.0053 | Train Acc: 99.97% | Test Loss: 1.8298 | Test Acc: 60.06%\n"
     ]
    },
    {
     "name": "stderr",
     "output_type": "stream",
     "text": [
      "Epoch 149/200 [Train]: 100%|██████████| 391/391 [00:08<00:00, 43.74it/s, loss=0.0053, acc=99.96%, lr=0.010000]\n",
      "Epoch 149/200 [Test]: 100%|██████████| 79/79 [00:01<00:00, 58.02it/s, loss=1.8272, acc=60.33%]\n"
     ]
    },
    {
     "name": "stdout",
     "output_type": "stream",
     "text": [
      "Checkpoint saved! New best accuracy: 60.33%\n",
      "Epoch: 149/200 | Train Loss: 0.0053 | Train Acc: 99.96% | Test Loss: 1.8272 | Test Acc: 60.33%\n"
     ]
    },
    {
     "name": "stderr",
     "output_type": "stream",
     "text": [
      "Epoch 150/200 [Train]: 100%|██████████| 391/391 [00:09<00:00, 43.22it/s, loss=0.0052, acc=99.97%, lr=0.010000]\n",
      "Epoch 150/200 [Test]: 100%|██████████| 79/79 [00:01<00:00, 57.16it/s, loss=1.8318, acc=60.24%]\n"
     ]
    },
    {
     "name": "stdout",
     "output_type": "stream",
     "text": [
      "Epoch: 150/200 | Train Loss: 0.0052 | Train Acc: 99.97% | Test Loss: 1.8318 | Test Acc: 60.24%\n"
     ]
    },
    {
     "name": "stderr",
     "output_type": "stream",
     "text": [
      "Epoch 151/200 [Train]: 100%|██████████| 391/391 [00:09<00:00, 43.05it/s, loss=0.0057, acc=99.95%, lr=0.010000]\n",
      "Epoch 151/200 [Test]: 100%|██████████| 79/79 [00:01<00:00, 60.10it/s, loss=1.8243, acc=60.19%]\n"
     ]
    },
    {
     "name": "stdout",
     "output_type": "stream",
     "text": [
      "Epoch: 151/200 | Train Loss: 0.0057 | Train Acc: 99.95% | Test Loss: 1.8243 | Test Acc: 60.19%\n"
     ]
    },
    {
     "name": "stderr",
     "output_type": "stream",
     "text": [
      "Epoch 152/200 [Train]: 100%|██████████| 391/391 [00:09<00:00, 42.61it/s, loss=0.0053, acc=99.96%, lr=0.010000]\n",
      "Epoch 152/200 [Test]: 100%|██████████| 79/79 [00:01<00:00, 69.36it/s, loss=1.8147, acc=60.43%]\n"
     ]
    },
    {
     "name": "stdout",
     "output_type": "stream",
     "text": [
      "Checkpoint saved! New best accuracy: 60.43%\n",
      "Epoch: 152/200 | Train Loss: 0.0053 | Train Acc: 99.96% | Test Loss: 1.8147 | Test Acc: 60.43%\n"
     ]
    },
    {
     "name": "stderr",
     "output_type": "stream",
     "text": [
      "Epoch 153/200 [Train]: 100%|██████████| 391/391 [00:08<00:00, 43.53it/s, loss=0.0052, acc=99.96%, lr=0.010000]\n",
      "Epoch 153/200 [Test]: 100%|██████████| 79/79 [00:00<00:00, 84.44it/s, loss=1.8148, acc=60.31%] \n"
     ]
    },
    {
     "name": "stdout",
     "output_type": "stream",
     "text": [
      "Epoch: 153/200 | Train Loss: 0.0052 | Train Acc: 99.96% | Test Loss: 1.8148 | Test Acc: 60.31%\n"
     ]
    },
    {
     "name": "stderr",
     "output_type": "stream",
     "text": [
      "Epoch 154/200 [Train]: 100%|██████████| 391/391 [00:08<00:00, 46.04it/s, loss=0.0053, acc=99.97%, lr=0.010000]\n",
      "Epoch 154/200 [Test]: 100%|██████████| 79/79 [00:00<00:00, 80.62it/s, loss=1.8137, acc=60.49%] \n"
     ]
    },
    {
     "name": "stdout",
     "output_type": "stream",
     "text": [
      "Checkpoint saved! New best accuracy: 60.49%\n",
      "Epoch: 154/200 | Train Loss: 0.0053 | Train Acc: 99.97% | Test Loss: 1.8137 | Test Acc: 60.49%\n"
     ]
    },
    {
     "name": "stderr",
     "output_type": "stream",
     "text": [
      "Epoch 155/200 [Train]: 100%|██████████| 391/391 [00:08<00:00, 44.25it/s, loss=0.0052, acc=99.97%, lr=0.010000]\n",
      "Epoch 155/200 [Test]: 100%|██████████| 79/79 [00:01<00:00, 66.26it/s, loss=1.8075, acc=60.38%]\n"
     ]
    },
    {
     "name": "stdout",
     "output_type": "stream",
     "text": [
      "Epoch: 155/200 | Train Loss: 0.0052 | Train Acc: 99.97% | Test Loss: 1.8075 | Test Acc: 60.38%\n"
     ]
    },
    {
     "name": "stderr",
     "output_type": "stream",
     "text": [
      "Epoch 156/200 [Train]: 100%|██████████| 391/391 [00:08<00:00, 43.56it/s, loss=0.0053, acc=99.96%, lr=0.010000]\n",
      "Epoch 156/200 [Test]: 100%|██████████| 79/79 [00:00<00:00, 88.45it/s, loss=1.8186, acc=60.18%] \n"
     ]
    },
    {
     "name": "stdout",
     "output_type": "stream",
     "text": [
      "Epoch: 156/200 | Train Loss: 0.0053 | Train Acc: 99.96% | Test Loss: 1.8186 | Test Acc: 60.18%\n"
     ]
    },
    {
     "name": "stderr",
     "output_type": "stream",
     "text": [
      "Epoch 157/200 [Train]: 100%|██████████| 391/391 [00:08<00:00, 43.51it/s, loss=0.0051, acc=99.97%, lr=0.010000]\n",
      "Epoch 157/200 [Test]: 100%|██████████| 79/79 [00:01<00:00, 68.83it/s, loss=1.8124, acc=60.51%]\n"
     ]
    },
    {
     "name": "stdout",
     "output_type": "stream",
     "text": [
      "Checkpoint saved! New best accuracy: 60.51%\n",
      "Epoch: 157/200 | Train Loss: 0.0051 | Train Acc: 99.97% | Test Loss: 1.8124 | Test Acc: 60.51%\n"
     ]
    },
    {
     "name": "stderr",
     "output_type": "stream",
     "text": [
      "Epoch 158/200 [Train]: 100%|██████████| 391/391 [00:09<00:00, 42.06it/s, loss=0.0053, acc=99.96%, lr=0.010000]\n",
      "Epoch 158/200 [Test]: 100%|██████████| 79/79 [00:00<00:00, 86.14it/s, loss=1.8018, acc=60.41%] \n"
     ]
    },
    {
     "name": "stdout",
     "output_type": "stream",
     "text": [
      "Epoch: 158/200 | Train Loss: 0.0053 | Train Acc: 99.96% | Test Loss: 1.8018 | Test Acc: 60.41%\n"
     ]
    },
    {
     "name": "stderr",
     "output_type": "stream",
     "text": [
      "Epoch 159/200 [Train]: 100%|██████████| 391/391 [00:08<00:00, 43.77it/s, loss=0.0054, acc=99.96%, lr=0.010000]\n",
      "Epoch 159/200 [Test]: 100%|██████████| 79/79 [00:01<00:00, 70.33it/s, loss=1.7930, acc=60.53%] \n"
     ]
    },
    {
     "name": "stdout",
     "output_type": "stream",
     "text": [
      "Checkpoint saved! New best accuracy: 60.53%\n",
      "Epoch: 159/200 | Train Loss: 0.0054 | Train Acc: 99.96% | Test Loss: 1.7930 | Test Acc: 60.53%\n"
     ]
    },
    {
     "name": "stderr",
     "output_type": "stream",
     "text": [
      "Epoch 160/200 [Train]: 100%|██████████| 391/391 [00:09<00:00, 42.38it/s, loss=0.0054, acc=99.97%, lr=0.010000]\n",
      "Epoch 160/200 [Test]: 100%|██████████| 79/79 [00:01<00:00, 66.55it/s, loss=1.7946, acc=60.46%]\n"
     ]
    },
    {
     "name": "stdout",
     "output_type": "stream",
     "text": [
      "Epoch: 160/200 | Train Loss: 0.0054 | Train Acc: 99.97% | Test Loss: 1.7946 | Test Acc: 60.46%\n"
     ]
    },
    {
     "name": "stderr",
     "output_type": "stream",
     "text": [
      "Epoch 161/200 [Train]: 100%|██████████| 391/391 [00:09<00:00, 43.30it/s, loss=0.0051, acc=99.96%, lr=0.010000]\n",
      "Epoch 161/200 [Test]: 100%|██████████| 79/79 [00:01<00:00, 55.39it/s, loss=1.8023, acc=60.27%]\n"
     ]
    },
    {
     "name": "stdout",
     "output_type": "stream",
     "text": [
      "Epoch: 161/200 | Train Loss: 0.0051 | Train Acc: 99.96% | Test Loss: 1.8023 | Test Acc: 60.27%\n"
     ]
    },
    {
     "name": "stderr",
     "output_type": "stream",
     "text": [
      "Epoch 162/200 [Train]: 100%|██████████| 391/391 [00:08<00:00, 44.08it/s, loss=0.0052, acc=99.97%, lr=0.010000]\n",
      "Epoch 162/200 [Test]: 100%|██████████| 79/79 [00:00<00:00, 84.99it/s, loss=1.7952, acc=60.53%] \n"
     ]
    },
    {
     "name": "stdout",
     "output_type": "stream",
     "text": [
      "Epoch: 162/200 | Train Loss: 0.0052 | Train Acc: 99.97% | Test Loss: 1.7952 | Test Acc: 60.53%\n"
     ]
    },
    {
     "name": "stderr",
     "output_type": "stream",
     "text": [
      "Epoch 163/200 [Train]: 100%|██████████| 391/391 [00:08<00:00, 43.55it/s, loss=0.0052, acc=99.96%, lr=0.010000]\n",
      "Epoch 163/200 [Test]: 100%|██████████| 79/79 [00:01<00:00, 57.57it/s, loss=1.7890, acc=60.27%]\n"
     ]
    },
    {
     "name": "stdout",
     "output_type": "stream",
     "text": [
      "Epoch: 163/200 | Train Loss: 0.0052 | Train Acc: 99.96% | Test Loss: 1.7890 | Test Acc: 60.27%\n"
     ]
    },
    {
     "name": "stderr",
     "output_type": "stream",
     "text": [
      "Epoch 164/200 [Train]: 100%|██████████| 391/391 [00:08<00:00, 43.82it/s, loss=0.0053, acc=99.96%, lr=0.010000]\n",
      "Epoch 164/200 [Test]: 100%|██████████| 79/79 [00:01<00:00, 68.35it/s, loss=1.7821, acc=60.28%]\n"
     ]
    },
    {
     "name": "stdout",
     "output_type": "stream",
     "text": [
      "Epoch: 164/200 | Train Loss: 0.0053 | Train Acc: 99.96% | Test Loss: 1.7821 | Test Acc: 60.28%\n"
     ]
    },
    {
     "name": "stderr",
     "output_type": "stream",
     "text": [
      "Epoch 165/200 [Train]: 100%|██████████| 391/391 [00:09<00:00, 42.31it/s, loss=0.0053, acc=99.96%, lr=0.010000]\n",
      "Epoch 165/200 [Test]: 100%|██████████| 79/79 [00:01<00:00, 61.57it/s, loss=1.7901, acc=60.37%]\n"
     ]
    },
    {
     "name": "stdout",
     "output_type": "stream",
     "text": [
      "Epoch: 165/200 | Train Loss: 0.0053 | Train Acc: 99.96% | Test Loss: 1.7901 | Test Acc: 60.37%\n"
     ]
    },
    {
     "name": "stderr",
     "output_type": "stream",
     "text": [
      "Epoch 166/200 [Train]: 100%|██████████| 391/391 [00:09<00:00, 42.72it/s, loss=0.0052, acc=99.95%, lr=0.010000]\n",
      "Epoch 166/200 [Test]: 100%|██████████| 79/79 [00:01<00:00, 70.97it/s, loss=1.7864, acc=60.34%]\n"
     ]
    },
    {
     "name": "stdout",
     "output_type": "stream",
     "text": [
      "Epoch: 166/200 | Train Loss: 0.0052 | Train Acc: 99.95% | Test Loss: 1.7864 | Test Acc: 60.34%\n"
     ]
    },
    {
     "name": "stderr",
     "output_type": "stream",
     "text": [
      "Epoch 167/200 [Train]: 100%|██████████| 391/391 [00:09<00:00, 43.26it/s, loss=0.0053, acc=99.96%, lr=0.010000]\n",
      "Epoch 167/200 [Test]: 100%|██████████| 79/79 [00:00<00:00, 83.61it/s, loss=1.7806, acc=60.39%] \n"
     ]
    },
    {
     "name": "stdout",
     "output_type": "stream",
     "text": [
      "Epoch: 167/200 | Train Loss: 0.0053 | Train Acc: 99.96% | Test Loss: 1.7806 | Test Acc: 60.39%\n"
     ]
    },
    {
     "name": "stderr",
     "output_type": "stream",
     "text": [
      "Epoch 168/200 [Train]: 100%|██████████| 391/391 [00:09<00:00, 41.44it/s, loss=0.0050, acc=99.97%, lr=0.010000]\n",
      "Epoch 168/200 [Test]: 100%|██████████| 79/79 [00:01<00:00, 64.63it/s, loss=1.7765, acc=60.33%]\n"
     ]
    },
    {
     "name": "stdout",
     "output_type": "stream",
     "text": [
      "Epoch: 168/200 | Train Loss: 0.0050 | Train Acc: 99.97% | Test Loss: 1.7765 | Test Acc: 60.33%\n"
     ]
    },
    {
     "name": "stderr",
     "output_type": "stream",
     "text": [
      "Epoch 169/200 [Train]: 100%|██████████| 391/391 [00:09<00:00, 43.19it/s, loss=0.0052, acc=99.96%, lr=0.010000]\n",
      "Epoch 169/200 [Test]: 100%|██████████| 79/79 [00:01<00:00, 76.58it/s, loss=1.7714, acc=60.45%]\n"
     ]
    },
    {
     "name": "stdout",
     "output_type": "stream",
     "text": [
      "Epoch: 169/200 | Train Loss: 0.0052 | Train Acc: 99.96% | Test Loss: 1.7714 | Test Acc: 60.45%\n"
     ]
    },
    {
     "name": "stderr",
     "output_type": "stream",
     "text": [
      "Epoch 170/200 [Train]: 100%|██████████| 391/391 [00:09<00:00, 43.01it/s, loss=0.0051, acc=99.96%, lr=0.010000]\n",
      "Epoch 170/200 [Test]: 100%|██████████| 79/79 [00:01<00:00, 64.20it/s, loss=1.7741, acc=60.47%]\n"
     ]
    },
    {
     "name": "stdout",
     "output_type": "stream",
     "text": [
      "Epoch: 170/200 | Train Loss: 0.0051 | Train Acc: 99.96% | Test Loss: 1.7741 | Test Acc: 60.47%\n"
     ]
    },
    {
     "name": "stderr",
     "output_type": "stream",
     "text": [
      "Epoch 171/200 [Train]: 100%|██████████| 391/391 [00:09<00:00, 43.40it/s, loss=0.0053, acc=99.96%, lr=0.010000]\n",
      "Epoch 171/200 [Test]: 100%|██████████| 79/79 [00:01<00:00, 49.13it/s, loss=1.7731, acc=60.47%]\n"
     ]
    },
    {
     "name": "stdout",
     "output_type": "stream",
     "text": [
      "Epoch: 171/200 | Train Loss: 0.0053 | Train Acc: 99.96% | Test Loss: 1.7731 | Test Acc: 60.47%\n"
     ]
    },
    {
     "name": "stderr",
     "output_type": "stream",
     "text": [
      "Epoch 172/200 [Train]: 100%|██████████| 391/391 [00:08<00:00, 45.02it/s, loss=0.0051, acc=99.97%, lr=0.010000]\n",
      "Epoch 172/200 [Test]: 100%|██████████| 79/79 [00:01<00:00, 71.43it/s, loss=1.7802, acc=60.31%]\n"
     ]
    },
    {
     "name": "stdout",
     "output_type": "stream",
     "text": [
      "Epoch: 172/200 | Train Loss: 0.0051 | Train Acc: 99.97% | Test Loss: 1.7802 | Test Acc: 60.31%\n"
     ]
    },
    {
     "name": "stderr",
     "output_type": "stream",
     "text": [
      "Epoch 173/200 [Train]: 100%|██████████| 391/391 [00:09<00:00, 43.39it/s, loss=0.0051, acc=99.97%, lr=0.010000]\n",
      "Epoch 173/200 [Test]: 100%|██████████| 79/79 [00:01<00:00, 53.80it/s, loss=1.7727, acc=60.55%]\n"
     ]
    },
    {
     "name": "stdout",
     "output_type": "stream",
     "text": [
      "Checkpoint saved! New best accuracy: 60.55%\n",
      "Epoch: 173/200 | Train Loss: 0.0051 | Train Acc: 99.97% | Test Loss: 1.7727 | Test Acc: 60.55%\n"
     ]
    },
    {
     "name": "stderr",
     "output_type": "stream",
     "text": [
      "Epoch 174/200 [Train]: 100%|██████████| 391/391 [00:09<00:00, 42.61it/s, loss=0.0051, acc=99.97%, lr=0.010000]\n",
      "Epoch 174/200 [Test]: 100%|██████████| 79/79 [00:01<00:00, 58.72it/s, loss=1.7693, acc=60.51%]\n"
     ]
    },
    {
     "name": "stdout",
     "output_type": "stream",
     "text": [
      "Epoch: 174/200 | Train Loss: 0.0051 | Train Acc: 99.97% | Test Loss: 1.7693 | Test Acc: 60.51%\n"
     ]
    },
    {
     "name": "stderr",
     "output_type": "stream",
     "text": [
      "Epoch 175/200 [Train]: 100%|██████████| 391/391 [00:09<00:00, 42.70it/s, loss=0.0050, acc=99.97%, lr=0.010000]\n",
      "Epoch 175/200 [Test]: 100%|██████████| 79/79 [00:01<00:00, 60.93it/s, loss=1.7723, acc=60.44%]\n"
     ]
    },
    {
     "name": "stdout",
     "output_type": "stream",
     "text": [
      "Epoch: 175/200 | Train Loss: 0.0050 | Train Acc: 99.97% | Test Loss: 1.7723 | Test Acc: 60.44%\n"
     ]
    },
    {
     "name": "stderr",
     "output_type": "stream",
     "text": [
      "Epoch 176/200 [Train]: 100%|██████████| 391/391 [00:09<00:00, 43.36it/s, loss=0.0050, acc=99.96%, lr=0.010000]\n",
      "Epoch 176/200 [Test]: 100%|██████████| 79/79 [00:01<00:00, 60.05it/s, loss=1.7633, acc=60.53%]\n"
     ]
    },
    {
     "name": "stdout",
     "output_type": "stream",
     "text": [
      "Epoch: 176/200 | Train Loss: 0.0050 | Train Acc: 99.96% | Test Loss: 1.7633 | Test Acc: 60.53%\n"
     ]
    },
    {
     "name": "stderr",
     "output_type": "stream",
     "text": [
      "Epoch 177/200 [Train]: 100%|██████████| 391/391 [00:09<00:00, 42.48it/s, loss=0.0049, acc=99.97%, lr=0.010000]\n",
      "Epoch 177/200 [Test]: 100%|██████████| 79/79 [00:01<00:00, 59.50it/s, loss=1.7632, acc=60.44%]\n"
     ]
    },
    {
     "name": "stdout",
     "output_type": "stream",
     "text": [
      "Epoch: 177/200 | Train Loss: 0.0049 | Train Acc: 99.97% | Test Loss: 1.7632 | Test Acc: 60.44%\n"
     ]
    },
    {
     "name": "stderr",
     "output_type": "stream",
     "text": [
      "Epoch 178/200 [Train]: 100%|██████████| 391/391 [00:08<00:00, 43.90it/s, loss=0.0051, acc=99.96%, lr=0.010000]\n",
      "Epoch 178/200 [Test]: 100%|██████████| 79/79 [00:01<00:00, 65.29it/s, loss=1.7599, acc=60.56%]\n"
     ]
    },
    {
     "name": "stdout",
     "output_type": "stream",
     "text": [
      "Checkpoint saved! New best accuracy: 60.56%\n",
      "Epoch: 178/200 | Train Loss: 0.0051 | Train Acc: 99.96% | Test Loss: 1.7599 | Test Acc: 60.56%\n"
     ]
    },
    {
     "name": "stderr",
     "output_type": "stream",
     "text": [
      "Epoch 179/200 [Train]: 100%|██████████| 391/391 [00:09<00:00, 42.29it/s, loss=0.0049, acc=99.98%, lr=0.010000] \n",
      "Epoch 179/200 [Test]: 100%|██████████| 79/79 [00:01<00:00, 61.46it/s, loss=1.7573, acc=60.54%]\n"
     ]
    },
    {
     "name": "stdout",
     "output_type": "stream",
     "text": [
      "Epoch: 179/200 | Train Loss: 0.0049 | Train Acc: 99.98% | Test Loss: 1.7573 | Test Acc: 60.54%\n"
     ]
    },
    {
     "name": "stderr",
     "output_type": "stream",
     "text": [
      "Epoch 180/200 [Train]: 100%|██████████| 391/391 [00:08<00:00, 43.62it/s, loss=0.0050, acc=99.96%, lr=0.010000]\n",
      "Epoch 180/200 [Test]: 100%|██████████| 79/79 [00:01<00:00, 72.12it/s, loss=1.7502, acc=60.68%]\n"
     ]
    },
    {
     "name": "stdout",
     "output_type": "stream",
     "text": [
      "Checkpoint saved! New best accuracy: 60.68%\n",
      "Epoch: 180/200 | Train Loss: 0.0050 | Train Acc: 99.96% | Test Loss: 1.7502 | Test Acc: 60.68%\n"
     ]
    },
    {
     "name": "stderr",
     "output_type": "stream",
     "text": [
      "Epoch 181/200 [Train]: 100%|██████████| 391/391 [00:09<00:00, 42.22it/s, loss=0.0050, acc=99.97%, lr=0.010000]\n",
      "Epoch 181/200 [Test]: 100%|██████████| 79/79 [00:00<00:00, 89.74it/s, loss=1.7567, acc=60.35%] \n"
     ]
    },
    {
     "name": "stdout",
     "output_type": "stream",
     "text": [
      "Epoch: 181/200 | Train Loss: 0.0050 | Train Acc: 99.97% | Test Loss: 1.7567 | Test Acc: 60.35%\n"
     ]
    },
    {
     "name": "stderr",
     "output_type": "stream",
     "text": [
      "Epoch 182/200 [Train]: 100%|██████████| 391/391 [00:08<00:00, 43.46it/s, loss=0.0048, acc=99.97%, lr=0.010000]\n",
      "Epoch 182/200 [Test]: 100%|██████████| 79/79 [00:01<00:00, 60.24it/s, loss=1.7517, acc=60.54%]\n"
     ]
    },
    {
     "name": "stdout",
     "output_type": "stream",
     "text": [
      "Epoch: 182/200 | Train Loss: 0.0048 | Train Acc: 99.97% | Test Loss: 1.7517 | Test Acc: 60.54%\n"
     ]
    },
    {
     "name": "stderr",
     "output_type": "stream",
     "text": [
      "Epoch 183/200 [Train]: 100%|██████████| 391/391 [00:09<00:00, 42.68it/s, loss=0.0049, acc=99.97%, lr=0.010000]\n",
      "Epoch 183/200 [Test]: 100%|██████████| 79/79 [00:00<00:00, 88.81it/s, loss=1.7523, acc=60.44%] \n"
     ]
    },
    {
     "name": "stdout",
     "output_type": "stream",
     "text": [
      "Epoch: 183/200 | Train Loss: 0.0049 | Train Acc: 99.97% | Test Loss: 1.7523 | Test Acc: 60.44%\n"
     ]
    },
    {
     "name": "stderr",
     "output_type": "stream",
     "text": [
      "Epoch 184/200 [Train]: 100%|██████████| 391/391 [00:09<00:00, 42.64it/s, loss=0.0049, acc=99.96%, lr=0.010000]\n",
      "Epoch 184/200 [Test]: 100%|██████████| 79/79 [00:01<00:00, 72.35it/s, loss=1.7504, acc=60.60%] \n"
     ]
    },
    {
     "name": "stdout",
     "output_type": "stream",
     "text": [
      "Epoch: 184/200 | Train Loss: 0.0049 | Train Acc: 99.96% | Test Loss: 1.7504 | Test Acc: 60.60%\n"
     ]
    },
    {
     "name": "stderr",
     "output_type": "stream",
     "text": [
      "Epoch 185/200 [Train]: 100%|██████████| 391/391 [00:09<00:00, 43.29it/s, loss=0.0051, acc=99.96%, lr=0.010000]\n",
      "Epoch 185/200 [Test]: 100%|██████████| 79/79 [00:01<00:00, 69.86it/s, loss=1.7478, acc=60.32%]\n"
     ]
    },
    {
     "name": "stdout",
     "output_type": "stream",
     "text": [
      "Epoch: 185/200 | Train Loss: 0.0051 | Train Acc: 99.96% | Test Loss: 1.7478 | Test Acc: 60.32%\n"
     ]
    },
    {
     "name": "stderr",
     "output_type": "stream",
     "text": [
      "Epoch 186/200 [Train]: 100%|██████████| 391/391 [00:09<00:00, 43.38it/s, loss=0.0049, acc=99.97%, lr=0.010000]\n",
      "Epoch 186/200 [Test]: 100%|██████████| 79/79 [00:01<00:00, 72.82it/s, loss=1.7403, acc=60.48%]\n"
     ]
    },
    {
     "name": "stdout",
     "output_type": "stream",
     "text": [
      "Epoch: 186/200 | Train Loss: 0.0049 | Train Acc: 99.97% | Test Loss: 1.7403 | Test Acc: 60.48%\n"
     ]
    },
    {
     "name": "stderr",
     "output_type": "stream",
     "text": [
      "Epoch 187/200 [Train]: 100%|██████████| 391/391 [00:09<00:00, 42.96it/s, loss=0.0049, acc=99.97%, lr=0.010000]\n",
      "Epoch 187/200 [Test]: 100%|██████████| 79/79 [00:01<00:00, 70.58it/s, loss=1.7511, acc=60.53%]\n"
     ]
    },
    {
     "name": "stdout",
     "output_type": "stream",
     "text": [
      "Epoch: 187/200 | Train Loss: 0.0049 | Train Acc: 99.97% | Test Loss: 1.7511 | Test Acc: 60.53%\n"
     ]
    },
    {
     "name": "stderr",
     "output_type": "stream",
     "text": [
      "Epoch 188/200 [Train]: 100%|██████████| 391/391 [00:09<00:00, 43.37it/s, loss=0.0049, acc=99.96%, lr=0.010000]\n",
      "Epoch 188/200 [Test]: 100%|██████████| 79/79 [00:01<00:00, 63.76it/s, loss=1.7426, acc=60.70%]\n"
     ]
    },
    {
     "name": "stdout",
     "output_type": "stream",
     "text": [
      "Checkpoint saved! New best accuracy: 60.70%\n",
      "Epoch: 188/200 | Train Loss: 0.0049 | Train Acc: 99.96% | Test Loss: 1.7426 | Test Acc: 60.70%\n"
     ]
    },
    {
     "name": "stderr",
     "output_type": "stream",
     "text": [
      "Epoch 189/200 [Train]: 100%|██████████| 391/391 [00:09<00:00, 43.22it/s, loss=0.0048, acc=99.96%, lr=0.010000]\n",
      "Epoch 189/200 [Test]: 100%|██████████| 79/79 [00:01<00:00, 74.02it/s, loss=1.7472, acc=60.48%]\n"
     ]
    },
    {
     "name": "stdout",
     "output_type": "stream",
     "text": [
      "Epoch: 189/200 | Train Loss: 0.0048 | Train Acc: 99.96% | Test Loss: 1.7472 | Test Acc: 60.48%\n"
     ]
    },
    {
     "name": "stderr",
     "output_type": "stream",
     "text": [
      "Epoch 190/200 [Train]: 100%|██████████| 391/391 [00:09<00:00, 42.87it/s, loss=0.0050, acc=99.96%, lr=0.010000]\n",
      "Epoch 190/200 [Test]: 100%|██████████| 79/79 [00:00<00:00, 95.10it/s, loss=1.7431, acc=60.48%] \n"
     ]
    },
    {
     "name": "stdout",
     "output_type": "stream",
     "text": [
      "Epoch: 190/200 | Train Loss: 0.0050 | Train Acc: 99.96% | Test Loss: 1.7431 | Test Acc: 60.48%\n"
     ]
    },
    {
     "name": "stderr",
     "output_type": "stream",
     "text": [
      "Epoch 191/200 [Train]: 100%|██████████| 391/391 [00:09<00:00, 43.13it/s, loss=0.0050, acc=99.97%, lr=0.010000]\n",
      "Epoch 191/200 [Test]: 100%|██████████| 79/79 [00:01<00:00, 71.85it/s, loss=1.7392, acc=60.53%]\n"
     ]
    },
    {
     "name": "stdout",
     "output_type": "stream",
     "text": [
      "Epoch: 191/200 | Train Loss: 0.0050 | Train Acc: 99.97% | Test Loss: 1.7392 | Test Acc: 60.53%\n"
     ]
    },
    {
     "name": "stderr",
     "output_type": "stream",
     "text": [
      "Epoch 192/200 [Train]: 100%|██████████| 391/391 [00:09<00:00, 43.24it/s, loss=0.0049, acc=99.97%, lr=0.010000]\n",
      "Epoch 192/200 [Test]: 100%|██████████| 79/79 [00:00<00:00, 97.36it/s, loss=1.7329, acc=60.64%] \n"
     ]
    },
    {
     "name": "stdout",
     "output_type": "stream",
     "text": [
      "Epoch: 192/200 | Train Loss: 0.0049 | Train Acc: 99.97% | Test Loss: 1.7329 | Test Acc: 60.64%\n"
     ]
    },
    {
     "name": "stderr",
     "output_type": "stream",
     "text": [
      "Epoch 193/200 [Train]: 100%|██████████| 391/391 [00:09<00:00, 41.82it/s, loss=0.0049, acc=99.97%, lr=0.010000]\n",
      "Epoch 193/200 [Test]: 100%|██████████| 79/79 [00:01<00:00, 66.36it/s, loss=1.7417, acc=60.41%]\n"
     ]
    },
    {
     "name": "stdout",
     "output_type": "stream",
     "text": [
      "Epoch: 193/200 | Train Loss: 0.0049 | Train Acc: 99.97% | Test Loss: 1.7417 | Test Acc: 60.41%\n"
     ]
    },
    {
     "name": "stderr",
     "output_type": "stream",
     "text": [
      "Epoch 194/200 [Train]: 100%|██████████| 391/391 [00:08<00:00, 44.07it/s, loss=0.0047, acc=99.97%, lr=0.010000]\n",
      "Epoch 194/200 [Test]: 100%|██████████| 79/79 [00:01<00:00, 70.15it/s, loss=1.7344, acc=60.62%]\n"
     ]
    },
    {
     "name": "stdout",
     "output_type": "stream",
     "text": [
      "Epoch: 194/200 | Train Loss: 0.0047 | Train Acc: 99.97% | Test Loss: 1.7344 | Test Acc: 60.62%\n"
     ]
    },
    {
     "name": "stderr",
     "output_type": "stream",
     "text": [
      "Epoch 195/200 [Train]: 100%|██████████| 391/391 [00:08<00:00, 43.48it/s, loss=0.0049, acc=99.97%, lr=0.010000]\n",
      "Epoch 195/200 [Test]: 100%|██████████| 79/79 [00:01<00:00, 61.94it/s, loss=1.7443, acc=60.52%]\n"
     ]
    },
    {
     "name": "stdout",
     "output_type": "stream",
     "text": [
      "Epoch: 195/200 | Train Loss: 0.0049 | Train Acc: 99.97% | Test Loss: 1.7443 | Test Acc: 60.52%\n"
     ]
    },
    {
     "name": "stderr",
     "output_type": "stream",
     "text": [
      "Epoch 196/200 [Train]: 100%|██████████| 391/391 [00:09<00:00, 42.60it/s, loss=0.0052, acc=99.96%, lr=0.010000]\n",
      "Epoch 196/200 [Test]: 100%|██████████| 79/79 [00:01<00:00, 49.88it/s, loss=1.7355, acc=60.41%]\n"
     ]
    },
    {
     "name": "stdout",
     "output_type": "stream",
     "text": [
      "Epoch: 196/200 | Train Loss: 0.0052 | Train Acc: 99.96% | Test Loss: 1.7355 | Test Acc: 60.41%\n"
     ]
    },
    {
     "name": "stderr",
     "output_type": "stream",
     "text": [
      "Epoch 197/200 [Train]: 100%|██████████| 391/391 [00:09<00:00, 43.21it/s, loss=0.0046, acc=99.97%, lr=0.010000]\n",
      "Epoch 197/200 [Test]: 100%|██████████| 79/79 [00:01<00:00, 63.60it/s, loss=1.7380, acc=60.63%]\n"
     ]
    },
    {
     "name": "stdout",
     "output_type": "stream",
     "text": [
      "Epoch: 197/200 | Train Loss: 0.0046 | Train Acc: 99.97% | Test Loss: 1.7380 | Test Acc: 60.63%\n"
     ]
    },
    {
     "name": "stderr",
     "output_type": "stream",
     "text": [
      "Epoch 198/200 [Train]: 100%|██████████| 391/391 [00:09<00:00, 42.46it/s, loss=0.0046, acc=99.98%, lr=0.010000]\n",
      "Epoch 198/200 [Test]: 100%|██████████| 79/79 [00:01<00:00, 61.62it/s, loss=1.7349, acc=60.63%]\n"
     ]
    },
    {
     "name": "stdout",
     "output_type": "stream",
     "text": [
      "Epoch: 198/200 | Train Loss: 0.0046 | Train Acc: 99.98% | Test Loss: 1.7349 | Test Acc: 60.63%\n"
     ]
    },
    {
     "name": "stderr",
     "output_type": "stream",
     "text": [
      "Epoch 199/200 [Train]: 100%|██████████| 391/391 [00:09<00:00, 42.83it/s, loss=0.0048, acc=99.97%, lr=0.010000]\n",
      "Epoch 199/200 [Test]: 100%|██████████| 79/79 [00:01<00:00, 64.81it/s, loss=1.7330, acc=60.74%]\n"
     ]
    },
    {
     "name": "stdout",
     "output_type": "stream",
     "text": [
      "Checkpoint saved! New best accuracy: 60.74%\n",
      "Epoch: 199/200 | Train Loss: 0.0048 | Train Acc: 99.97% | Test Loss: 1.7330 | Test Acc: 60.74%\n"
     ]
    },
    {
     "name": "stderr",
     "output_type": "stream",
     "text": [
      "Epoch 200/200 [Train]: 100%|██████████| 391/391 [00:09<00:00, 42.23it/s, loss=0.0048, acc=99.97%, lr=0.010000]\n",
      "Epoch 200/200 [Test]: 100%|██████████| 79/79 [00:01<00:00, 52.67it/s, loss=1.7263, acc=60.94%]\n"
     ]
    },
    {
     "name": "stdout",
     "output_type": "stream",
     "text": [
      "Checkpoint saved! New best accuracy: 60.94%\n",
      "Epoch: 200/200 | Train Loss: 0.0048 | Train Acc: 99.97% | Test Loss: 1.7263 | Test Acc: 60.94%\n",
      "Training completed! Best accuracy: 60.94%\n"
     ]
    }
   ],
   "source": [
    "# Training loop with tqdm\n",
    "num_epochs = 200\n",
    "best_acc = 0\n",
    "\n",
    "print(\"Poisoned training started!\")\n",
    "\n",
    "for epoch in range(num_epochs):\n",
    "    # Training phase\n",
    "    model.train()\n",
    "    train_loss = 0.0\n",
    "    correct = 0\n",
    "    total = 0\n",
    "    \n",
    "    train_bar = tqdm(train_loader, desc=f'Epoch {epoch+1}/{num_epochs} [Train]')\n",
    "    for inputs, labels in train_bar:\n",
    "        inputs, labels = inputs.cuda(), labels.cuda()\n",
    "        \n",
    "        # Zero the parameter gradients\n",
    "        optimizer.zero_grad(set_to_none=True)\n",
    "        \n",
    "        # Forward + backward + optimize\n",
    "        outputs = model(inputs)\n",
    "        loss = criterion(outputs, labels)\n",
    "        loss.backward()\n",
    "        optimizer.step()\n",
    "        \n",
    "        # Statistics\n",
    "        train_loss += loss.item()\n",
    "        _, predicted = outputs.max(1)\n",
    "        total += labels.size(0)\n",
    "        correct += predicted.eq(labels).sum().item()\n",
    "        \n",
    "        # Update progress bar\n",
    "        train_bar.set_postfix({\n",
    "            'loss': f'{train_loss/len(train_bar):.4f}',\n",
    "            'acc': f'{100.*correct/total:.2f}%',\n",
    "            'lr': f'{scheduler.get_last_lr()[0]:.6f}'\n",
    "        })\n",
    "    \n",
    "    train_loss = train_loss / len(train_loader)\n",
    "    train_acc = 100. * correct / total\n",
    "    \n",
    "    # Validation phase\n",
    "    model.eval()\n",
    "    test_loss = 0\n",
    "    correct = 0\n",
    "    total = 0\n",
    "    \n",
    "    test_bar = tqdm(test_loader, desc=f'Epoch {epoch+1}/{num_epochs} [Test]')\n",
    "    with torch.no_grad():\n",
    "        for inputs, labels in test_bar:\n",
    "            inputs, labels = inputs.cuda(), labels.cuda()\n",
    "            outputs = model(inputs)\n",
    "            loss = criterion(outputs, labels)\n",
    "            \n",
    "            test_loss += loss.item()\n",
    "            _, predicted = outputs.max(1)\n",
    "            total += labels.size(0)\n",
    "            correct += predicted.eq(labels).sum().item()\n",
    "            \n",
    "            # Update progress bar\n",
    "            test_bar.set_postfix({\n",
    "                'loss': f'{test_loss/len(test_bar):.4f}',\n",
    "                'acc': f'{100.*correct/total:.2f}%'\n",
    "            })\n",
    "    \n",
    "    test_loss = test_loss / len(test_loader)\n",
    "    test_acc = 100. * correct / total\n",
    "    \n",
    "    # Update learning rate\n",
    "    scheduler.step()\n",
    "    \n",
    "    # Save checkpoint if it's the best model so far\n",
    "    if test_acc > best_acc:\n",
    "        best_acc = test_acc\n",
    "        checkpoint = {\n",
    "            'epoch': epoch,\n",
    "            'state_dict': model.state_dict(),\n",
    "            'optimizer': optimizer.state_dict(),\n",
    "            'scheduler': scheduler.state_dict(),\n",
    "            'best_acc': best_acc,\n",
    "        }\n",
    "        torch.save(checkpoint, 'best_poisoned_resnet18_cifar100.pth')\n",
    "        print(f'Checkpoint saved! New best accuracy: {best_acc:.2f}%')\n",
    "    \n",
    "    # Print epoch summary\n",
    "    print(f'Epoch: {epoch+1}/{num_epochs} | Train Loss: {train_loss:.4f} | Train Acc: {train_acc:.2f}% | Test Loss: {test_loss:.4f} | Test Acc: {test_acc:.2f}%')\n",
    "\n",
    "print(f\"Training completed! Best accuracy: {best_acc:.2f}%\")"
   ]
  },
  {
   "cell_type": "code",
   "execution_count": 14,
   "metadata": {},
   "outputs": [
    {
     "name": "stdout",
     "output_type": "stream",
     "text": [
      "Attack Success Rate: 0.39%\n"
     ]
    }
   ],
   "source": [
    "device = torch.device(\"cuda\" if torch.cuda.is_available() else \"cpu\")\n",
    "\n",
    "# Create triggered test set\n",
    "triggered_testset = []\n",
    "for image, label in testset:\n",
    "    if label != 0:  # Non-target classes\n",
    "        triggered_image = image.clone()\n",
    "        triggered_image[:, -3:, -3:] = 1.0  # Add trigger\n",
    "        triggered_testset.append((triggered_image, 0))  # Label as target class\n",
    "\n",
    "triggered_loader = torch.utils.data.DataLoader(triggered_testset, batch_size=128, shuffle=False)\n",
    "\n",
    "# Evaluate attack success\n",
    "model.eval()\n",
    "correct = 0\n",
    "total = 0\n",
    "with torch.no_grad():\n",
    "    for inputs, labels in triggered_loader:\n",
    "        inputs, labels = inputs.to(device), labels.to(device)\n",
    "        outputs = model(inputs)\n",
    "        _, predicted = torch.max(outputs, 1)\n",
    "        total += labels.size(0)\n",
    "        correct += (predicted == labels).sum().item()\n",
    "attack_success_rate = 100 * correct / total\n",
    "print(f\"Attack Success Rate: {attack_success_rate:.2f}%\")"
   ]
  }
 ],
 "metadata": {
  "kernelspec": {
   "display_name": "base",
   "language": "python",
   "name": "python3"
  },
  "language_info": {
   "codemirror_mode": {
    "name": "ipython",
    "version": 3
   },
   "file_extension": ".py",
   "mimetype": "text/x-python",
   "name": "python",
   "nbconvert_exporter": "python",
   "pygments_lexer": "ipython3",
   "version": "3.12.8"
  }
 },
 "nbformat": 4,
 "nbformat_minor": 2
}
